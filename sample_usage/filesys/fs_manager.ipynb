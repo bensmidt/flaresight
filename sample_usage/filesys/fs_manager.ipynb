{
 "cells": [
  {
   "cell_type": "markdown",
   "metadata": {},
   "source": [
    "### Setup"
   ]
  },
  {
   "cell_type": "code",
   "execution_count": 52,
   "metadata": {},
   "outputs": [
    {
     "name": "stdout",
     "output_type": "stream",
     "text": [
      "The autoreload extension is already loaded. To reload it, use:\n",
      "  %reload_ext autoreload\n"
     ]
    }
   ],
   "source": [
    "%load_ext autoreload\n",
    "%autoreload 2"
   ]
  },
  {
   "cell_type": "code",
   "execution_count": 53,
   "metadata": {},
   "outputs": [],
   "source": [
    "import sys, os"
   ]
  },
  {
   "cell_type": "code",
   "execution_count": 54,
   "metadata": {},
   "outputs": [
    {
     "name": "stdout",
     "output_type": "stream",
     "text": [
      "['/Users/bensmidt/Documents/cai/backend/src', '/Users/bensmidt/Documents/cai/backend/test', '/Users/bensmidt/Documents/cai/backend/src', '/Users/bensmidt/Documents/cai/backend/test', '/Users/bensmidt/Documents/cai/backend/src', '/Users/bensmidt/Documents/cai/backend/test', '/Users/bensmidt/Documents/cai/backend/sample_usage/filesys', '/opt/homebrew/Cellar/python@3.11/3.11.5/Frameworks/Python.framework/Versions/3.11/lib/python311.zip', '/opt/homebrew/Cellar/python@3.11/3.11.5/Frameworks/Python.framework/Versions/3.11/lib/python3.11', '/opt/homebrew/Cellar/python@3.11/3.11.5/Frameworks/Python.framework/Versions/3.11/lib/python3.11/lib-dynload', '', '/Users/bensmidt/Documents/cai/backend/env/lib/python3.11/site-packages', '/Users/bensmidt/Documents/cai/backend/src']\n"
     ]
    }
   ],
   "source": [
    "ROOT_PATH = os.path.abspath(os.path.join(\"..\", \"..\"))\n",
    "SRC_PATH = os.path.join(ROOT_PATH, \"src\")\n",
    "TEST_PATH = os.path.join(ROOT_PATH, \"test\")\n",
    "sys.path.insert(0, TEST_PATH)\n",
    "sys.path.insert(0, SRC_PATH)\n",
    "print(sys.path)"
   ]
  },
  {
   "cell_type": "code",
   "execution_count": 55,
   "metadata": {},
   "outputs": [],
   "source": [
    "from filesys.dir import Dir\n",
    "from filesys.file import File\n",
    "from filesys.fs_manager import FileSystemManager\n",
    "from test_files import TestFiles"
   ]
  },
  {
   "cell_type": "code",
   "execution_count": 56,
   "metadata": {},
   "outputs": [],
   "source": [
    "fs_manager = FileSystemManager()\n",
    "test_files = TestFiles()"
   ]
  },
  {
   "cell_type": "markdown",
   "metadata": {},
   "source": [
    "## Paths"
   ]
  },
  {
   "cell_type": "code",
   "execution_count": 57,
   "metadata": {},
   "outputs": [],
   "source": [
    "INVALID_PATH = test_files.get_invalid_paths()[0]\n",
    "\n",
    "FILE_PATH1 = test_files.get_file_paths()[0]\n",
    "FILE_PATH2 = test_files.get_file_paths()[1]\n",
    "\n",
    "TEST_TXT_PATH1 = os.path.join(ROOT_PATH, \"test_files\", \"filesys\", \"test1.txt\")\n",
    "TEST_JSON_PATH1 = os.path.join(ROOT_PATH, \"test_files\", \"filesys\", \"test1.json\")\n",
    "TEST_DIR_PATH = os.path.join(ROOT_PATH, \"test_files\", \"filesys\", \"test_dir\")"
   ]
  },
  {
   "cell_type": "markdown",
   "metadata": {},
   "source": [
    "## Sandbox"
   ]
  },
  {
   "cell_type": "code",
   "execution_count": null,
   "metadata": {},
   "outputs": [],
   "source": []
  },
  {
   "cell_type": "markdown",
   "metadata": {},
   "source": [
    "## assert_paths_not_equal()"
   ]
  },
  {
   "cell_type": "code",
   "execution_count": 58,
   "metadata": {},
   "outputs": [
    {
     "name": "stderr",
     "output_type": "stream",
     "text": [
      "ERROR:root:path1 with path '/Users/bensmidt/Documents/cai/backend/test_files/transcription/essential_developer_test.json' is equal to path2 with path '/Users/bensmidt/Documents/cai/backend/test_files/transcription/essential_developer_test.json' but paths are supposed to be different.\n"
     ]
    },
    {
     "ename": "FileSystemObjectError",
     "evalue": "path1 with path '/Users/bensmidt/Documents/cai/backend/test_files/transcription/essential_developer_test.json' is equal to path2 with path '/Users/bensmidt/Documents/cai/backend/test_files/transcription/essential_developer_test.json' but paths are supposed to be different.",
     "output_type": "error",
     "traceback": [
      "\u001b[0;31m---------------------------------------------------------------------------\u001b[0m",
      "\u001b[0;31mFileSystemObjectError\u001b[0m                     Traceback (most recent call last)",
      "Cell \u001b[0;32mIn[58], line 6\u001b[0m\n\u001b[1;32m      4\u001b[0m path1_name \u001b[39m=\u001b[39m \u001b[39m\"\u001b[39m\u001b[39mpath1\u001b[39m\u001b[39m\"\u001b[39m\n\u001b[1;32m      5\u001b[0m path2_name \u001b[39m=\u001b[39m \u001b[39m\"\u001b[39m\u001b[39mpath2\u001b[39m\u001b[39m\"\u001b[39m\n\u001b[0;32m----> 6\u001b[0m \u001b[39mprint\u001b[39m(\u001b[39m\"\u001b[39m\u001b[39mEqual:\u001b[39m\u001b[39m\"\u001b[39m, fs_manager\u001b[39m.\u001b[39;49massert_paths_not_equal(path1, path2, path1_name, path2_name))\n",
      "File \u001b[0;32m~/Documents/cai/backend/src/filesys/fs_manager.py:111\u001b[0m, in \u001b[0;36mFileSystemManager.assert_paths_not_equal\u001b[0;34m(self, path1, path2, path1_name, path2_name)\u001b[0m\n\u001b[1;32m    106\u001b[0m msg \u001b[39m=\u001b[39m (\n\u001b[1;32m    107\u001b[0m     \u001b[39mf\u001b[39m\u001b[39m\"\u001b[39m\u001b[39m{\u001b[39;00mpath1_name\u001b[39m}\u001b[39;00m\u001b[39m with path \u001b[39m\u001b[39m'\u001b[39m\u001b[39m{\u001b[39;00mpath1\u001b[39m}\u001b[39;00m\u001b[39m'\u001b[39m\u001b[39m is equal to \u001b[39m\u001b[39m{\u001b[39;00mpath2_name\u001b[39m}\u001b[39;00m\u001b[39m with path \u001b[39m\u001b[39m\"\u001b[39m\n\u001b[1;32m    108\u001b[0m     \u001b[39mf\u001b[39m\u001b[39m\"\u001b[39m\u001b[39m'\u001b[39m\u001b[39m{\u001b[39;00mpath2\u001b[39m}\u001b[39;00m\u001b[39m'\u001b[39m\u001b[39m but paths are supposed to be different.\u001b[39m\u001b[39m\"\u001b[39m\n\u001b[1;32m    109\u001b[0m )\n\u001b[1;32m    110\u001b[0m logging\u001b[39m.\u001b[39merror(msg)\n\u001b[0;32m--> 111\u001b[0m \u001b[39mraise\u001b[39;00m FileSystemObjectError(msg)\n",
      "\u001b[0;31mFileSystemObjectError\u001b[0m: path1 with path '/Users/bensmidt/Documents/cai/backend/test_files/transcription/essential_developer_test.json' is equal to path2 with path '/Users/bensmidt/Documents/cai/backend/test_files/transcription/essential_developer_test.json' but paths are supposed to be different."
     ]
    }
   ],
   "source": [
    "# paths equal\n",
    "path1 = FILE_PATH1\n",
    "path2 = FILE_PATH1\n",
    "path1_name = \"path1\"\n",
    "path2_name = \"path2\"\n",
    "print(\"Equal:\", fs_manager.assert_paths_not_equal(path1, path2, path1_name, path2_name))"
   ]
  },
  {
   "cell_type": "code",
   "execution_count": null,
   "metadata": {},
   "outputs": [
    {
     "name": "stdout",
     "output_type": "stream",
     "text": [
      "Not Equal: None\n"
     ]
    }
   ],
   "source": [
    "# paths not equal\n",
    "path1 = FILE_PATH1\n",
    "path2 = FILE_PATH2\n",
    "path1_name = \"path1\"\n",
    "path2_name = \"path2\"\n",
    "print(\n",
    "    \"Not Equal:\",\n",
    "    fs_manager.assert_paths_not_equal(path1, path2, path1_name, path2_name),\n",
    ")"
   ]
  },
  {
   "cell_type": "markdown",
   "metadata": {},
   "source": [
    "## create_file()"
   ]
  },
  {
   "cell_type": "code",
   "execution_count": 71,
   "metadata": {},
   "outputs": [
    {
     "data": {
      "text/plain": [
       "'/Users/bensmidt/Documents/cai/backend/test_files/filesys/test1.txt'"
      ]
     },
     "execution_count": 71,
     "metadata": {},
     "output_type": "execute_result"
    }
   ],
   "source": [
    "file = fs_manager.create_file(TEST_TXT_PATH1, \"\")\n",
    "file.get_path()"
   ]
  },
  {
   "cell_type": "markdown",
   "metadata": {},
   "source": [
    "## create_json_file()"
   ]
  },
  {
   "cell_type": "code",
   "execution_count": 72,
   "metadata": {},
   "outputs": [
    {
     "data": {
      "text/plain": [
       "'/Users/bensmidt/Documents/cai/backend/test_files/filesys/test1.json'"
      ]
     },
     "execution_count": 72,
     "metadata": {},
     "output_type": "execute_result"
    }
   ],
   "source": [
    "file = fs_manager.create_json_file(TEST_JSON_PATH1, {})\n",
    "file.get_path()"
   ]
  },
  {
   "cell_type": "markdown",
   "metadata": {},
   "source": [
    "## create_dir()"
   ]
  },
  {
   "cell_type": "code",
   "execution_count": 64,
   "metadata": {},
   "outputs": [
    {
     "data": {
      "text/plain": [
       "'/Users/bensmidt/Documents/cai/backend/test_files/filesys/test_dir'"
      ]
     },
     "execution_count": 64,
     "metadata": {},
     "output_type": "execute_result"
    }
   ],
   "source": [
    "dir = fs_manager.create_dir(TEST_DIR_PATH)\n",
    "dir.get_path()"
   ]
  },
  {
   "cell_type": "markdown",
   "metadata": {},
   "source": [
    "## filter_filename()"
   ]
  },
  {
   "cell_type": "code",
   "execution_count": 69,
   "metadata": {},
   "outputs": [
    {
     "name": "stdout",
     "output_type": "stream",
     "text": [
      "\n"
     ]
    }
   ],
   "source": [
    "fs_manager = FileSystemManager()\n",
    "filtered_filename = fs_manager.filter_filename('\\\\/.,:*?\"<>|')\n",
    "print(filtered_filename)"
   ]
  },
  {
   "cell_type": "code",
   "execution_count": 70,
   "metadata": {},
   "outputs": [
    {
     "name": "stdout",
     "output_type": "stream",
     "text": [
      "random string of characters\n"
     ]
    }
   ],
   "source": [
    "fs_manager = FileSystemManager()\n",
    "filtered_filename = fs_manager.filter_filename('random /.,string* of?\"<>| characters')\n",
    "print(filtered_filename)"
   ]
  }
 ],
 "metadata": {
  "kernelspec": {
   "display_name": "env",
   "language": "python",
   "name": "python3"
  },
  "language_info": {
   "codemirror_mode": {
    "name": "ipython",
    "version": 3
   },
   "file_extension": ".py",
   "mimetype": "text/x-python",
   "name": "python",
   "nbconvert_exporter": "python",
   "pygments_lexer": "ipython3",
   "version": "3.11.5"
  },
  "orig_nbformat": 4
 },
 "nbformat": 4,
 "nbformat_minor": 2
}
