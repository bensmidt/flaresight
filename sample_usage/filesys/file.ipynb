{
 "cells": [
  {
   "attachments": {},
   "cell_type": "markdown",
   "metadata": {},
   "source": [
    "### Setup"
   ]
  },
  {
   "cell_type": "code",
   "execution_count": 1,
   "metadata": {},
   "outputs": [],
   "source": [
    "%load_ext autoreload\n",
    "%autoreload 2"
   ]
  },
  {
   "cell_type": "code",
   "execution_count": 3,
   "metadata": {},
   "outputs": [
    {
     "name": "stdout",
     "output_type": "stream",
     "text": [
      "['/Users/bensmidt/Documents/cai/backend/src', '/Users/bensmidt/Documents/cai/backend/test', '/Users/bensmidt/Documents/cai/backend/sample_usage/filesys', '/opt/homebrew/Cellar/python@3.11/3.11.5/Frameworks/Python.framework/Versions/3.11/lib/python311.zip', '/opt/homebrew/Cellar/python@3.11/3.11.5/Frameworks/Python.framework/Versions/3.11/lib/python3.11', '/opt/homebrew/Cellar/python@3.11/3.11.5/Frameworks/Python.framework/Versions/3.11/lib/python3.11/lib-dynload', '', '/Users/bensmidt/Documents/cai/backend/env/lib/python3.11/site-packages', '/Users/bensmidt/Documents/cai/backend/src']\n"
     ]
    }
   ],
   "source": [
    "import sys, os\n",
    "\n",
    "ROOT_PATH = os.path.abspath(os.path.join(\"..\", \"..\"))\n",
    "SRC_PATH = os.path.join(ROOT_PATH, \"src\")\n",
    "TEST_PATH = os.path.join(ROOT_PATH, \"test\")\n",
    "sys.path.insert(0, TEST_PATH)\n",
    "sys.path.insert(0, SRC_PATH)\n",
    "print(sys.path)"
   ]
  },
  {
   "cell_type": "code",
   "execution_count": 4,
   "metadata": {},
   "outputs": [],
   "source": [
    "from filesys.file import File\n",
    "from filesys.fs_manager import FileSystemManager\n",
    "from test_files import TestFiles"
   ]
  },
  {
   "cell_type": "code",
   "execution_count": 5,
   "metadata": {},
   "outputs": [],
   "source": [
    "fs_manager = FileSystemManager()\n",
    "test_files = TestFiles()"
   ]
  },
  {
   "cell_type": "markdown",
   "metadata": {},
   "source": [
    "## Paths"
   ]
  },
  {
   "cell_type": "code",
   "execution_count": 30,
   "metadata": {},
   "outputs": [],
   "source": [
    "INVALID_PATH = test_files.get_invalid_paths()[0]\n",
    "\n",
    "DIRECTORY_PATH = test_files.get_test_files_dir().get_path()\n",
    "\n",
    "MP4_PATH = test_files.get_mp4_video_file_paths()[0]\n",
    "JSON_PATH = test_files.get_json_file_paths()[3]\n",
    "PY_PATH = os.path.join(ROOT_PATH, \"template.py\")"
   ]
  },
  {
   "cell_type": "markdown",
   "metadata": {},
   "source": [
    "## Sandbox"
   ]
  },
  {
   "cell_type": "code",
   "execution_count": 31,
   "metadata": {},
   "outputs": [
    {
     "data": {
      "text/plain": [
       "'application/json'"
      ]
     },
     "execution_count": 31,
     "metadata": {},
     "output_type": "execute_result"
    }
   ],
   "source": [
    "file = File(JSON_PATH)\n",
    "file.get_mime_type()"
   ]
  },
  {
   "cell_type": "markdown",
   "metadata": {},
   "source": [
    "## delete()"
   ]
  },
  {
   "cell_type": "markdown",
   "metadata": {},
   "source": [
    "## move()"
   ]
  },
  {
   "cell_type": "markdown",
   "metadata": {},
   "source": [
    "## check_exists()"
   ]
  },
  {
   "cell_type": "code",
   "execution_count": 32,
   "metadata": {},
   "outputs": [
    {
     "name": "stdout",
     "output_type": "stream",
     "text": [
      "Valid path: None\n",
      "Invalid path: '/Users/bensmidt/Documents/cai/backend/test_files' is a valid FileSystemObject but not a valid File.\n"
     ]
    }
   ],
   "source": [
    "file = File(JSON_PATH)\n",
    "print(\"Valid path:\", file.check_exists())\n",
    "\n",
    "file = File(DIRECTORY_PATH)\n",
    "print(\"Invalid path:\", file.check_exists())"
   ]
  },
  {
   "cell_type": "markdown",
   "metadata": {},
   "source": [
    "## get_file_size()"
   ]
  },
  {
   "cell_type": "code",
   "execution_count": 33,
   "metadata": {},
   "outputs": [
    {
     "name": "stdout",
     "output_type": "stream",
     "text": [
      "Bytes: 9044572\n",
      "KiloBytes: 9044.572\n",
      "MegaBytes: 9.044572\n",
      "GigaBytes: 0.009044572\n"
     ]
    }
   ],
   "source": [
    "file = File(MP4_PATH)\n",
    "file_size = file.get_file_size()\n",
    "print(\"Bytes:\", file_size)\n",
    "print(\"KiloBytes:\", file_size / (10**3))\n",
    "print(\"MegaBytes:\", file_size / (10**6))\n",
    "print(\"GigaBytes:\", file_size / (10**9))"
   ]
  },
  {
   "attachments": {},
   "cell_type": "markdown",
   "metadata": {},
   "source": [
    "## get_mime_type()"
   ]
  },
  {
   "cell_type": "code",
   "execution_count": 34,
   "metadata": {},
   "outputs": [
    {
     "name": "stdout",
     "output_type": "stream",
     "text": [
      "Mime Type: video/mp4\n",
      "Mime Type: text/plain\n",
      "Mime Type: application/json\n"
     ]
    }
   ],
   "source": [
    "file = File(MP4_PATH)\n",
    "mime_type = file.get_mime_type()\n",
    "print(\"Mime Type:\", mime_type)\n",
    "\n",
    "file = File(PY_PATH)\n",
    "mime_type = file.get_mime_type()\n",
    "print(\"Mime Type:\", mime_type)\n",
    "\n",
    "file = File(JSON_PATH)\n",
    "mime_type = file.get_mime_type()\n",
    "print(\"Mime Type:\", mime_type)"
   ]
  },
  {
   "cell_type": "markdown",
   "metadata": {},
   "source": [
    "## get_mime_primary_type()"
   ]
  },
  {
   "cell_type": "code",
   "execution_count": 35,
   "metadata": {},
   "outputs": [
    {
     "name": "stdout",
     "output_type": "stream",
     "text": [
      "File Type: video\n",
      "File Type: text\n",
      "File Type: application\n"
     ]
    }
   ],
   "source": [
    "file = File(MP4_PATH)\n",
    "file_type = file.get_mime_primary_type()\n",
    "print(\"File Type:\", file_type)\n",
    "\n",
    "file = File(PY_PATH)\n",
    "file_type = file.get_mime_primary_type()\n",
    "print(\"File Type:\", file_type)\n",
    "\n",
    "file = File(JSON_PATH)\n",
    "file_type = file.get_mime_primary_type()\n",
    "print(\"File Type:\", file_type)"
   ]
  },
  {
   "cell_type": "markdown",
   "metadata": {},
   "source": [
    "## get_mime_secondary_type()"
   ]
  },
  {
   "cell_type": "code",
   "execution_count": 36,
   "metadata": {},
   "outputs": [
    {
     "name": "stdout",
     "output_type": "stream",
     "text": [
      "File Subtype: mp4\n",
      "File Subtype: plain\n",
      "File Subtype: json\n"
     ]
    }
   ],
   "source": [
    "file = File(MP4_PATH)\n",
    "file_subtype = file.get_mime_secondary_type()\n",
    "print(\"File Subtype:\", file_subtype)\n",
    "\n",
    "file = File(PY_PATH)\n",
    "file_subtype = file.get_mime_secondary_type()\n",
    "print(\"File Subtype:\", file_subtype)\n",
    "\n",
    "file = File(JSON_PATH)\n",
    "file_subtype = file.get_mime_secondary_type()\n",
    "print(\"File Subtype:\", file_subtype)"
   ]
  },
  {
   "cell_type": "markdown",
   "metadata": {},
   "source": [
    "## get_file_extension()"
   ]
  },
  {
   "cell_type": "code",
   "execution_count": 37,
   "metadata": {},
   "outputs": [
    {
     "name": "stdout",
     "output_type": "stream",
     "text": [
      "File Extension: mp4\n",
      "File Extension: py\n",
      "File Extension: json\n",
      "File Extension: None\n"
     ]
    }
   ],
   "source": [
    "file = File(MP4_PATH)\n",
    "file_extension = file.get_file_extension()\n",
    "print(\"File Extension:\", file_extension)\n",
    "\n",
    "file = File(PY_PATH)\n",
    "file_extension = file.get_file_extension()\n",
    "print(\"File Extension:\", file_extension)\n",
    "\n",
    "file = File(JSON_PATH)\n",
    "file_extension = file.get_file_extension()\n",
    "print(\"File Extension:\", file_extension)\n",
    "\n",
    "file = File(os.path.join(ROOT_PATH, \"test_files\", \"deleteme\", \"deleteme\"))\n",
    "file_extension = file.get_file_extension()\n",
    "print(\"File Extension:\", file_extension)"
   ]
  },
  {
   "cell_type": "markdown",
   "metadata": {},
   "source": [
    "## check_has_file_extension()"
   ]
  },
  {
   "cell_type": "code",
   "execution_count": 38,
   "metadata": {},
   "outputs": [
    {
     "name": "stdout",
     "output_type": "stream",
     "text": [
      "Correct file extension: None\n",
      "Incorrect file extension: File '/Users/bensmidt/Documents/cai/backend/test_files/media/video/mp4/aod_test_copy.mp4' should have extension 'mp3' not 'mp4'.\n"
     ]
    }
   ],
   "source": [
    "file = File(MP4_PATH)\n",
    "print(\"Correct file extension:\", file.check_has_file_extension(\"mp4\"))\n",
    "print(\"Incorrect file extension:\", file.check_has_file_extension(\"mp3\"))"
   ]
  },
  {
   "cell_type": "markdown",
   "metadata": {},
   "source": [
    "## has_file_extension()"
   ]
  },
  {
   "cell_type": "code",
   "execution_count": 39,
   "metadata": {},
   "outputs": [
    {
     "name": "stdout",
     "output_type": "stream",
     "text": [
      "Correct file extension: True\n",
      "Incorrect file extension: False\n"
     ]
    }
   ],
   "source": [
    "file = File(MP4_PATH)\n",
    "print(\"Correct file extension:\", file.has_file_extension(\"mp4\"))\n",
    "print(\"Incorrect file extension:\", file.has_file_extension(\"mp3\"))"
   ]
  },
  {
   "cell_type": "markdown",
   "metadata": {},
   "source": [
    "## assert_has_file_extension()"
   ]
  },
  {
   "cell_type": "code",
   "execution_count": 40,
   "metadata": {},
   "outputs": [
    {
     "name": "stdout",
     "output_type": "stream",
     "text": [
      "Correct file extension: None\n"
     ]
    }
   ],
   "source": [
    "file = File(MP4_PATH)\n",
    "print(\"Correct file extension:\", file.assert_has_file_extension(\"mp4\"))"
   ]
  },
  {
   "cell_type": "code",
   "execution_count": 41,
   "metadata": {},
   "outputs": [
    {
     "name": "stderr",
     "output_type": "stream",
     "text": [
      "ERROR:root:File '/Users/bensmidt/Documents/cai/backend/test_files/media/video/mp4/aod_test_copy.mp4' should have extension 'mp3' not 'mp4'.\n"
     ]
    },
    {
     "ename": "FileError",
     "evalue": "File '/Users/bensmidt/Documents/cai/backend/test_files/media/video/mp4/aod_test_copy.mp4' should have extension 'mp3' not 'mp4'.",
     "output_type": "error",
     "traceback": [
      "\u001b[0;31m---------------------------------------------------------------------------\u001b[0m",
      "\u001b[0;31mFileError\u001b[0m                                 Traceback (most recent call last)",
      "Cell \u001b[0;32mIn[41], line 1\u001b[0m\n\u001b[0;32m----> 1\u001b[0m \u001b[39mprint\u001b[39m(\u001b[39m\"\u001b[39m\u001b[39mIncorrect file extension:\u001b[39m\u001b[39m\"\u001b[39m, file\u001b[39m.\u001b[39;49massert_has_file_extension(\u001b[39m\"\u001b[39;49m\u001b[39mmp3\u001b[39;49m\u001b[39m\"\u001b[39;49m))\n",
      "File \u001b[0;32m~/Documents/cai/backend/src/filesys/file.py:274\u001b[0m, in \u001b[0;36mFile.assert_has_file_extension\u001b[0;34m(self, extension)\u001b[0m\n\u001b[1;32m    272\u001b[0m \u001b[39mif\u001b[39;00m msg \u001b[39mis\u001b[39;00m \u001b[39mnot\u001b[39;00m \u001b[39mNone\u001b[39;00m:\n\u001b[1;32m    273\u001b[0m     logging\u001b[39m.\u001b[39merror(msg)\n\u001b[0;32m--> 274\u001b[0m     \u001b[39mraise\u001b[39;00m FileError(msg)\n",
      "\u001b[0;31mFileError\u001b[0m: File '/Users/bensmidt/Documents/cai/backend/test_files/media/video/mp4/aod_test_copy.mp4' should have extension 'mp3' not 'mp4'."
     ]
    }
   ],
   "source": [
    "print(\"Incorrect file extension:\", file.assert_has_file_extension(\"mp3\"))"
   ]
  }
 ],
 "metadata": {
  "kernelspec": {
   "display_name": "env",
   "language": "python",
   "name": "python3"
  },
  "language_info": {
   "codemirror_mode": {
    "name": "ipython",
    "version": 3
   },
   "file_extension": ".py",
   "mimetype": "text/x-python",
   "name": "python",
   "nbconvert_exporter": "python",
   "pygments_lexer": "ipython3",
   "version": "3.11.5"
  },
  "orig_nbformat": 4
 },
 "nbformat": 4,
 "nbformat_minor": 2
}
