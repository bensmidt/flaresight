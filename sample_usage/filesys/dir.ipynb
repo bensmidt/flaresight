{
 "cells": [
  {
   "cell_type": "markdown",
   "metadata": {},
   "source": [
    "### Setup"
   ]
  },
  {
   "cell_type": "code",
   "execution_count": 1,
   "metadata": {},
   "outputs": [],
   "source": [
    "%load_ext autoreload\n",
    "%autoreload 2"
   ]
  },
  {
   "cell_type": "code",
   "execution_count": 2,
   "metadata": {},
   "outputs": [],
   "source": [
    "import sys, os"
   ]
  },
  {
   "cell_type": "code",
   "execution_count": 3,
   "metadata": {},
   "outputs": [
    {
     "name": "stdout",
     "output_type": "stream",
     "text": [
      "['/Users/bensmidt/Documents/cai/backend/src', '/Users/bensmidt/Documents/cai/backend/test', '/Users/bensmidt/Documents/cai/backend/sample_usage/filesys', '/opt/homebrew/Cellar/python@3.11/3.11.5/Frameworks/Python.framework/Versions/3.11/lib/python311.zip', '/opt/homebrew/Cellar/python@3.11/3.11.5/Frameworks/Python.framework/Versions/3.11/lib/python3.11', '/opt/homebrew/Cellar/python@3.11/3.11.5/Frameworks/Python.framework/Versions/3.11/lib/python3.11/lib-dynload', '', '/Users/bensmidt/Documents/cai/backend/env/lib/python3.11/site-packages', '/Users/bensmidt/Documents/cai/backend/src']\n"
     ]
    }
   ],
   "source": [
    "ROOT_PATH = os.path.abspath(os.path.join(\"..\", \"..\"))\n",
    "SRC_PATH = os.path.join(ROOT_PATH, \"src\")\n",
    "TEST_PATH = os.path.join(ROOT_PATH, \"test\")\n",
    "sys.path.insert(0, TEST_PATH)\n",
    "sys.path.insert(0, SRC_PATH)\n",
    "print(sys.path)"
   ]
  },
  {
   "cell_type": "code",
   "execution_count": 4,
   "metadata": {},
   "outputs": [],
   "source": [
    "from filesys.dir import Dir\n",
    "from filesys.fs_manager import FileSystemManager\n",
    "from test_files import TestFiles"
   ]
  },
  {
   "cell_type": "code",
   "execution_count": 5,
   "metadata": {},
   "outputs": [],
   "source": [
    "fs_manager = FileSystemManager()\n",
    "test_files = TestFiles()"
   ]
  },
  {
   "cell_type": "markdown",
   "metadata": {},
   "source": [
    "## Paths"
   ]
  },
  {
   "cell_type": "code",
   "execution_count": 15,
   "metadata": {},
   "outputs": [],
   "source": [
    "MP4_DIR_PATH = test_files.get_mp4_video_dir().get_path()"
   ]
  },
  {
   "cell_type": "markdown",
   "metadata": {},
   "source": [
    "## Sandbox"
   ]
  },
  {
   "cell_type": "code",
   "execution_count": null,
   "metadata": {},
   "outputs": [],
   "source": []
  },
  {
   "cell_type": "markdown",
   "metadata": {},
   "source": [
    "## check_exists()"
   ]
  },
  {
   "cell_type": "code",
   "execution_count": 17,
   "metadata": {},
   "outputs": [
    {
     "name": "stdout",
     "output_type": "stream",
     "text": [
      "Exists?: None\n"
     ]
    }
   ],
   "source": [
    "dir = test_files.get_image_dir()\n",
    "print(\"Exists?:\", dir.check_exists())"
   ]
  },
  {
   "cell_type": "code",
   "execution_count": 18,
   "metadata": {},
   "outputs": [
    {
     "name": "stdout",
     "output_type": "stream",
     "text": [
      "Exists?: '/Users/bensmidt/Documents/cai/backend/test_files/media/image/jpeg/test_image.jpeg' is a valid FileSystemObject but not a valid Dir.\n"
     ]
    }
   ],
   "source": [
    "dir = Dir(test_files.get_valid_paths_that_are_invalid_dir_paths()[0])\n",
    "print(\"Exists?:\", dir.check_exists())"
   ]
  },
  {
   "cell_type": "markdown",
   "metadata": {},
   "source": [
    "## delete()"
   ]
  },
  {
   "cell_type": "markdown",
   "metadata": {},
   "source": [
    "## move()"
   ]
  },
  {
   "cell_type": "markdown",
   "metadata": {},
   "source": [
    "## scan_dir()"
   ]
  },
  {
   "cell_type": "code",
   "execution_count": 12,
   "metadata": {},
   "outputs": [
    {
     "name": "stdout",
     "output_type": "stream",
     "text": [
      "File System Object 0: /Users/bensmidt/Documents/cai/backend/src/gcloud\n",
      "File System Object 1: /Users/bensmidt/Documents/cai/backend/src/transcription\n",
      "File System Object 2: /Users/bensmidt/Documents/cai/backend/src/__init__.py\n",
      "File System Object 3: /Users/bensmidt/Documents/cai/backend/src/filesys\n",
      "File System Object 4: /Users/bensmidt/Documents/cai/backend/src/utils\n",
      "File System Object 5: /Users/bensmidt/Documents/cai/backend/src/models\n",
      "File System Object 6: /Users/bensmidt/Documents/cai/backend/src/__pycache__\n",
      "File System Object 7: /Users/bensmidt/Documents/cai/backend/src/storage\n",
      "File System Object 8: /Users/bensmidt/Documents/cai/backend/src/webscrape\n",
      "File System Object 9: /Users/bensmidt/Documents/cai/backend/src/exception_handler.py\n",
      "File System Object 10: /Users/bensmidt/Documents/cai/backend/src/admin.py\n",
      "File System Object 11: /Users/bensmidt/Documents/cai/backend/src/ml\n",
      "File System Object 12: /Users/bensmidt/Documents/cai/backend/src/db\n",
      "File System Object 13: /Users/bensmidt/Documents/cai/backend/src/api\n",
      "File System Object 14: /Users/bensmidt/Documents/cai/backend/src/k8s.py\n",
      "File System Object 15: /Users/bensmidt/Documents/cai/backend/src/clipsai_backend.egg-info\n",
      "File System Object 16: /Users/bensmidt/Documents/cai/backend/src/emailer\n",
      "File System Object 17: /Users/bensmidt/Documents/cai/backend/src/analytics\n",
      "File System Object 18: /Users/bensmidt/Documents/cai/backend/src/media\n"
     ]
    }
   ],
   "source": [
    "dir = Dir(MP4_DIR_PATH)\n",
    "dir.assert_exists()\n",
    "fs_objects = dir.scan_dir()\n",
    "for i, fs_object in enumerate(fs_objects):\n",
    "    print(f\"File System Object {i}:\", fs_object.get_path())"
   ]
  },
  {
   "cell_type": "markdown",
   "metadata": {},
   "source": [
    "## get_files()"
   ]
  },
  {
   "cell_type": "code",
   "execution_count": 19,
   "metadata": {},
   "outputs": [
    {
     "name": "stdout",
     "output_type": "stream",
     "text": [
      "File path 0: /Users/bensmidt/Documents/cai/backend/test_files/media/video/mp4/aod_test_copy.mp4\n",
      "File path 1: /Users/bensmidt/Documents/cai/backend/test_files/media/video/mp4/aod_test.mp4\n",
      "File path 2: /Users/bensmidt/Documents/cai/backend/test_files/media/video/mp4/test_trim_start_exceeds_duration.mp4\n",
      "File path 3: /Users/bensmidt/Documents/cai/backend/test_files/media/video/mp4/aod_test3_45_seconds.mp4\n",
      "File path 4: /Users/bensmidt/Documents/cai/backend/test_files/media/video/mp4/aod_test-trimmed-deleteme.mp4\n",
      "File path 5: /Users/bensmidt/Documents/cai/backend/test_files/media/video/mp4/aod_test3_5_seconds.mp4\n",
      "File path 6: /Users/bensmidt/Documents/cai/backend/test_files/media/video/mp4/aod_test2.mp4\n",
      "File path 7: /Users/bensmidt/Documents/cai/backend/test_files/media/video/mp4/deleteme.mp4\n",
      "File path 8: /Users/bensmidt/Documents/cai/backend/test_files/media/video/mp4/aod_test4-video-only.mp4\n"
     ]
    }
   ],
   "source": [
    "dir = Dir(MP4_DIR_PATH)\n",
    "dir.assert_exists()\n",
    "files = dir.get_files()\n",
    "for i, file in enumerate(files):\n",
    "    print(f\"File path {i}:\", file.get_path())"
   ]
  },
  {
   "cell_type": "markdown",
   "metadata": {},
   "source": [
    "## get_subdirs()"
   ]
  },
  {
   "cell_type": "code",
   "execution_count": 20,
   "metadata": {},
   "outputs": [],
   "source": [
    "dir = Dir(MP4_DIR_PATH)\n",
    "dir.assert_exists()\n",
    "subdirs = dir.get_subdirs()\n",
    "for i, dir in enumerate(subdirs):\n",
    "    print(f\"Subdirectory path {i}:\", dir.get_path())"
   ]
  },
  {
   "cell_type": "markdown",
   "metadata": {},
   "source": [
    "## get_files_with_extension()"
   ]
  },
  {
   "cell_type": "code",
   "execution_count": 16,
   "metadata": {},
   "outputs": [
    {
     "name": "stdout",
     "output_type": "stream",
     "text": [
      "File path 0: /Users/bensmidt/Documents/cai/backend/test_files/media/video/mp4/aod_test_copy.mp4\n",
      "File path 1: /Users/bensmidt/Documents/cai/backend/test_files/media/video/mp4/aod_test.mp4\n",
      "File path 2: /Users/bensmidt/Documents/cai/backend/test_files/media/video/mp4/test_trim_start_exceeds_duration.mp4\n",
      "File path 3: /Users/bensmidt/Documents/cai/backend/test_files/media/video/mp4/aod_test3_45_seconds.mp4\n",
      "File path 4: /Users/bensmidt/Documents/cai/backend/test_files/media/video/mp4/aod_test-trimmed-deleteme.mp4\n",
      "File path 5: /Users/bensmidt/Documents/cai/backend/test_files/media/video/mp4/aod_test3_5_seconds.mp4\n",
      "File path 6: /Users/bensmidt/Documents/cai/backend/test_files/media/video/mp4/aod_test2.mp4\n",
      "File path 7: /Users/bensmidt/Documents/cai/backend/test_files/media/video/mp4/deleteme.mp4\n",
      "File path 8: /Users/bensmidt/Documents/cai/backend/test_files/media/video/mp4/aod_test4-video-only.mp4\n"
     ]
    }
   ],
   "source": [
    "dir = Dir(MP4_DIR_PATH)\n",
    "dir.assert_exists()\n",
    "files = dir.get_files_with_extension(\"mp4\")\n",
    "for i, file in enumerate(files):\n",
    "    print(f\"File path {i}:\", file.get_path())"
   ]
  },
  {
   "cell_type": "code",
   "execution_count": 21,
   "metadata": {},
   "outputs": [],
   "source": [
    "dir = Dir(MP4_DIR_PATH)\n",
    "dir.assert_exists()\n",
    "files = dir.get_files_with_extension(\"mp3\")\n",
    "for i, file in enumerate(files):\n",
    "    print(f\"File path {i}:\", file.get_path())"
   ]
  },
  {
   "cell_type": "markdown",
   "metadata": {},
   "source": [
    "## get_file_paths_with_extension()"
   ]
  },
  {
   "cell_type": "code",
   "execution_count": 26,
   "metadata": {},
   "outputs": [
    {
     "name": "stdout",
     "output_type": "stream",
     "text": [
      "File path 0: /Users/bensmidt/Documents/cai/backend/test_files/media/video/mp4/aod_test_copy.mp4\n",
      "File path 1: /Users/bensmidt/Documents/cai/backend/test_files/media/video/mp4/aod_test.mp4\n",
      "File path 2: /Users/bensmidt/Documents/cai/backend/test_files/media/video/mp4/test_trim_start_exceeds_duration.mp4\n",
      "File path 3: /Users/bensmidt/Documents/cai/backend/test_files/media/video/mp4/aod_test3_45_seconds.mp4\n",
      "File path 4: /Users/bensmidt/Documents/cai/backend/test_files/media/video/mp4/aod_test-trimmed-deleteme.mp4\n",
      "File path 5: /Users/bensmidt/Documents/cai/backend/test_files/media/video/mp4/aod_test3_5_seconds.mp4\n",
      "File path 6: /Users/bensmidt/Documents/cai/backend/test_files/media/video/mp4/aod_test2.mp4\n",
      "File path 7: /Users/bensmidt/Documents/cai/backend/test_files/media/video/mp4/deleteme.mp4\n",
      "File path 8: /Users/bensmidt/Documents/cai/backend/test_files/media/video/mp4/aod_test4-video-only.mp4\n"
     ]
    }
   ],
   "source": [
    "dir = Dir(MP4_DIR_PATH)\n",
    "dir.assert_exists()\n",
    "files = dir.get_file_paths_with_extension(\"mp4\")\n",
    "for i, file_path in enumerate(files):\n",
    "    print(f\"File path {i}:\", file_path)"
   ]
  },
  {
   "cell_type": "code",
   "execution_count": 25,
   "metadata": {},
   "outputs": [],
   "source": [
    "dir = Dir(MP4_DIR_PATH)\n",
    "dir.assert_exists()\n",
    "files = dir.get_file_paths_with_extension(\"mp3\")\n",
    "for i, file_path in enumerate(files):\n",
    "    print(f\"File path {i}:\", file_path)"
   ]
  },
  {
   "cell_type": "markdown",
   "metadata": {},
   "source": [
    "## zip()"
   ]
  },
  {
   "cell_type": "code",
   "execution_count": 24,
   "metadata": {},
   "outputs": [],
   "source": [
    "dir = Dir(os.path.join(ROOT_PATH, \"test_files\", \"deleteme\"))\n",
    "dir.assert_exists()\n",
    "zip_file = dir.zip(\"deleteme\")"
   ]
  },
  {
   "cell_type": "markdown",
   "metadata": {},
   "source": [
    "## delete_contents()"
   ]
  },
  {
   "cell_type": "code",
   "execution_count": 22,
   "metadata": {},
   "outputs": [],
   "source": [
    "dir = Dir(os.path.join(ROOT_PATH, \"data\"))\n",
    "dir.delete_contents()"
   ]
  }
 ],
 "metadata": {
  "kernelspec": {
   "display_name": "env",
   "language": "python",
   "name": "python3"
  },
  "language_info": {
   "codemirror_mode": {
    "name": "ipython",
    "version": 3
   },
   "file_extension": ".py",
   "mimetype": "text/x-python",
   "name": "python",
   "nbconvert_exporter": "python",
   "pygments_lexer": "ipython3",
   "version": "3.11.5"
  },
  "orig_nbformat": 4
 },
 "nbformat": 4,
 "nbformat_minor": 2
}
