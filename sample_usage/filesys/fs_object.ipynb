{
 "cells": [
  {
   "cell_type": "markdown",
   "metadata": {},
   "source": [
    "## Setup"
   ]
  },
  {
   "cell_type": "code",
   "execution_count": 1,
   "metadata": {},
   "outputs": [],
   "source": [
    "%load_ext autoreload\n",
    "%autoreload 2"
   ]
  },
  {
   "cell_type": "code",
   "execution_count": 2,
   "metadata": {},
   "outputs": [],
   "source": [
    "import sys, os"
   ]
  },
  {
   "cell_type": "code",
   "execution_count": 3,
   "metadata": {},
   "outputs": [
    {
     "name": "stdout",
     "output_type": "stream",
     "text": [
      "['/Users/bensmidt/Documents/cai/backend/src', '/Users/bensmidt/Documents/cai/backend/test', '/Users/bensmidt/Documents/cai/backend/sample_usage/filesys', '/opt/homebrew/Cellar/python@3.11/3.11.5/Frameworks/Python.framework/Versions/3.11/lib/python311.zip', '/opt/homebrew/Cellar/python@3.11/3.11.5/Frameworks/Python.framework/Versions/3.11/lib/python3.11', '/opt/homebrew/Cellar/python@3.11/3.11.5/Frameworks/Python.framework/Versions/3.11/lib/python3.11/lib-dynload', '', '/Users/bensmidt/Documents/cai/backend/env/lib/python3.11/site-packages', '/Users/bensmidt/Documents/cai/backend/src']\n"
     ]
    }
   ],
   "source": [
    "ROOT_PATH = os.path.abspath(os.path.join(\"..\", \"..\"))\n",
    "SRC_PATH = os.path.join(ROOT_PATH, \"src\")\n",
    "TEST_PATH = os.path.join(ROOT_PATH, \"test\")\n",
    "sys.path.insert(0, TEST_PATH)\n",
    "sys.path.insert(0, SRC_PATH)\n",
    "print(sys.path)"
   ]
  },
  {
   "cell_type": "code",
   "execution_count": 4,
   "metadata": {},
   "outputs": [
    {
     "ename": "ImportError",
     "evalue": "cannot import name 'Dir' from partially initialized module 'filesys.dir' (most likely due to a circular import) (/Users/bensmidt/Documents/cai/backend/src/filesys/dir.py)",
     "output_type": "error",
     "traceback": [
      "\u001b[0;31m---------------------------------------------------------------------------\u001b[0m",
      "\u001b[0;31mImportError\u001b[0m                               Traceback (most recent call last)",
      "\u001b[1;32m/Users/bensmidt/Documents/cai/backend/sample_usage/filesys/fs_object.ipynb Cell 5\u001b[0m line \u001b[0;36m1\n\u001b[0;32m----> <a href='vscode-notebook-cell:/Users/bensmidt/Documents/cai/backend/sample_usage/filesys/fs_object.ipynb#W4sZmlsZQ%3D%3D?line=0'>1</a>\u001b[0m \u001b[39mfrom\u001b[39;00m \u001b[39mfilesys\u001b[39;00m\u001b[39m.\u001b[39;00m\u001b[39mfs_object\u001b[39;00m \u001b[39mimport\u001b[39;00m FileSystemObject\n\u001b[1;32m      <a href='vscode-notebook-cell:/Users/bensmidt/Documents/cai/backend/sample_usage/filesys/fs_object.ipynb#W4sZmlsZQ%3D%3D?line=1'>2</a>\u001b[0m \u001b[39mfrom\u001b[39;00m \u001b[39mfilesys\u001b[39;00m\u001b[39m.\u001b[39;00m\u001b[39mfs_manager\u001b[39;00m \u001b[39mimport\u001b[39;00m FileSystemManager\n\u001b[1;32m      <a href='vscode-notebook-cell:/Users/bensmidt/Documents/cai/backend/sample_usage/filesys/fs_object.ipynb#W4sZmlsZQ%3D%3D?line=2'>3</a>\u001b[0m \u001b[39mfrom\u001b[39;00m \u001b[39mtest_files\u001b[39;00m \u001b[39mimport\u001b[39;00m TestFiles\n",
      "File \u001b[0;32m~/Documents/cai/backend/src/filesys/fs_object.py:10\u001b[0m\n\u001b[1;32m      7\u001b[0m \u001b[39mimport\u001b[39;00m \u001b[39mos\u001b[39;00m\n\u001b[1;32m      9\u001b[0m \u001b[39m# current package imports\u001b[39;00m\n\u001b[0;32m---> 10\u001b[0m \u001b[39mfrom\u001b[39;00m \u001b[39m.\u001b[39;00m\u001b[39mdir\u001b[39;00m \u001b[39mimport\u001b[39;00m Dir\n\u001b[1;32m     11\u001b[0m \u001b[39mfrom\u001b[39;00m \u001b[39m.\u001b[39;00m\u001b[39mexceptions\u001b[39;00m \u001b[39mimport\u001b[39;00m FileSystemObjectError\n\u001b[1;32m     13\u001b[0m \u001b[39m# local imports\u001b[39;00m\n",
      "File \u001b[0;32m~/Documents/cai/backend/src/filesys/dir.py:11\u001b[0m\n\u001b[1;32m      8\u001b[0m \u001b[39mimport\u001b[39;00m \u001b[39mshutil\u001b[39;00m\n\u001b[1;32m     10\u001b[0m \u001b[39m# current package imports\u001b[39;00m\n\u001b[0;32m---> 11\u001b[0m \u001b[39mfrom\u001b[39;00m \u001b[39m.\u001b[39;00m\u001b[39mfile\u001b[39;00m \u001b[39mimport\u001b[39;00m File\n\u001b[1;32m     12\u001b[0m \u001b[39mfrom\u001b[39;00m \u001b[39m.\u001b[39;00m\u001b[39mfs_object\u001b[39;00m \u001b[39mimport\u001b[39;00m FileSystemObject\n\u001b[1;32m     15\u001b[0m \u001b[39mclass\u001b[39;00m \u001b[39mDir\u001b[39;00m(FileSystemObject):\n",
      "File \u001b[0;32m~/Documents/cai/backend/src/filesys/file.py:15\u001b[0m\n\u001b[1;32m     12\u001b[0m \u001b[39mimport\u001b[39;00m \u001b[39mlogging\u001b[39;00m\n\u001b[1;32m     14\u001b[0m \u001b[39m# current package imports\u001b[39;00m\n\u001b[0;32m---> 15\u001b[0m \u001b[39mfrom\u001b[39;00m \u001b[39m.\u001b[39;00m\u001b[39mdir\u001b[39;00m \u001b[39mimport\u001b[39;00m Dir\n\u001b[1;32m     16\u001b[0m \u001b[39mfrom\u001b[39;00m \u001b[39m.\u001b[39;00m\u001b[39mexceptions\u001b[39;00m \u001b[39mimport\u001b[39;00m FileError\n\u001b[1;32m     17\u001b[0m \u001b[39mfrom\u001b[39;00m \u001b[39m.\u001b[39;00m\u001b[39mfs_object\u001b[39;00m \u001b[39mimport\u001b[39;00m FileSystemObject\n",
      "\u001b[0;31mImportError\u001b[0m: cannot import name 'Dir' from partially initialized module 'filesys.dir' (most likely due to a circular import) (/Users/bensmidt/Documents/cai/backend/src/filesys/dir.py)"
     ]
    }
   ],
   "source": [
    "from filesys.fs_object import FileSystemObject\n",
    "from filesys.fs_manager import FileSystemManager\n",
    "from test_files import TestFiles"
   ]
  },
  {
   "cell_type": "code",
   "execution_count": 7,
   "metadata": {},
   "outputs": [],
   "source": [
    "fs_manager = FileSystemManager()\n",
    "test_files = TestFiles()"
   ]
  },
  {
   "cell_type": "markdown",
   "metadata": {},
   "source": [
    "## Path definitions"
   ]
  },
  {
   "cell_type": "code",
   "execution_count": 8,
   "metadata": {},
   "outputs": [],
   "source": [
    "INVALID_PATH1 = test_files.get_invalid_paths()[0]\n",
    "INVALID_PATH2 = test_files.get_invalid_paths()[1]\n",
    "\n",
    "VALID_PATH1 = test_files.get_file_paths()[0]\n",
    "VALID_PATH2 = test_files.get_file_paths()[1]"
   ]
  },
  {
   "cell_type": "markdown",
   "metadata": {},
   "source": [
    "## Sandbox"
   ]
  },
  {
   "cell_type": "code",
   "execution_count": null,
   "metadata": {},
   "outputs": [],
   "source": []
  },
  {
   "cell_type": "markdown",
   "metadata": {},
   "source": [
    "## get_path()"
   ]
  },
  {
   "cell_type": "code",
   "execution_count": 9,
   "metadata": {},
   "outputs": [
    {
     "name": "stdout",
     "output_type": "stream",
     "text": [
      "Path: invalid/file/path\n"
     ]
    }
   ],
   "source": [
    "# invalid path\n",
    "fs_object = FileSystemObject(INVALID_PATH1)\n",
    "print(\"Path:\", fs_object.get_path())"
   ]
  },
  {
   "cell_type": "code",
   "execution_count": 10,
   "metadata": {},
   "outputs": [
    {
     "name": "stdout",
     "output_type": "stream",
     "text": [
      "Path: /Users/bensmidt/Documents/cai/backend/test_files/transcription/essential_developer_test.json\n"
     ]
    }
   ],
   "source": [
    "# invalid path\n",
    "fs_object = FileSystemObject(VALID_PATH1)\n",
    "print(\"Path:\", fs_object.get_path())"
   ]
  },
  {
   "cell_type": "markdown",
   "metadata": {},
   "source": [
    "## set_path()"
   ]
  },
  {
   "cell_type": "code",
   "execution_count": 11,
   "metadata": {},
   "outputs": [
    {
     "name": "stdout",
     "output_type": "stream",
     "text": [
      "Path: invalid/file/path\n",
      "Path: /Users/bensmidt/Documents/cai/backend/test_files/transcription/essential_developer_test.json\n"
     ]
    }
   ],
   "source": [
    "fs_object = FileSystemObject(INVALID_PATH1)\n",
    "print(\"Path:\", fs_object.get_path())\n",
    "fs_object.set_path(VALID_PATH1)\n",
    "print(\"Path:\", fs_object.get_path())"
   ]
  },
  {
   "cell_type": "code",
   "execution_count": 12,
   "metadata": {},
   "outputs": [
    {
     "name": "stdout",
     "output_type": "stream",
     "text": [
      "Path: /Users/bensmidt/Documents/cai/backend/test_files/transcription/WVFRM_pod.json\n",
      "Path: ben/likes/writing/random/shit\n"
     ]
    }
   ],
   "source": [
    "fs_object = FileSystemObject(VALID_PATH2)\n",
    "print(\"Path:\", fs_object.get_path())\n",
    "fs_object.set_path(INVALID_PATH2)\n",
    "print(\"Path:\", fs_object.get_path())"
   ]
  },
  {
   "cell_type": "markdown",
   "metadata": {},
   "source": [
    "## check_exists()"
   ]
  },
  {
   "cell_type": "code",
   "execution_count": 13,
   "metadata": {},
   "outputs": [
    {
     "name": "stdout",
     "output_type": "stream",
     "text": [
      "Valid path: None\n",
      "Invalid path: FileSystemObject 'invalid/file/path' does not exist.\n"
     ]
    }
   ],
   "source": [
    "fs_object = FileSystemObject(VALID_PATH2)\n",
    "print(\"Valid path:\", fs_object.check_exists())\n",
    "\n",
    "fs_object = FileSystemObject(INVALID_PATH1)\n",
    "print(\"Invalid path:\", fs_object.check_exists())"
   ]
  },
  {
   "cell_type": "markdown",
   "metadata": {},
   "source": [
    "## exists()"
   ]
  },
  {
   "cell_type": "code",
   "execution_count": 14,
   "metadata": {},
   "outputs": [
    {
     "name": "stdout",
     "output_type": "stream",
     "text": [
      "Valid path: True\n",
      "Invalid path: False\n"
     ]
    }
   ],
   "source": [
    "fs_object = FileSystemObject(VALID_PATH2)\n",
    "print(\"Valid path:\", fs_object.exists())\n",
    "\n",
    "fs_object = FileSystemObject(INVALID_PATH1)\n",
    "print(\"Invalid path:\", fs_object.exists())"
   ]
  },
  {
   "cell_type": "markdown",
   "metadata": {},
   "source": [
    "## assert_exists()"
   ]
  },
  {
   "cell_type": "code",
   "execution_count": 15,
   "metadata": {},
   "outputs": [
    {
     "name": "stdout",
     "output_type": "stream",
     "text": [
      "Valid path: None\n"
     ]
    }
   ],
   "source": [
    "fs_object = FileSystemObject(VALID_PATH2)\n",
    "print(\"Valid path:\", fs_object.assert_exists())"
   ]
  },
  {
   "cell_type": "code",
   "execution_count": 16,
   "metadata": {},
   "outputs": [
    {
     "name": "stderr",
     "output_type": "stream",
     "text": [
      "ERROR:root:FileSystemObject 'invalid/file/path' does not exist.\n"
     ]
    },
    {
     "ename": "FileSystemObjectError",
     "evalue": "FileSystemObject 'invalid/file/path' does not exist.",
     "output_type": "error",
     "traceback": [
      "\u001b[0;31m---------------------------------------------------------------------------\u001b[0m",
      "\u001b[0;31mFileSystemObjectError\u001b[0m                     Traceback (most recent call last)",
      "Cell \u001b[0;32mIn[16], line 2\u001b[0m\n\u001b[1;32m      1\u001b[0m fs_object \u001b[39m=\u001b[39m FileSystemObject(INVALID_PATH1)\n\u001b[0;32m----> 2\u001b[0m \u001b[39mprint\u001b[39m(\u001b[39m\"\u001b[39m\u001b[39mInvalid path:\u001b[39m\u001b[39m\"\u001b[39m, fs_object\u001b[39m.\u001b[39;49massert_exists())\n",
      "File \u001b[0;32m~/Documents/cai/backend/src/filesys/fs_object.py:182\u001b[0m, in \u001b[0;36mFileSystemObject.assert_exists\u001b[0;34m(self)\u001b[0m\n\u001b[1;32m    180\u001b[0m \u001b[39mif\u001b[39;00m msg \u001b[39mis\u001b[39;00m \u001b[39mnot\u001b[39;00m \u001b[39mNone\u001b[39;00m:\n\u001b[1;32m    181\u001b[0m     logging\u001b[39m.\u001b[39merror(msg)\n\u001b[0;32m--> 182\u001b[0m     \u001b[39mraise\u001b[39;00m FileSystemObjectError(msg)\n",
      "\u001b[0;31mFileSystemObjectError\u001b[0m: FileSystemObject 'invalid/file/path' does not exist."
     ]
    }
   ],
   "source": [
    "fs_object = FileSystemObject(INVALID_PATH1)\n",
    "print(\"Invalid path:\", fs_object.assert_exists())"
   ]
  },
  {
   "cell_type": "markdown",
   "metadata": {},
   "source": [
    "## check_does_not_exist()"
   ]
  },
  {
   "cell_type": "code",
   "execution_count": 17,
   "metadata": {},
   "outputs": [
    {
     "name": "stdout",
     "output_type": "stream",
     "text": [
      "Valid path: FileSystemObject '/Users/bensmidt/Documents/cai/backend/test_files/transcription/WVFRM_pod.json' already exists.\n",
      "Invalid path: None\n"
     ]
    }
   ],
   "source": [
    "fs_object = FileSystemObject(VALID_PATH2)\n",
    "print(\"Valid path:\", fs_object.check_does_not_exist())\n",
    "\n",
    "fs_object = FileSystemObject(INVALID_PATH1)\n",
    "print(\"Invalid path:\", fs_object.check_does_not_exist())"
   ]
  },
  {
   "cell_type": "markdown",
   "metadata": {},
   "source": [
    "## assert_does_not_exist()"
   ]
  },
  {
   "cell_type": "code",
   "execution_count": 18,
   "metadata": {},
   "outputs": [
    {
     "name": "stderr",
     "output_type": "stream",
     "text": [
      "ERROR:root:FileSystemObject '/Users/bensmidt/Documents/cai/backend/test_files/transcription/WVFRM_pod.json' already exists.\n"
     ]
    },
    {
     "ename": "FileSystemObjectError",
     "evalue": "FileSystemObject '/Users/bensmidt/Documents/cai/backend/test_files/transcription/WVFRM_pod.json' already exists.",
     "output_type": "error",
     "traceback": [
      "\u001b[0;31m---------------------------------------------------------------------------\u001b[0m",
      "\u001b[0;31mFileSystemObjectError\u001b[0m                     Traceback (most recent call last)",
      "Cell \u001b[0;32mIn[18], line 2\u001b[0m\n\u001b[1;32m      1\u001b[0m fs_object \u001b[39m=\u001b[39m FileSystemObject(VALID_PATH2)\n\u001b[0;32m----> 2\u001b[0m \u001b[39mprint\u001b[39m(\u001b[39m\"\u001b[39m\u001b[39mValid path:\u001b[39m\u001b[39m\"\u001b[39m, fs_object\u001b[39m.\u001b[39;49massert_does_not_exist())\n",
      "File \u001b[0;32m~/Documents/cai/backend/src/filesys/fs_object.py:224\u001b[0m, in \u001b[0;36mFileSystemObject.assert_does_not_exist\u001b[0;34m(self)\u001b[0m\n\u001b[1;32m    222\u001b[0m \u001b[39mif\u001b[39;00m msg \u001b[39mis\u001b[39;00m \u001b[39mnot\u001b[39;00m \u001b[39mNone\u001b[39;00m:\n\u001b[1;32m    223\u001b[0m     logging\u001b[39m.\u001b[39merror(msg)\n\u001b[0;32m--> 224\u001b[0m     \u001b[39mraise\u001b[39;00m FileSystemObjectError(msg)\n",
      "\u001b[0;31mFileSystemObjectError\u001b[0m: FileSystemObject '/Users/bensmidt/Documents/cai/backend/test_files/transcription/WVFRM_pod.json' already exists."
     ]
    }
   ],
   "source": [
    "fs_object = FileSystemObject(VALID_PATH2)\n",
    "print(\"Valid path:\", fs_object.assert_does_not_exist())"
   ]
  },
  {
   "cell_type": "code",
   "execution_count": 19,
   "metadata": {},
   "outputs": [
    {
     "name": "stdout",
     "output_type": "stream",
     "text": [
      "Invalid path: None\n"
     ]
    }
   ],
   "source": [
    "fs_object = FileSystemObject(INVALID_PATH1)\n",
    "print(\"Invalid path:\", fs_object.assert_does_not_exist())"
   ]
  },
  {
   "cell_type": "markdown",
   "metadata": {},
   "source": [
    "## get_parent_dir_path()"
   ]
  },
  {
   "cell_type": "code",
   "execution_count": 20,
   "metadata": {},
   "outputs": [
    {
     "name": "stdout",
     "output_type": "stream",
     "text": [
      "Path: /Users/bensmidt/Documents/cai/backend/test_files/transcription/WVFRM_pod.json\n",
      "Parent directory path: /Users/bensmidt/Documents/cai/backend/test_files/transcription\n",
      "\n",
      "Path: invalid/file/path\n",
      "Parent directory path: invalid/file\n"
     ]
    }
   ],
   "source": [
    "fs_object = FileSystemObject(VALID_PATH2)\n",
    "print(\"Path:\", fs_object.get_path())\n",
    "print(\"Parent directory path:\", fs_object.get_parent_dir_path())\n",
    "print()\n",
    "\n",
    "fs_object = FileSystemObject(INVALID_PATH1)\n",
    "print(\"Path:\", fs_object.get_path())\n",
    "print(\"Parent directory path:\", fs_object.get_parent_dir_path())"
   ]
  }
 ],
 "metadata": {
  "kernelspec": {
   "display_name": "env",
   "language": "python",
   "name": "python3"
  },
  "language_info": {
   "codemirror_mode": {
    "name": "ipython",
    "version": 3
   },
   "file_extension": ".py",
   "mimetype": "text/x-python",
   "name": "python",
   "nbconvert_exporter": "python",
   "pygments_lexer": "ipython3",
   "version": "3.11.5"
  },
  "orig_nbformat": 4
 },
 "nbformat": 4,
 "nbformat_minor": 2
}
