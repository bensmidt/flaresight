{
 "cells": [
  {
   "cell_type": "markdown",
   "metadata": {},
   "source": [
    "## Setup"
   ]
  },
  {
   "cell_type": "code",
   "execution_count": 1,
   "metadata": {},
   "outputs": [],
   "source": [
    "%load_ext autoreload\n",
    "%autoreload 2"
   ]
  },
  {
   "cell_type": "code",
   "execution_count": 2,
   "metadata": {},
   "outputs": [
    {
     "name": "stdout",
     "output_type": "stream",
     "text": [
      "['/Users/bensmidt/ut/flaresight/flaresight', '/opt/homebrew/Cellar/python@3.12/3.12.6/Frameworks/Python.framework/Versions/3.12/lib/python312.zip', '/opt/homebrew/Cellar/python@3.12/3.12.6/Frameworks/Python.framework/Versions/3.12/lib/python3.12', '/opt/homebrew/Cellar/python@3.12/3.12.6/Frameworks/Python.framework/Versions/3.12/lib/python3.12/lib-dynload', '', '/Users/bensmidt/ut/flaresight/yolov5/env/lib/python3.12/site-packages']\n"
     ]
    }
   ],
   "source": [
    "import sys, os\n",
    "\n",
    "ROOT_PATH = os.path.abspath(os.path.join(\"..\", \"..\"))\n",
    "SRC_PATH = os.path.join(ROOT_PATH, \"flaresight\")\n",
    "YOLOV5_PATH = os.path.join(ROOT_PATH, \"yolov5\")\n",
    "YOLOV9_PATH = os.path.join(ROOT_PATH, \"yolov9\")\n",
    "sys.path.insert(0, SRC_PATH)\n",
    "print(sys.path)"
   ]
  },
  {
   "cell_type": "code",
   "execution_count": 7,
   "metadata": {},
   "outputs": [],
   "source": [
    "DATASETS_PATH = os.path.join(ROOT_PATH, \"datasets\", \"visual\")\n",
    "DFIRE_PATH = os.path.join(DATASETS_PATH, \"dfire\")\n",
    "FIRE_PATH = os.path.join(DATASETS_PATH, \"fire\")\n",
    "VISIFIRE_PATH = os.path.join(DATASETS_PATH, \"visifire\")\n",
    "MANUAL_PATH = os.path.join(DATASETS_PATH, \"manual\")"
   ]
  },
  {
   "cell_type": "code",
   "execution_count": 19,
   "metadata": {},
   "outputs": [],
   "source": [
    "import glob\n",
    "import random\n",
    "import os\n",
    "\n",
    "# local imports\n",
    "from data.colors import *\n",
    "from filesys.dir import Dir\n",
    "from filesys.file import File\n",
    "from media.image_file import ImageFile\n",
    "from media.video_file import VideoFile \n",
    "from media.editor import MediaEditor\n",
    "\n",
    "# 3rd party imports\n",
    "from IPython.display import Image, display\n",
    "import matplotlib.pyplot as plt\n",
    "import torch"
   ]
  },
  {
   "cell_type": "markdown",
   "metadata": {},
   "source": [
    "## Move Downloaded Video"
   ]
  },
  {
   "cell_type": "code",
   "execution_count": 9,
   "metadata": {},
   "outputs": [],
   "source": [
    "DOWNLOADS_DIR_PATH = os.path.join(os.path.expanduser(\"~\"), \"Downloads\")\n",
    "DEST_DIR_PATH = VISIFIRE_PATH"
   ]
  },
  {
   "cell_type": "markdown",
   "metadata": {},
   "source": [
    "### Move Singular File"
   ]
  },
  {
   "cell_type": "code",
   "execution_count": 12,
   "metadata": {},
   "outputs": [],
   "source": [
    "file_name = \"controlled1.avi\"\n",
    "downloaded_file = File(os.path.join(DOWNLOADS_DIR_PATH, file_name))\n",
    "downloaded_file.move(os.path.join(DEST_DIR_PATH, downloaded_file.get_name()))"
   ]
  },
  {
   "cell_type": "markdown",
   "metadata": {},
   "source": [
    "### Move all files"
   ]
  },
  {
   "cell_type": "code",
   "execution_count": 13,
   "metadata": {},
   "outputs": [],
   "source": [
    "download_dir = Dir(DOWNLOADS_DIR_PATH)\n",
    "for file in download_dir.get_files():\n",
    "    file.move(os.path.join(DEST_DIR_PATH, file.get_name()))"
   ]
  },
  {
   "cell_type": "markdown",
   "metadata": {},
   "source": [
    "## Media File Conversion"
   ]
  },
  {
   "cell_type": "code",
   "execution_count": 20,
   "metadata": {},
   "outputs": [],
   "source": [
    "editor = MediaEditor()"
   ]
  },
  {
   "cell_type": "code",
   "execution_count": 21,
   "metadata": {},
   "outputs": [],
   "source": [
    "visifire_dir = Dir(VISIFIRE_PATH)\n",
    "for file in visifire_dir.get_files_with_extension(\"avi\"):\n",
    "    avi_file = VideoFile(file.path)\n",
    "    new_file_name = avi_file.get_filename_no_ext() + \".mp4\"\n",
    "    new_file_path = os.path.join(visifire_dir.path, new_file_name)\n",
    "    editor.transcode(\n",
    "        avi_file,\n",
    "        new_file_path,\n",
    "        \"libx264\",\n",
    "        \"aac\",\n",
    "        \"18\",\n",
    "        \"veryfast\",\n",
    "    )"
   ]
  },
  {
   "cell_type": "markdown",
   "metadata": {},
   "source": [
    "## "
   ]
  }
 ],
 "metadata": {
  "kernelspec": {
   "display_name": "env",
   "language": "python",
   "name": "python3"
  },
  "language_info": {
   "codemirror_mode": {
    "name": "ipython",
    "version": 3
   },
   "file_extension": ".py",
   "mimetype": "text/x-python",
   "name": "python",
   "nbconvert_exporter": "python",
   "pygments_lexer": "ipython3",
   "version": "3.12.6"
  }
 },
 "nbformat": 4,
 "nbformat_minor": 2
}
