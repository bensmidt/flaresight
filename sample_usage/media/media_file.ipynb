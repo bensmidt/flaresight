{
 "cells": [
  {
   "attachments": {},
   "cell_type": "markdown",
   "metadata": {},
   "source": [
    "## Setup"
   ]
  },
  {
   "cell_type": "code",
   "execution_count": 22,
   "metadata": {},
   "outputs": [
    {
     "name": "stdout",
     "output_type": "stream",
     "text": [
      "The autoreload extension is already loaded. To reload it, use:\n",
      "  %reload_ext autoreload\n"
     ]
    }
   ],
   "source": [
    "%load_ext autoreload\n",
    "%autoreload 2"
   ]
  },
  {
   "cell_type": "code",
   "execution_count": 23,
   "metadata": {},
   "outputs": [
    {
     "name": "stdout",
     "output_type": "stream",
     "text": [
      "['/Users/bensmidt/Documents/cai/backend/src', '/Users/bensmidt/Documents/cai/backend/test', '/Users/bensmidt/Documents/cai/backend/src', '/Users/bensmidt/Documents/cai/backend/test', '/Users/bensmidt/Documents/cai/backend/src', '/Users/bensmidt/Documents/cai/backend/test', '/Users/bensmidt/Documents/cai/backend/sample_usage/media', '/opt/homebrew/Cellar/python@3.11/3.11.5/Frameworks/Python.framework/Versions/3.11/lib/python311.zip', '/opt/homebrew/Cellar/python@3.11/3.11.5/Frameworks/Python.framework/Versions/3.11/lib/python3.11', '/opt/homebrew/Cellar/python@3.11/3.11.5/Frameworks/Python.framework/Versions/3.11/lib/python3.11/lib-dynload', '', '/Users/bensmidt/Documents/cai/backend/env/lib/python3.11/site-packages', '/Users/bensmidt/Documents/cai/backend/src']\n"
     ]
    }
   ],
   "source": [
    "import sys, os\n",
    "\n",
    "ROOT_PATH = os.path.abspath(os.path.join(\"..\", \"..\"))\n",
    "SRC_PATH = os.path.join(ROOT_PATH, \"src\")\n",
    "TEST_PATH = os.path.join(ROOT_PATH, \"test\")\n",
    "sys.path.insert(0, TEST_PATH)\n",
    "sys.path.insert(0, SRC_PATH)\n",
    "print(sys.path)"
   ]
  },
  {
   "cell_type": "code",
   "execution_count": 24,
   "metadata": {},
   "outputs": [],
   "source": [
    "import logging, socket\n",
    "\n",
    "logger = logging.getLogger()\n",
    "fhandler = logging.FileHandler(filename=\"media_file.log\", mode=\"w\")\n",
    "format_str = f\"[%(asctime)s {socket.gethostname()}] %(filename)s:%(funcName)s:%(lineno)s - %(levelname)s: %(message)s\"\n",
    "formatter = logging.Formatter(format_str)\n",
    "fhandler.setFormatter(formatter)\n",
    "logger.addHandler(fhandler)\n",
    "logger.setLevel(logging.DEBUG)"
   ]
  },
  {
   "cell_type": "code",
   "execution_count": 25,
   "metadata": {},
   "outputs": [],
   "source": [
    "from media.media_file import MediaFile\n",
    "from test_files import TestFiles"
   ]
  },
  {
   "cell_type": "code",
   "execution_count": 26,
   "metadata": {},
   "outputs": [],
   "source": [
    "test_files = TestFiles()"
   ]
  },
  {
   "cell_type": "markdown",
   "metadata": {},
   "source": [
    "## Paths"
   ]
  },
  {
   "cell_type": "code",
   "execution_count": 27,
   "metadata": {},
   "outputs": [],
   "source": [
    "MP4_VIDEO_PATH = test_files.get_mp4_video_file_paths()[0]\n",
    "JPEG_IMAGE_PATH = test_files.get_jpeg_image_file_paths()[0]\n",
    "MP3_AUDIO_PATH = test_files.get_mp3_audio_file_paths()[0]\n",
    "JSON_PATH = test_files.get_json_file_paths()[0]\n",
    "\n",
    "INVALID_PATH = test_files.get_invalid_paths()[0]"
   ]
  },
  {
   "cell_type": "markdown",
   "metadata": {},
   "source": [
    "## Sandbox"
   ]
  },
  {
   "cell_type": "markdown",
   "metadata": {},
   "source": [
    "## check_exists()"
   ]
  },
  {
   "cell_type": "code",
   "execution_count": 28,
   "metadata": {},
   "outputs": [
    {
     "name": "stdout",
     "output_type": "stream",
     "text": [
      "Valid path: None\n",
      "Invalid path: '/Users/bensmidt/Documents/cai/backend/test_files/transcription/essential_developer_test.json' is a valid File but is not a valid MediaFile since it has file type 'text' which isn't one of: '['audio', 'video', 'image']'.\n"
     ]
    }
   ],
   "source": [
    "media = MediaFile(MP4_VIDEO_PATH)\n",
    "print(\"Valid path:\", media.check_exists())\n",
    "\n",
    "media = MediaFile(JSON_PATH)\n",
    "print(\"Invalid path:\", media.check_exists())"
   ]
  },
  {
   "cell_type": "markdown",
   "metadata": {},
   "source": [
    "## get_format_info()"
   ]
  },
  {
   "cell_type": "code",
   "execution_count": 29,
   "metadata": {},
   "outputs": [
    {
     "name": "stdout",
     "output_type": "stream",
     "text": [
      "Duration: 55.133984\n"
     ]
    }
   ],
   "source": [
    "media_file = MediaFile(MP4_VIDEO_PATH)\n",
    "duration = media_file.get_format_info(\"duration\")\n",
    "print(\"Duration:\", duration)"
   ]
  },
  {
   "cell_type": "markdown",
   "metadata": {},
   "source": [
    "## get_stream_info()"
   ]
  },
  {
   "cell_type": "code",
   "execution_count": 30,
   "metadata": {},
   "outputs": [
    {
     "name": "stdout",
     "output_type": "stream",
     "text": [
      "Pixel Format: yuv420p\n"
     ]
    }
   ],
   "source": [
    "media_file = MediaFile(MP4_VIDEO_PATH)\n",
    "pixel_format = media_file.get_stream_info(\"v:0\", \"pix_fmt\")\n",
    "print(\"Pixel Format:\", pixel_format)"
   ]
  },
  {
   "cell_type": "markdown",
   "metadata": {},
   "source": [
    "## get_streams()"
   ]
  },
  {
   "cell_type": "code",
   "execution_count": 31,
   "metadata": {},
   "outputs": [
    {
     "name": "stdout",
     "output_type": "stream",
     "text": [
      "Streams: [{'index': 0, 'codec_name': 'h264', 'codec_long_name': 'H.264 / AVC / MPEG-4 AVC / MPEG-4 part 10', 'profile': 'High', 'codec_type': 'video', 'codec_tag_string': 'avc1', 'codec_tag': '0x31637661', 'width': 1280, 'height': 720, 'coded_width': 1280, 'coded_height': 720, 'closed_captions': 0, 'film_grain': 0, 'has_b_frames': 1, 'sample_aspect_ratio': '1:1', 'display_aspect_ratio': '16:9', 'pix_fmt': 'yuv420p', 'level': 31, 'color_range': 'tv', 'color_space': 'bt709', 'color_transfer': 'bt709', 'color_primaries': 'bt709', 'chroma_location': 'left', 'field_order': 'progressive', 'refs': 1, 'is_avc': 'true', 'nal_length_size': '4', 'id': '0x1', 'r_frame_rate': '30/1', 'avg_frame_rate': '30/1', 'time_base': '1/15360', 'start_pts': 0, 'start_time': '0.000000', 'duration_ts': 846858, 'duration': '55.133984', 'bit_rate': '1097576', 'bits_per_raw_sample': '8', 'nb_frames': '1780', 'extradata_size': 43, 'disposition': {'default': 1, 'dub': 0, 'original': 0, 'comment': 0, 'lyrics': 0, 'karaoke': 0, 'forced': 0, 'hearing_impaired': 0, 'visual_impaired': 0, 'clean_effects': 0, 'attached_pic': 0, 'timed_thumbnails': 0, 'captions': 0, 'descriptions': 0, 'metadata': 0, 'dependent': 0, 'still_image': 0}, 'tags': {'language': 'und', 'handler_name': 'ISO Media file produced by Google Inc. Created on: 06/06/2022.', 'vendor_id': '[0][0][0][0]'}}, {'index': 1, 'codec_name': 'aac', 'codec_long_name': 'AAC (Advanced Audio Coding)', 'profile': 'LC', 'codec_type': 'audio', 'codec_tag_string': 'mp4a', 'codec_tag': '0x6134706d', 'sample_fmt': 'fltp', 'sample_rate': '44100', 'channels': 2, 'channel_layout': 'stereo', 'bits_per_sample': 0, 'initial_padding': 0, 'id': '0x2', 'r_frame_rate': '0/0', 'avg_frame_rate': '0/0', 'time_base': '1/44100', 'start_pts': 0, 'start_time': '0.000000', 'duration_ts': 2425853, 'duration': '55.008005', 'bit_rate': '123507', 'nb_frames': '2370', 'extradata_size': 5, 'disposition': {'default': 1, 'dub': 0, 'original': 0, 'comment': 0, 'lyrics': 0, 'karaoke': 0, 'forced': 0, 'hearing_impaired': 0, 'visual_impaired': 0, 'clean_effects': 0, 'attached_pic': 0, 'timed_thumbnails': 0, 'captions': 0, 'descriptions': 0, 'metadata': 0, 'dependent': 0, 'still_image': 0}, 'tags': {'language': 'und', 'handler_name': 'ISO Media file produced by Google Inc. Created on: 06/06/2022.', 'vendor_id': '[0][0][0][0]'}}]\n",
      "{'default': 1, 'dub': 0, 'original': 0, 'comment': 0, 'lyrics': 0, 'karaoke': 0, 'forced': 0, 'hearing_impaired': 0, 'visual_impaired': 0, 'clean_effects': 0, 'attached_pic': 0, 'timed_thumbnails': 0, 'captions': 0, 'descriptions': 0, 'metadata': 0, 'dependent': 0, 'still_image': 0}\n"
     ]
    }
   ],
   "source": [
    "media_file = MediaFile(MP4_VIDEO_PATH)\n",
    "print(\"Streams:\", media_file.get_streams())\n",
    "print(media_file.get_video_streams()[0][\"disposition\"])"
   ]
  },
  {
   "cell_type": "markdown",
   "metadata": {},
   "source": [
    "## get_audio_streams()"
   ]
  },
  {
   "cell_type": "code",
   "execution_count": 32,
   "metadata": {},
   "outputs": [
    {
     "name": "stdout",
     "output_type": "stream",
     "text": [
      "Streams: [{'index': 1, 'codec_name': 'aac', 'codec_long_name': 'AAC (Advanced Audio Coding)', 'profile': 'LC', 'codec_type': 'audio', 'codec_tag_string': 'mp4a', 'codec_tag': '0x6134706d', 'sample_fmt': 'fltp', 'sample_rate': '44100', 'channels': 2, 'channel_layout': 'stereo', 'bits_per_sample': 0, 'initial_padding': 0, 'id': '0x2', 'r_frame_rate': '0/0', 'avg_frame_rate': '0/0', 'time_base': '1/44100', 'start_pts': 0, 'start_time': '0.000000', 'duration_ts': 2425853, 'duration': '55.008005', 'bit_rate': '123507', 'nb_frames': '2370', 'extradata_size': 5, 'disposition': {'default': 1, 'dub': 0, 'original': 0, 'comment': 0, 'lyrics': 0, 'karaoke': 0, 'forced': 0, 'hearing_impaired': 0, 'visual_impaired': 0, 'clean_effects': 0, 'attached_pic': 0, 'timed_thumbnails': 0, 'captions': 0, 'descriptions': 0, 'metadata': 0, 'dependent': 0, 'still_image': 0}, 'tags': {'language': 'und', 'handler_name': 'ISO Media file produced by Google Inc. Created on: 06/06/2022.', 'vendor_id': '[0][0][0][0]'}}]\n"
     ]
    }
   ],
   "source": [
    "# video\n",
    "media_file = MediaFile(MP4_VIDEO_PATH)\n",
    "print(\"Streams:\", media_file.get_audio_streams())"
   ]
  },
  {
   "cell_type": "code",
   "execution_count": 33,
   "metadata": {},
   "outputs": [
    {
     "name": "stdout",
     "output_type": "stream",
     "text": [
      "Streams: []\n"
     ]
    }
   ],
   "source": [
    "# image\n",
    "media_file = MediaFile(JPEG_IMAGE_PATH)\n",
    "print(\"Streams:\", media_file.get_audio_streams())"
   ]
  },
  {
   "cell_type": "code",
   "execution_count": 34,
   "metadata": {},
   "outputs": [
    {
     "name": "stdout",
     "output_type": "stream",
     "text": [
      "Streams: [{'index': 0, 'codec_name': 'mp3', 'codec_long_name': 'MP3 (MPEG audio layer 3)', 'codec_type': 'audio', 'codec_tag_string': '[0][0][0][0]', 'codec_tag': '0x0000', 'sample_fmt': 'fltp', 'sample_rate': '44100', 'channels': 2, 'channel_layout': 'stereo', 'bits_per_sample': 0, 'initial_padding': 0, 'r_frame_rate': '0/0', 'avg_frame_rate': '0/0', 'time_base': '1/14112000', 'start_pts': 353600, 'start_time': '0.025057', 'duration_ts': 797736960, 'duration': '56.528980', 'bit_rate': '161272', 'disposition': {'default': 0, 'dub': 0, 'original': 0, 'comment': 0, 'lyrics': 0, 'karaoke': 0, 'forced': 0, 'hearing_impaired': 0, 'visual_impaired': 0, 'clean_effects': 0, 'attached_pic': 0, 'timed_thumbnails': 0, 'captions': 0, 'descriptions': 0, 'metadata': 0, 'dependent': 0, 'still_image': 0}, 'tags': {'encoder': 'Lavc60.3.'}}]\n"
     ]
    }
   ],
   "source": [
    "# audio\n",
    "media_file = MediaFile(MP3_AUDIO_PATH)\n",
    "print(\"Streams:\", media_file.get_audio_streams())"
   ]
  },
  {
   "cell_type": "markdown",
   "metadata": {},
   "source": [
    "## get_video_streams()"
   ]
  },
  {
   "cell_type": "code",
   "execution_count": 35,
   "metadata": {},
   "outputs": [
    {
     "name": "stdout",
     "output_type": "stream",
     "text": [
      "Streams: [{'index': 0, 'codec_name': 'h264', 'codec_long_name': 'H.264 / AVC / MPEG-4 AVC / MPEG-4 part 10', 'profile': 'High', 'codec_type': 'video', 'codec_tag_string': 'avc1', 'codec_tag': '0x31637661', 'width': 1280, 'height': 720, 'coded_width': 1280, 'coded_height': 720, 'closed_captions': 0, 'film_grain': 0, 'has_b_frames': 1, 'sample_aspect_ratio': '1:1', 'display_aspect_ratio': '16:9', 'pix_fmt': 'yuv420p', 'level': 31, 'color_range': 'tv', 'color_space': 'bt709', 'color_transfer': 'bt709', 'color_primaries': 'bt709', 'chroma_location': 'left', 'field_order': 'progressive', 'refs': 1, 'is_avc': 'true', 'nal_length_size': '4', 'id': '0x1', 'r_frame_rate': '30/1', 'avg_frame_rate': '30/1', 'time_base': '1/15360', 'start_pts': 0, 'start_time': '0.000000', 'duration_ts': 846858, 'duration': '55.133984', 'bit_rate': '1097576', 'bits_per_raw_sample': '8', 'nb_frames': '1780', 'extradata_size': 43, 'disposition': {'default': 1, 'dub': 0, 'original': 0, 'comment': 0, 'lyrics': 0, 'karaoke': 0, 'forced': 0, 'hearing_impaired': 0, 'visual_impaired': 0, 'clean_effects': 0, 'attached_pic': 0, 'timed_thumbnails': 0, 'captions': 0, 'descriptions': 0, 'metadata': 0, 'dependent': 0, 'still_image': 0}, 'tags': {'language': 'und', 'handler_name': 'ISO Media file produced by Google Inc. Created on: 06/06/2022.', 'vendor_id': '[0][0][0][0]'}}]\n"
     ]
    }
   ],
   "source": [
    "# video\n",
    "media_file = MediaFile(MP4_VIDEO_PATH)\n",
    "print(\"Streams:\", media_file.get_video_streams())"
   ]
  },
  {
   "cell_type": "code",
   "execution_count": 36,
   "metadata": {},
   "outputs": [
    {
     "name": "stdout",
     "output_type": "stream",
     "text": [
      "Streams: 0.040000\n"
     ]
    }
   ],
   "source": [
    "# image\n",
    "media_file = MediaFile(JPEG_IMAGE_PATH)\n",
    "print(\"Streams:\", media_file.get_video_streams()[0][\"duration\"])"
   ]
  },
  {
   "cell_type": "code",
   "execution_count": 37,
   "metadata": {},
   "outputs": [
    {
     "name": "stdout",
     "output_type": "stream",
     "text": [
      "Streams: []\n"
     ]
    }
   ],
   "source": [
    "# audio\n",
    "media_file = MediaFile(MP3_AUDIO_PATH)\n",
    "print(\"Streams:\", media_file.get_video_streams())"
   ]
  },
  {
   "cell_type": "markdown",
   "metadata": {},
   "source": [
    "## has_audio_stream()"
   ]
  },
  {
   "cell_type": "code",
   "execution_count": 38,
   "metadata": {},
   "outputs": [
    {
     "name": "stdout",
     "output_type": "stream",
     "text": [
      "Has audio stream?: True\n"
     ]
    }
   ],
   "source": [
    "# video\n",
    "media_file = MediaFile(MP4_VIDEO_PATH)\n",
    "print(\"Has audio stream?:\", media_file.has_audio_stream())"
   ]
  },
  {
   "cell_type": "code",
   "execution_count": 39,
   "metadata": {},
   "outputs": [
    {
     "name": "stdout",
     "output_type": "stream",
     "text": [
      "Has audio stream?: False\n"
     ]
    }
   ],
   "source": [
    "# image\n",
    "media_file = MediaFile(JPEG_IMAGE_PATH)\n",
    "print(\"Has audio stream?:\", media_file.has_audio_stream())"
   ]
  },
  {
   "cell_type": "code",
   "execution_count": 40,
   "metadata": {},
   "outputs": [
    {
     "name": "stdout",
     "output_type": "stream",
     "text": [
      "Has audio stream?: True\n"
     ]
    }
   ],
   "source": [
    "# audio\n",
    "media_file = MediaFile(MP3_AUDIO_PATH)\n",
    "print(\"Has audio stream?:\", media_file.has_audio_stream())"
   ]
  },
  {
   "cell_type": "markdown",
   "metadata": {},
   "source": [
    "## assert_has_audio_stream()"
   ]
  },
  {
   "cell_type": "code",
   "execution_count": 41,
   "metadata": {},
   "outputs": [
    {
     "name": "stdout",
     "output_type": "stream",
     "text": [
      "Has audio stream?: None\n"
     ]
    }
   ],
   "source": [
    "# video\n",
    "media_file = MediaFile(MP4_VIDEO_PATH)\n",
    "print(\"Has audio stream?:\", media_file.assert_has_audio_stream())"
   ]
  },
  {
   "cell_type": "code",
   "execution_count": 42,
   "metadata": {},
   "outputs": [
    {
     "ename": "MediaFileError",
     "evalue": "Media file '/Users/bensmidt/Documents/cai/backend/test_files/media/image/jpeg/test_image.jpeg' does not have an audio stream",
     "output_type": "error",
     "traceback": [
      "\u001b[0;31m---------------------------------------------------------------------------\u001b[0m",
      "\u001b[0;31mMediaFileError\u001b[0m                            Traceback (most recent call last)",
      "Cell \u001b[0;32mIn[42], line 3\u001b[0m\n\u001b[1;32m      1\u001b[0m \u001b[39m# image\u001b[39;00m\n\u001b[1;32m      2\u001b[0m media_file \u001b[39m=\u001b[39m MediaFile(JPEG_IMAGE_PATH)\n\u001b[0;32m----> 3\u001b[0m \u001b[39mprint\u001b[39m(\u001b[39m\"\u001b[39m\u001b[39mHas audio stream?:\u001b[39m\u001b[39m\"\u001b[39m, media_file\u001b[39m.\u001b[39;49massert_has_audio_stream())\n",
      "File \u001b[0;32m~/Documents/cai/backend/src/media/media_file.py:374\u001b[0m, in \u001b[0;36mMediaFile.assert_has_audio_stream\u001b[0;34m(self)\u001b[0m\n\u001b[1;32m    372\u001b[0m msg \u001b[39m=\u001b[39m \u001b[39mf\u001b[39m\u001b[39m\"\u001b[39m\u001b[39mMedia file \u001b[39m\u001b[39m'\u001b[39m\u001b[39m{\u001b[39;00m\u001b[39mself\u001b[39m\u001b[39m.\u001b[39m_path\u001b[39m}\u001b[39;00m\u001b[39m'\u001b[39m\u001b[39m does not have an audio stream\u001b[39m\u001b[39m\"\u001b[39m\n\u001b[1;32m    373\u001b[0m logging\u001b[39m.\u001b[39merror(msg)\n\u001b[0;32m--> 374\u001b[0m \u001b[39mraise\u001b[39;00m MediaFileError(msg)\n",
      "\u001b[0;31mMediaFileError\u001b[0m: Media file '/Users/bensmidt/Documents/cai/backend/test_files/media/image/jpeg/test_image.jpeg' does not have an audio stream"
     ]
    }
   ],
   "source": [
    "# image\n",
    "media_file = MediaFile(JPEG_IMAGE_PATH)\n",
    "print(\"Has audio stream?:\", media_file.assert_has_audio_stream())"
   ]
  },
  {
   "cell_type": "code",
   "execution_count": 43,
   "metadata": {},
   "outputs": [
    {
     "name": "stdout",
     "output_type": "stream",
     "text": [
      "Has audio stream?: None\n"
     ]
    }
   ],
   "source": [
    "# audio\n",
    "media_file = MediaFile(MP3_AUDIO_PATH)\n",
    "print(\"Has audio stream?:\", media_file.assert_has_audio_stream())"
   ]
  },
  {
   "cell_type": "markdown",
   "metadata": {},
   "source": [
    "## has_video_stream()"
   ]
  },
  {
   "cell_type": "code",
   "execution_count": 44,
   "metadata": {},
   "outputs": [
    {
     "name": "stdout",
     "output_type": "stream",
     "text": [
      "Has video stream?: True\n"
     ]
    }
   ],
   "source": [
    "# video\n",
    "media_file = MediaFile(MP4_VIDEO_PATH)\n",
    "print(\"Has video stream?:\", media_file.has_video_stream())"
   ]
  },
  {
   "cell_type": "code",
   "execution_count": 45,
   "metadata": {},
   "outputs": [
    {
     "name": "stdout",
     "output_type": "stream",
     "text": [
      "Has video stream?: False\n"
     ]
    }
   ],
   "source": [
    "# image\n",
    "media_file = MediaFile(JPEG_IMAGE_PATH)\n",
    "print(\"Has video stream?:\", media_file.has_video_stream())"
   ]
  },
  {
   "cell_type": "code",
   "execution_count": 46,
   "metadata": {},
   "outputs": [
    {
     "name": "stdout",
     "output_type": "stream",
     "text": [
      "Has video stream?: False\n"
     ]
    }
   ],
   "source": [
    "# audio\n",
    "media_file = MediaFile(MP3_AUDIO_PATH)\n",
    "print(\"Has video stream?:\", media_file.has_video_stream())"
   ]
  },
  {
   "cell_type": "markdown",
   "metadata": {},
   "source": [
    "## is_audio_only()"
   ]
  },
  {
   "cell_type": "code",
   "execution_count": 47,
   "metadata": {},
   "outputs": [
    {
     "name": "stdout",
     "output_type": "stream",
     "text": [
      "Audio only?: False\n"
     ]
    }
   ],
   "source": [
    "# video\n",
    "media_file = MediaFile(MP4_VIDEO_PATH)\n",
    "print(\"Audio only?:\", media_file.is_audio_only())"
   ]
  },
  {
   "cell_type": "code",
   "execution_count": 48,
   "metadata": {},
   "outputs": [
    {
     "name": "stdout",
     "output_type": "stream",
     "text": [
      "Audio only?: False\n"
     ]
    }
   ],
   "source": [
    "# image\n",
    "media_file = MediaFile(JPEG_IMAGE_PATH)\n",
    "print(\"Audio only?:\", media_file.is_audio_only())"
   ]
  },
  {
   "cell_type": "code",
   "execution_count": 49,
   "metadata": {},
   "outputs": [
    {
     "name": "stdout",
     "output_type": "stream",
     "text": [
      "Audio only?: True\n"
     ]
    }
   ],
   "source": [
    "# audio\n",
    "media_file = MediaFile(MP3_AUDIO_PATH)\n",
    "print(\"Audio only?:\", media_file.is_audio_only())"
   ]
  },
  {
   "cell_type": "markdown",
   "metadata": {},
   "source": [
    "## is_video_only()"
   ]
  },
  {
   "cell_type": "code",
   "execution_count": 50,
   "metadata": {},
   "outputs": [
    {
     "name": "stdout",
     "output_type": "stream",
     "text": [
      "Video only?: False\n"
     ]
    }
   ],
   "source": [
    "# video\n",
    "media_file = MediaFile(MP4_VIDEO_PATH)\n",
    "print(\"Video only?:\", media_file.is_video_only())"
   ]
  },
  {
   "cell_type": "code",
   "execution_count": 51,
   "metadata": {},
   "outputs": [
    {
     "name": "stdout",
     "output_type": "stream",
     "text": [
      "Video only?: False\n"
     ]
    }
   ],
   "source": [
    "# image\n",
    "media_file = MediaFile(JPEG_IMAGE_PATH)\n",
    "print(\"Video only?:\", media_file.is_video_only())"
   ]
  },
  {
   "cell_type": "code",
   "execution_count": 52,
   "metadata": {},
   "outputs": [
    {
     "name": "stdout",
     "output_type": "stream",
     "text": [
      "Video only?: False\n"
     ]
    }
   ],
   "source": [
    "# audio\n",
    "media_file = MediaFile(MP3_AUDIO_PATH)\n",
    "print(\"Video only?:\", media_file.is_video_only())"
   ]
  }
 ],
 "metadata": {
  "kernelspec": {
   "display_name": "env",
   "language": "python",
   "name": "python3"
  },
  "language_info": {
   "codemirror_mode": {
    "name": "ipython",
    "version": 3
   },
   "file_extension": ".py",
   "mimetype": "text/x-python",
   "name": "python",
   "nbconvert_exporter": "python",
   "pygments_lexer": "ipython3",
   "version": "3.11.5"
  },
  "orig_nbformat": 4
 },
 "nbformat": 4,
 "nbformat_minor": 2
}
