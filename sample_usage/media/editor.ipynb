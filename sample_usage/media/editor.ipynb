{
 "cells": [
  {
   "attachments": {},
   "cell_type": "markdown",
   "metadata": {},
   "source": [
    "## Setup"
   ]
  },
  {
   "cell_type": "code",
   "execution_count": 1,
   "metadata": {},
   "outputs": [],
   "source": [
    "%load_ext autoreload\n",
    "%autoreload 2"
   ]
  },
  {
   "cell_type": "code",
   "execution_count": 2,
   "metadata": {},
   "outputs": [
    {
     "name": "stdout",
     "output_type": "stream",
     "text": [
      "['/Users/bensmidt/Documents/cai/backend/src', '/Users/bensmidt/Documents/cai/backend/test', '/Users/bensmidt/Documents/cai/backend/sample_usage/media', '/opt/homebrew/Cellar/python@3.11/3.11.5/Frameworks/Python.framework/Versions/3.11/lib/python311.zip', '/opt/homebrew/Cellar/python@3.11/3.11.5/Frameworks/Python.framework/Versions/3.11/lib/python3.11', '/opt/homebrew/Cellar/python@3.11/3.11.5/Frameworks/Python.framework/Versions/3.11/lib/python3.11/lib-dynload', '', '/Users/bensmidt/Documents/cai/backend/env/lib/python3.11/site-packages', '/Users/bensmidt/Documents/cai/backend/src']\n"
     ]
    }
   ],
   "source": [
    "import sys, os\n",
    "\n",
    "ROOT_PATH = os.path.abspath(os.path.join(\"..\", \"..\"))\n",
    "SRC_PATH = os.path.join(ROOT_PATH, \"src\")\n",
    "TEST_PATH = os.path.join(ROOT_PATH, \"test\")\n",
    "sys.path.insert(0, TEST_PATH)\n",
    "sys.path.insert(0, SRC_PATH)\n",
    "print(sys.path)"
   ]
  },
  {
   "cell_type": "code",
   "execution_count": 3,
   "metadata": {},
   "outputs": [],
   "source": [
    "import logging, socket\n",
    "\n",
    "logger = logging.getLogger()\n",
    "fhandler = logging.FileHandler(filename=\"editor.log\", mode=\"w\")\n",
    "format_str = f\"[%(asctime)s {socket.gethostname()}] %(filename)s:%(funcName)s:%(lineno)s - %(levelname)s: %(message)s\"\n",
    "formatter = logging.Formatter(format_str)\n",
    "fhandler.setFormatter(formatter)\n",
    "logger.addHandler(fhandler)\n",
    "logger.setLevel(logging.INFO)"
   ]
  },
  {
   "cell_type": "code",
   "execution_count": 4,
   "metadata": {},
   "outputs": [],
   "source": [
    "from media.editor import MediaEditor\n",
    "from media.audio_file import AudioFile\n",
    "from media.audiovideo_file import AudioVideoFile\n",
    "from media.image_file import ImageFile\n",
    "from test_files import TestFiles"
   ]
  },
  {
   "cell_type": "code",
   "execution_count": 5,
   "metadata": {},
   "outputs": [],
   "source": [
    "test_files = TestFiles()\n",
    "media_editor = MediaEditor()"
   ]
  },
  {
   "cell_type": "code",
   "execution_count": 6,
   "metadata": {},
   "outputs": [
    {
     "name": "stdout",
     "output_type": "stream",
     "text": [
      "/Users/bensmidt/Documents/cai/backend/test_files/media/video/mp4/camera.mp4\n",
      "/Users/bensmidt/Documents/cai/backend/test_files/media/video/mp4/aod.mp4\n",
      "/Users/bensmidt/Documents/cai/backend/test_files/media/video/mp4/deleteme copy.mp4\n"
     ]
    }
   ],
   "source": [
    "for path in test_files.get_mp4_video_file_paths():\n",
    "    print(path)"
   ]
  },
  {
   "cell_type": "markdown",
   "metadata": {},
   "source": [
    "## Paths"
   ]
  },
  {
   "cell_type": "code",
   "execution_count": 7,
   "metadata": {},
   "outputs": [],
   "source": [
    "# source paths\n",
    "MP4_VIDEO_PATH = test_files.get_mp4_video_file_paths()[0]\n",
    "MP4_AUDIOVIDEO_PATH = test_files.get_mp4_audiovideo_file_paths()[0]\n",
    "JPEG_IMAGE_PATH = test_files.get_jpeg_image_file_paths()[0]\n",
    "MP3_AUDIO_PATH = test_files.get_mp3_audio_file_paths()[0]\n",
    "JSON_PATH = test_files.get_json_file_paths()[0]\n",
    "WATERMARK_PATH = os.path.join(\n",
    "    ROOT_PATH, \"test_files\", \"logos\", \"logo1\", \"png transparent\", \"white.png\"\n",
    ")\n",
    "\n",
    "DEST_IMG_PATH = os.path.join(test_files.get_image_dir().path, \"deleteme.jpeg\")\n",
    "DEST_MP3_PATH = os.path.join(test_files.get_mp3_audio_dir().path, \"deleteme.mp3\")\n",
    "DEST_MP4_VIDEO_PATH = os.path.join(test_files.get_mp4_video_dir().path, \"deleteme.mp4\")\n",
    "DEST_MP4_AUDIOVIDEO_PATH = os.path.join(\n",
    "    test_files.get_mp4_audiovideo_dir().path, \"deleteme.mp4\"\n",
    ")\n",
    "\n",
    "INVALID_PATH = test_files.get_invalid_paths()[0]"
   ]
  },
  {
   "attachments": {},
   "cell_type": "markdown",
   "metadata": {},
   "source": [
    "## Sandbox"
   ]
  },
  {
   "attachments": {},
   "cell_type": "markdown",
   "metadata": {},
   "source": [
    "## trim()"
   ]
  },
  {
   "cell_type": "code",
   "execution_count": 41,
   "metadata": {},
   "outputs": [
    {
     "name": "stdout",
     "output_type": "stream",
     "text": [
      "/Users/bensmidt/Documents/cai/backend/test_files/media/audio/mp4/aod_test-audio_only.mp4\n",
      "56.493991\n"
     ]
    }
   ],
   "source": [
    "audio_file = test_files.get_mp4_audio_files()[0]\n",
    "print(audio_file.path)\n",
    "print(audio_file.get_duration())"
   ]
  },
  {
   "cell_type": "code",
   "execution_count": 46,
   "metadata": {},
   "outputs": [],
   "source": [
    "trimmed_audio_file_path = \"/Users/bensmidt/Documents/cai/backend/test_files/media/audio/mp4/aod_test_segment{}.mp4\".format(5)\n",
    "trimmed_video_file = media_editor.trim(\n",
    "    media_file=audio_file,\n",
    "    start_sec=40,\n",
    "    end_sec=50,\n",
    "    trimmed_media_file_path=trimmed_audio_file_path,\n",
    "    overwrite=True,\n",
    "    video_codec=\"copy\",\n",
    "    audio_codec=\"aac\",\n",
    "    crf=\"18\",\n",
    "    preset=\"veryfast\",\n",
    "    num_threads=\"0\",\n",
    ")"
   ]
  },
  {
   "cell_type": "code",
   "execution_count": null,
   "metadata": {},
   "outputs": [],
   "source": [
    "# audio\n",
    "audio_file = AudioFile(MP3_AUDIO_PATH)\n",
    "trimmed_audio_file_path = os.path.join(DEST_MP3_PATH)\n",
    "trimmed_audio_file = media_editor.trim(\n",
    "    audio_file,\n",
    "    17,\n",
    "    25,\n",
    "    trimmed_audio_file_path,\n",
    "    True,\n",
    "    \"copy\",\n",
    "    \"copy\",\n",
    "    \"23\",\n",
    "    \"ultrafast\",\n",
    ")"
   ]
  },
  {
   "attachments": {},
   "cell_type": "markdown",
   "metadata": {},
   "source": [
    "## copy_temporal_media_file()"
   ]
  },
  {
   "cell_type": "code",
   "execution_count": 10,
   "metadata": {},
   "outputs": [],
   "source": [
    "# video\n",
    "video_file = AudioVideoFile(\"/Users/bensmidt/Documents/cai/backend/test_files/media/audiovideo/mp4/israel1.mp4\")\n",
    "copied_video_file_path = os.path.join(\"/Users/bensmidt/Documents/cai/backend/test_files/media/audiovideo/mp4/ilya1.mp4\")\n",
    "copied_video_file = media_editor.copy_temporal_media_file(\n",
    "    video_file,\n",
    "    copied_video_file_path,\n",
    "    True,\n",
    "    \"libx264\",\n",
    "    \"aac\",\n",
    "    \"18\",\n",
    "    \"veryfast\",\n",
    ")"
   ]
  },
  {
   "cell_type": "code",
   "execution_count": null,
   "metadata": {},
   "outputs": [],
   "source": [
    "# audio\n",
    "audio_file = AudioFile(MP3_AUDIO_PATH)\n",
    "copied_audio_file_path = os.path.join(DEST_MP3_PATH)\n",
    "copied_audio_file = media_editor.copy_temporal_media_file(\n",
    "    audio_file,\n",
    "    copied_audio_file_path,\n",
    "    True,\n",
    "    \"copy\",\n",
    "    \"copy\",\n",
    "    \"23\",\n",
    "    \"ultrafast\",\n",
    ")"
   ]
  },
  {
   "cell_type": "markdown",
   "metadata": {},
   "source": [
    "## transcode_video()"
   ]
  },
  {
   "cell_type": "code",
   "execution_count": 10,
   "metadata": {},
   "outputs": [
    {
     "ename": "KeyboardInterrupt",
     "evalue": "",
     "output_type": "error",
     "traceback": [
      "\u001b[0;31m---------------------------------------------------------------------------\u001b[0m",
      "\u001b[0;31mKeyboardInterrupt\u001b[0m                         Traceback (most recent call last)",
      "\u001b[1;32m/Users/bensmidt/Documents/cai/backend/sample_usage/media/editor.ipynb Cell 19\u001b[0m line \u001b[0;36m6\n\u001b[1;32m      <a href='vscode-notebook-cell:/Users/bensmidt/Documents/cai/backend/sample_usage/media/editor.ipynb#X24sZmlsZQ%3D%3D?line=1'>2</a>\u001b[0m video_file \u001b[39m=\u001b[39m AudioVideoFile(\n\u001b[1;32m      <a href='vscode-notebook-cell:/Users/bensmidt/Documents/cai/backend/sample_usage/media/editor.ipynb#X24sZmlsZQ%3D%3D?line=2'>3</a>\u001b[0m     \u001b[39m\"\u001b[39m\u001b[39m/Users/bensmidt/Documents/cai/backend/test_files/media/audiovideo/mp4/elon2.mp4\u001b[39m\u001b[39m\"\u001b[39m\n\u001b[1;32m      <a href='vscode-notebook-cell:/Users/bensmidt/Documents/cai/backend/sample_usage/media/editor.ipynb#X24sZmlsZQ%3D%3D?line=3'>4</a>\u001b[0m )\n\u001b[1;32m      <a href='vscode-notebook-cell:/Users/bensmidt/Documents/cai/backend/sample_usage/media/editor.ipynb#X24sZmlsZQ%3D%3D?line=4'>5</a>\u001b[0m transcoded_video_file_path \u001b[39m=\u001b[39m DEST_MP4_AUDIOVIDEO_PATH\n\u001b[0;32m----> <a href='vscode-notebook-cell:/Users/bensmidt/Documents/cai/backend/sample_usage/media/editor.ipynb#X24sZmlsZQ%3D%3D?line=5'>6</a>\u001b[0m transcoded_video_file \u001b[39m=\u001b[39m media_editor\u001b[39m.\u001b[39;49mtranscode(\n\u001b[1;32m      <a href='vscode-notebook-cell:/Users/bensmidt/Documents/cai/backend/sample_usage/media/editor.ipynb#X24sZmlsZQ%3D%3D?line=6'>7</a>\u001b[0m     video_file,\n\u001b[1;32m      <a href='vscode-notebook-cell:/Users/bensmidt/Documents/cai/backend/sample_usage/media/editor.ipynb#X24sZmlsZQ%3D%3D?line=7'>8</a>\u001b[0m     transcoded_video_file_path,\n\u001b[1;32m      <a href='vscode-notebook-cell:/Users/bensmidt/Documents/cai/backend/sample_usage/media/editor.ipynb#X24sZmlsZQ%3D%3D?line=8'>9</a>\u001b[0m     \u001b[39m\"\u001b[39;49m\u001b[39mlibx264\u001b[39;49m\u001b[39m\"\u001b[39;49m,\n\u001b[1;32m     <a href='vscode-notebook-cell:/Users/bensmidt/Documents/cai/backend/sample_usage/media/editor.ipynb#X24sZmlsZQ%3D%3D?line=9'>10</a>\u001b[0m     \u001b[39m\"\u001b[39;49m\u001b[39maac\u001b[39;49m\u001b[39m\"\u001b[39;49m,\n\u001b[1;32m     <a href='vscode-notebook-cell:/Users/bensmidt/Documents/cai/backend/sample_usage/media/editor.ipynb#X24sZmlsZQ%3D%3D?line=10'>11</a>\u001b[0m     \u001b[39m\"\u001b[39;49m\u001b[39m18\u001b[39;49m\u001b[39m\"\u001b[39;49m,\n\u001b[1;32m     <a href='vscode-notebook-cell:/Users/bensmidt/Documents/cai/backend/sample_usage/media/editor.ipynb#X24sZmlsZQ%3D%3D?line=11'>12</a>\u001b[0m     \u001b[39m\"\u001b[39;49m\u001b[39mveryfast\u001b[39;49m\u001b[39m\"\u001b[39;49m,\n\u001b[1;32m     <a href='vscode-notebook-cell:/Users/bensmidt/Documents/cai/backend/sample_usage/media/editor.ipynb#X24sZmlsZQ%3D%3D?line=12'>13</a>\u001b[0m )\n",
      "File \u001b[0;32m~/Documents/cai/backend/src/media/editor.py:338\u001b[0m, in \u001b[0;36mMediaEditor.transcode\u001b[0;34m(self, media_file, transcoded_media_file_path, video_codec, audio_codec, crf, preset, overwrite, num_threads)\u001b[0m\n\u001b[1;32m    293\u001b[0m \u001b[39mdef\u001b[39;00m \u001b[39mtranscode\u001b[39m(\n\u001b[1;32m    294\u001b[0m     \u001b[39mself\u001b[39m,\n\u001b[1;32m    295\u001b[0m     media_file: TemporalMediaFile,\n\u001b[0;32m   (...)\u001b[0m\n\u001b[1;32m    302\u001b[0m     num_threads: \u001b[39mstr\u001b[39m \u001b[39m=\u001b[39m \u001b[39m\"\u001b[39m\u001b[39m0\u001b[39m\u001b[39m\"\u001b[39m,\n\u001b[1;32m    303\u001b[0m ) \u001b[39m-\u001b[39m\u001b[39m>\u001b[39m TemporalMediaFile \u001b[39mor\u001b[39;00m \u001b[39mNone\u001b[39;00m:\n\u001b[1;32m    304\u001b[0m \u001b[39m    \u001b[39m\u001b[39m\"\"\"\u001b[39;00m\n\u001b[1;32m    305\u001b[0m \u001b[39m    Transcodes media file (audio or video) to the specified codecs\u001b[39;00m\n\u001b[1;32m    306\u001b[0m \n\u001b[0;32m   (...)\u001b[0m\n\u001b[1;32m    336\u001b[0m \u001b[39m        unsuccessful\u001b[39;00m\n\u001b[1;32m    337\u001b[0m \u001b[39m    \"\"\"\u001b[39;00m\n\u001b[0;32m--> 338\u001b[0m     \u001b[39mreturn\u001b[39;00m \u001b[39mself\u001b[39;49m\u001b[39m.\u001b[39;49mcopy_temporal_media_file(\n\u001b[1;32m    339\u001b[0m         media_file,\n\u001b[1;32m    340\u001b[0m         transcoded_media_file_path,\n\u001b[1;32m    341\u001b[0m         overwrite,\n\u001b[1;32m    342\u001b[0m         video_codec,\n\u001b[1;32m    343\u001b[0m         audio_codec,\n\u001b[1;32m    344\u001b[0m         crf,\n\u001b[1;32m    345\u001b[0m         preset,\n\u001b[1;32m    346\u001b[0m         num_threads,\n\u001b[1;32m    347\u001b[0m     )\n",
      "File \u001b[0;32m~/Documents/cai/backend/src/media/editor.py:270\u001b[0m, in \u001b[0;36mMediaEditor.copy_temporal_media_file\u001b[0;34m(self, media_file, copied_media_file_path, overwrite, video_codec, audio_codec, crf, preset, num_threads)\u001b[0m\n\u001b[1;32m    267\u001b[0m     logging\u001b[39m.\u001b[39merror(msg)\n\u001b[1;32m    268\u001b[0m     \u001b[39mraise\u001b[39;00m MediaEditorError(msg)\n\u001b[0;32m--> 270\u001b[0m copied_media_file \u001b[39m=\u001b[39m \u001b[39mself\u001b[39;49m\u001b[39m.\u001b[39;49mtrim(\n\u001b[1;32m    271\u001b[0m     media_file,\n\u001b[1;32m    272\u001b[0m     \u001b[39m0\u001b[39;49m,\n\u001b[1;32m    273\u001b[0m     duration,\n\u001b[1;32m    274\u001b[0m     copied_media_file_path,\n\u001b[1;32m    275\u001b[0m     overwrite,\n\u001b[1;32m    276\u001b[0m     video_codec,\n\u001b[1;32m    277\u001b[0m     audio_codec,\n\u001b[1;32m    278\u001b[0m     crf,\n\u001b[1;32m    279\u001b[0m     preset,\n\u001b[1;32m    280\u001b[0m     num_threads,\n\u001b[1;32m    281\u001b[0m )\n\u001b[1;32m    282\u001b[0m \u001b[39mif\u001b[39;00m copied_media_file \u001b[39mis\u001b[39;00m \u001b[39mNone\u001b[39;00m:\n\u001b[1;32m    283\u001b[0m     msg \u001b[39m=\u001b[39m (\n\u001b[1;32m    284\u001b[0m         \u001b[39m\"\u001b[39m\u001b[39mCopying media file \u001b[39m\u001b[39m'\u001b[39m\u001b[39m{}\u001b[39;00m\u001b[39m'\u001b[39m\u001b[39m to \u001b[39m\u001b[39m'\u001b[39m\u001b[39m{}\u001b[39;00m\u001b[39m'\u001b[39m\u001b[39m was unsuccessful.\u001b[39m\u001b[39m\"\u001b[39m\n\u001b[1;32m    285\u001b[0m         \u001b[39m\"\u001b[39m\u001b[39m\"\u001b[39m\u001b[39m.\u001b[39mformat(media_file\u001b[39m.\u001b[39mpath, copied_media_file_path)\n\u001b[1;32m    286\u001b[0m     )\n",
      "File \u001b[0;32m~/Documents/cai/backend/src/media/editor.py:185\u001b[0m, in \u001b[0;36mMediaEditor.trim\u001b[0;34m(self, media_file, start_sec, end_sec, trimmed_media_file_path, overwrite, video_codec, audio_codec, crf, preset, num_threads, crop_width, crop_height, crop_x)\u001b[0m\n\u001b[1;32m    182\u001b[0m ffmpeg_command\u001b[39m.\u001b[39mappend(trimmed_media_file_path)\n\u001b[1;32m    184\u001b[0m logging\u001b[39m.\u001b[39minfo(\u001b[39m\"\u001b[39m\u001b[39mffmpeg_command: \u001b[39m\u001b[39m%s\u001b[39;00m\u001b[39m\"\u001b[39m, ffmpeg_command)\n\u001b[0;32m--> 185\u001b[0m result \u001b[39m=\u001b[39m subprocess\u001b[39m.\u001b[39;49mrun(\n\u001b[1;32m    186\u001b[0m     ffmpeg_command,\n\u001b[1;32m    187\u001b[0m     capture_output\u001b[39m=\u001b[39;49m\u001b[39mTrue\u001b[39;49;00m,\n\u001b[1;32m    188\u001b[0m     text\u001b[39m=\u001b[39;49m\u001b[39mTrue\u001b[39;49;00m,\n\u001b[1;32m    189\u001b[0m )\n\u001b[1;32m    191\u001b[0m msg \u001b[39m=\u001b[39m (\n\u001b[1;32m    192\u001b[0m     \u001b[39m\"\u001b[39m\u001b[39mTerminal return code: \u001b[39m\u001b[39m'\u001b[39m\u001b[39m{}\u001b[39;00m\u001b[39m'\u001b[39m\u001b[39m\\n\u001b[39;00m\u001b[39m\"\u001b[39m\n\u001b[1;32m    193\u001b[0m     \u001b[39m\"\u001b[39m\u001b[39mOutput: \u001b[39m\u001b[39m'\u001b[39m\u001b[39m{}\u001b[39;00m\u001b[39m'\u001b[39m\u001b[39m\\n\u001b[39;00m\u001b[39m\"\u001b[39m\n\u001b[1;32m    194\u001b[0m     \u001b[39m\"\u001b[39m\u001b[39mErr Output: \u001b[39m\u001b[39m'\u001b[39m\u001b[39m{}\u001b[39;00m\u001b[39m'\u001b[39m\u001b[39m\\n\u001b[39;00m\u001b[39m\"\u001b[39m\n\u001b[1;32m    195\u001b[0m     \u001b[39m\"\u001b[39m\u001b[39m\"\u001b[39m\u001b[39m.\u001b[39mformat(result\u001b[39m.\u001b[39mreturncode, result\u001b[39m.\u001b[39mstdout, result\u001b[39m.\u001b[39mstderr)\n\u001b[1;32m    196\u001b[0m )\n\u001b[1;32m    197\u001b[0m \u001b[39m# failure\u001b[39;00m\n",
      "File \u001b[0;32m/opt/homebrew/Cellar/python@3.11/3.11.5/Frameworks/Python.framework/Versions/3.11/lib/python3.11/subprocess.py:550\u001b[0m, in \u001b[0;36mrun\u001b[0;34m(input, capture_output, timeout, check, *popenargs, **kwargs)\u001b[0m\n\u001b[1;32m    548\u001b[0m \u001b[39mwith\u001b[39;00m Popen(\u001b[39m*\u001b[39mpopenargs, \u001b[39m*\u001b[39m\u001b[39m*\u001b[39mkwargs) \u001b[39mas\u001b[39;00m process:\n\u001b[1;32m    549\u001b[0m     \u001b[39mtry\u001b[39;00m:\n\u001b[0;32m--> 550\u001b[0m         stdout, stderr \u001b[39m=\u001b[39m process\u001b[39m.\u001b[39;49mcommunicate(\u001b[39minput\u001b[39;49m, timeout\u001b[39m=\u001b[39;49mtimeout)\n\u001b[1;32m    551\u001b[0m     \u001b[39mexcept\u001b[39;00m TimeoutExpired \u001b[39mas\u001b[39;00m exc:\n\u001b[1;32m    552\u001b[0m         process\u001b[39m.\u001b[39mkill()\n",
      "File \u001b[0;32m/opt/homebrew/Cellar/python@3.11/3.11.5/Frameworks/Python.framework/Versions/3.11/lib/python3.11/subprocess.py:1209\u001b[0m, in \u001b[0;36mPopen.communicate\u001b[0;34m(self, input, timeout)\u001b[0m\n\u001b[1;32m   1206\u001b[0m     endtime \u001b[39m=\u001b[39m \u001b[39mNone\u001b[39;00m\n\u001b[1;32m   1208\u001b[0m \u001b[39mtry\u001b[39;00m:\n\u001b[0;32m-> 1209\u001b[0m     stdout, stderr \u001b[39m=\u001b[39m \u001b[39mself\u001b[39;49m\u001b[39m.\u001b[39;49m_communicate(\u001b[39minput\u001b[39;49m, endtime, timeout)\n\u001b[1;32m   1210\u001b[0m \u001b[39mexcept\u001b[39;00m \u001b[39mKeyboardInterrupt\u001b[39;00m:\n\u001b[1;32m   1211\u001b[0m     \u001b[39m# https://bugs.python.org/issue25942\u001b[39;00m\n\u001b[1;32m   1212\u001b[0m     \u001b[39m# See the detailed comment in .wait().\u001b[39;00m\n\u001b[1;32m   1213\u001b[0m     \u001b[39mif\u001b[39;00m timeout \u001b[39mis\u001b[39;00m \u001b[39mnot\u001b[39;00m \u001b[39mNone\u001b[39;00m:\n",
      "File \u001b[0;32m/opt/homebrew/Cellar/python@3.11/3.11.5/Frameworks/Python.framework/Versions/3.11/lib/python3.11/subprocess.py:2108\u001b[0m, in \u001b[0;36mPopen._communicate\u001b[0;34m(self, input, endtime, orig_timeout)\u001b[0m\n\u001b[1;32m   2101\u001b[0m     \u001b[39mself\u001b[39m\u001b[39m.\u001b[39m_check_timeout(endtime, orig_timeout,\n\u001b[1;32m   2102\u001b[0m                         stdout, stderr,\n\u001b[1;32m   2103\u001b[0m                         skip_check_and_raise\u001b[39m=\u001b[39m\u001b[39mTrue\u001b[39;00m)\n\u001b[1;32m   2104\u001b[0m     \u001b[39mraise\u001b[39;00m \u001b[39mRuntimeError\u001b[39;00m(  \u001b[39m# Impossible :)\u001b[39;00m\n\u001b[1;32m   2105\u001b[0m         \u001b[39m'\u001b[39m\u001b[39m_check_timeout(..., skip_check_and_raise=True) \u001b[39m\u001b[39m'\u001b[39m\n\u001b[1;32m   2106\u001b[0m         \u001b[39m'\u001b[39m\u001b[39mfailed to raise TimeoutExpired.\u001b[39m\u001b[39m'\u001b[39m)\n\u001b[0;32m-> 2108\u001b[0m ready \u001b[39m=\u001b[39m selector\u001b[39m.\u001b[39;49mselect(timeout)\n\u001b[1;32m   2109\u001b[0m \u001b[39mself\u001b[39m\u001b[39m.\u001b[39m_check_timeout(endtime, orig_timeout, stdout, stderr)\n\u001b[1;32m   2111\u001b[0m \u001b[39m# XXX Rewrite these to use non-blocking I/O on the file\u001b[39;00m\n\u001b[1;32m   2112\u001b[0m \u001b[39m# objects; they are no longer using C stdio!\u001b[39;00m\n",
      "File \u001b[0;32m/opt/homebrew/Cellar/python@3.11/3.11.5/Frameworks/Python.framework/Versions/3.11/lib/python3.11/selectors.py:415\u001b[0m, in \u001b[0;36m_PollLikeSelector.select\u001b[0;34m(self, timeout)\u001b[0m\n\u001b[1;32m    413\u001b[0m ready \u001b[39m=\u001b[39m []\n\u001b[1;32m    414\u001b[0m \u001b[39mtry\u001b[39;00m:\n\u001b[0;32m--> 415\u001b[0m     fd_event_list \u001b[39m=\u001b[39m \u001b[39mself\u001b[39m\u001b[39m.\u001b[39m_selector\u001b[39m.\u001b[39mpoll(timeout)\n\u001b[1;32m    416\u001b[0m \u001b[39mexcept\u001b[39;00m \u001b[39mInterruptedError\u001b[39;00m:\n\u001b[1;32m    417\u001b[0m     \u001b[39mreturn\u001b[39;00m ready\n",
      "\u001b[0;31mKeyboardInterrupt\u001b[0m: "
     ]
    }
   ],
   "source": [
    "# video\n",
    "video_file = AudioVideoFile(\n",
    "    \"/Users/bensmidt/Documents/cai/backend/test_files/media/audiovideo/mp4/elon2.mp4\"\n",
    ")\n",
    "transcoded_video_file_path = DEST_MP4_AUDIOVIDEO_PATH\n",
    "transcoded_video_file = media_editor.transcode(\n",
    "    video_file,\n",
    "    transcoded_video_file_path,\n",
    "    \"libx264\",\n",
    "    \"aac\",\n",
    "    \"18\",\n",
    "    \"veryfast\",\n",
    ")"
   ]
  },
  {
   "cell_type": "code",
   "execution_count": null,
   "metadata": {},
   "outputs": [],
   "source": [
    "print(transcoded_video_file.path)"
   ]
  },
  {
   "attachments": {},
   "cell_type": "markdown",
   "metadata": {},
   "source": [
    "## watermark_video()"
   ]
  },
  {
   "cell_type": "code",
   "execution_count": null,
   "metadata": {},
   "outputs": [],
   "source": [
    "video_file = AudioVideoFile(\n",
    "    \"/Users/bensmidt/Documents/cai/backend/test_files/media/audio_video/mp4/aod_test.mp4\"\n",
    ")\n",
    "watermark_file = ImageFile(WATERMARK_PATH)\n",
    "watermarked_video_file_path = DEST_MP4_AUDIOVIDEO_PATH\n",
    "\n",
    "watermarked_video = media_editor.watermark_video(\n",
    "    video_file=video_file,\n",
    "    watermark_file=watermark_file,\n",
    "    watermarked_video_file_path=watermarked_video_file_path,\n",
    "    size_dim=\"w\",\n",
    "    watermark_to_video_ratio_size_dim=0.3,\n",
    "    x=\"0\",\n",
    "    y=\"0\",\n",
    "    opacity=1,\n",
    "    start_sec=0,\n",
    "    end_sec=30,\n",
    "    video_codec=\"libx264\",\n",
    "    audio_codec=\"aac\",\n",
    "    crf=\"23\",\n",
    "    preset=\"veryfast\",\n",
    "    num_threads=\"0\",\n",
    ")\n",
    "print(watermarked_video.path)"
   ]
  },
  {
   "cell_type": "markdown",
   "metadata": {},
   "source": [
    "## watermark_corner_of_video"
   ]
  },
  {
   "cell_type": "code",
   "execution_count": null,
   "metadata": {},
   "outputs": [],
   "source": [
    "video_file = AudioVideoFile(\n",
    "    \"/Users/bensmidt/Documents/cai/backend/test_files/media/audio_video/mp4/aod_test.mp4\"\n",
    ")\n",
    "watermark_file = ImageFile(WATERMARK_PATH)\n",
    "watermarked_video_file_path = DEST_MP4_AUDIOVIDEO_PATH\n",
    "\n",
    "watermarked_video = media_editor.watermark_corner_of_video(\n",
    "    video_file=video_file,\n",
    "    watermark_file=watermark_file,\n",
    "    watermarked_video_file_path=watermarked_video_file_path,\n",
    "    watermark_to_video_ratio_along_smaller_video_dimension=0.2,\n",
    "    corner=\"top_left\",\n",
    "    opacity=1,\n",
    "    overwrite=True,\n",
    "    start_sec=0,\n",
    "    end_sec=10,\n",
    "    video_codec=\"libx264\",\n",
    "    audio_codec=\"aac\",\n",
    "    crf=\"23\",\n",
    "    preset=\"veryfast\",\n",
    "    num_threads=\"0\",\n",
    ")\n",
    "print(watermarked_video.path)"
   ]
  },
  {
   "attachments": {},
   "cell_type": "markdown",
   "metadata": {},
   "source": [
    "## merge_audio_and_video()"
   ]
  },
  {
   "cell_type": "code",
   "execution_count": null,
   "metadata": {},
   "outputs": [],
   "source": [
    "audio_file = AudioFile(\n",
    "    os.path.join(\n",
    "        ROOT_PATH, \"test_files\", \"media\", \"audio\", \"mp3\", \"aod_test-audio_only.mp3\"\n",
    "    )\n",
    ")\n",
    "video_file = AudioVideoFile(\n",
    "    os.path.join(\n",
    "        os.path.join(ROOT_PATH, \"test_files\", \"media\", \"video\", \"mp4\", \"aod_test.mp4\")\n",
    "    )\n",
    ")\n",
    "merged_file_path = DEST_MP4_AUDIOVIDEO_PATH\n",
    "\n",
    "merged_video_file = media_editor.merge_audio_and_video(\n",
    "    video_file, audio_file, merged_file_path, True, \"copy\", \"copy\"\n",
    ")"
   ]
  },
  {
   "cell_type": "markdown",
   "metadata": {},
   "source": [
    "## crop_video()"
   ]
  },
  {
   "cell_type": "code",
   "execution_count": 53,
   "metadata": {},
   "outputs": [
    {
     "name": "stdout",
     "output_type": "stream",
     "text": [
      "/Users/bensmidt/Documents/cai/backend/test_files/media/audiovideo/mp4/aod_test.mp4\n",
      "height pixels 720\n",
      "width pixels 1280\n"
     ]
    }
   ],
   "source": [
    "audiovideo_file = test_files.get_mp4_audiovideo_files()[0]\n",
    "print(audiovideo_file.path)\n",
    "print(\"height pixels\", audiovideo_file.get_height_pixels())\n",
    "print(\"width pixels\", audiovideo_file.get_width_pixels())"
   ]
  },
  {
   "cell_type": "code",
   "execution_count": 38,
   "metadata": {},
   "outputs": [],
   "source": [
    "cropped_video_file = media_editor.crop_video(\n",
    "    original_video_file=audiovideo_file,\n",
    "    cropped_video_file_path=DEST_MP4_AUDIOVIDEO_PATH,\n",
    "    x=150,\n",
    "    y=0,\n",
    "    width=405,\n",
    "    height=720,\n",
    "    start_sec=None,\n",
    "    end_sec=None,\n",
    "    audio_codec=\"aac\",\n",
    "    video_codec=\"libx264\",\n",
    "    crf=\"18\",\n",
    "    preset=\"veryfast\",\n",
    "    num_threads=\"0\",\n",
    "    overwrite=True,\n",
    ")"
   ]
  },
  {
   "cell_type": "code",
   "execution_count": 39,
   "metadata": {},
   "outputs": [
    {
     "name": "stdout",
     "output_type": "stream",
     "text": [
      "/Users/bensmidt/Documents/cai/backend/test_files/media/audiovideo/mp4/deleteme.mp4\n"
     ]
    }
   ],
   "source": [
    "print(cropped_video_file.path)"
   ]
  },
  {
   "cell_type": "markdown",
   "metadata": {},
   "source": [
    "## concatenate()"
   ]
  },
  {
   "cell_type": "code",
   "execution_count": 49,
   "metadata": {},
   "outputs": [
    {
     "name": "stdout",
     "output_type": "stream",
     "text": [
      "/Users/bensmidt/Documents/cai/backend/test_files/media/audio/mp4/aod_test_segment1.mp4\n",
      "/Users/bensmidt/Documents/cai/backend/test_files/media/audio/mp4/aod_test_segment2.mp4\n",
      "/Users/bensmidt/Documents/cai/backend/test_files/media/audio/mp4/aod_test_segment3.mp4\n",
      "/Users/bensmidt/Documents/cai/backend/test_files/media/audio/mp4/aod_test_segment4.mp4\n",
      "/Users/bensmidt/Documents/cai/backend/test_files/media/audio/mp4/aod_test_segment5.mp4\n"
     ]
    }
   ],
   "source": [
    "audio_dir = test_files.get_mp4_audio_dir()\n",
    "audios = []\n",
    "for i in range(1, 6):\n",
    "    audios.append(\n",
    "        AudioFile(\n",
    "            os.path.join(audio_dir.path, \"aod_test_segment{}.mp4\".format(i))\n",
    "        )\n",
    "    )\n",
    "for audio in audios:\n",
    "    print(audio.path)"
   ]
  },
  {
   "cell_type": "code",
   "execution_count": 50,
   "metadata": {},
   "outputs": [
    {
     "name": "stderr",
     "output_type": "stream",
     "text": [
      "ffmpeg version 6.0 Copyright (c) 2000-2023 the FFmpeg developers\n",
      "  built with Apple clang version 14.0.3 (clang-1403.0.22.14.1)\n",
      "  configuration: --prefix=/opt/homebrew/Cellar/ffmpeg/6.0_1 --enable-shared --enable-pthreads --enable-version3 --cc=clang --host-cflags= --host-ldflags= --enable-ffplay --enable-gnutls --enable-gpl --enable-libaom --enable-libaribb24 --enable-libbluray --enable-libdav1d --enable-libjxl --enable-libmp3lame --enable-libopus --enable-librav1e --enable-librist --enable-librubberband --enable-libsnappy --enable-libsrt --enable-libsvtav1 --enable-libtesseract --enable-libtheora --enable-libvidstab --enable-libvmaf --enable-libvorbis --enable-libvpx --enable-libwebp --enable-libx264 --enable-libx265 --enable-libxml2 --enable-libxvid --enable-lzma --enable-libfontconfig --enable-libfreetype --enable-frei0r --enable-libass --enable-libopencore-amrnb --enable-libopencore-amrwb --enable-libopenjpeg --enable-libspeex --enable-libsoxr --enable-libzmq --enable-libzimg --disable-libjack --disable-indev=jack --enable-videotoolbox --enable-audiotoolbox --enable-neon\n",
      "  libavutil      58.  2.100 / 58.  2.100\n",
      "  libavcodec     60.  3.100 / 60.  3.100\n",
      "  libavformat    60.  3.100 / 60.  3.100\n",
      "  libavdevice    60.  1.100 / 60.  1.100\n",
      "  libavfilter     9.  3.100 /  9.  3.100\n",
      "  libswscale      7.  1.100 /  7.  1.100\n",
      "  libswresample   4. 10.100 /  4. 10.100\n",
      "  libpostproc    57.  1.100 / 57.  1.100\n",
      "Input #0, concat, from '/Users/bensmidt/Documents/cai/backend/data/9c826441d7d94e4fac07b79d8b0334b5_media_file_paths.txt':\n",
      "  Duration: N/A, start: -0.023220, bitrate: 117 kb/s\n",
      "  Stream #0:0(und): Audio: aac (LC) (mp4a / 0x6134706D), 44100 Hz, stereo, fltp, 117 kb/s\n",
      "    Metadata:\n",
      "      handler_name    : ISO Media file produced by Google Inc. Created on: 06/06/2022.\n",
      "      vendor_id       : [0][0][0][0]\n",
      "Stream mapping:\n",
      "  Stream #0:0 -> #0:0 (aac (native) -> aac (native))\n",
      "Press [q] to stop, [?] for help\n",
      "Output #0, mp4, to '/Users/bensmidt/Documents/cai/backend/test_files/media/audio/mp4/concatenated.mp4':\n",
      "  Metadata:\n",
      "    encoder         : Lavf60.3.100\n",
      "  Stream #0:0(und): Audio: aac (LC) (mp4a / 0x6134706D), 44100 Hz, stereo, fltp, 128 kb/s\n",
      "    Metadata:\n",
      "      handler_name    : ISO Media file produced by Google Inc. Created on: 06/06/2022.\n",
      "      vendor_id       : [0][0][0][0]\n",
      "      encoder         : Lavc60.3.100 aac\n",
      "size=     760kB time=00:00:50.00 bitrate= 124.5kbits/s speed=42.7x       \n",
      "video:0kB audio:751kB subtitle:0kB other streams:0kB global headers:0kB muxing overhead: 1.243070%\n",
      "[aac @ 0x13df0a210] Qavg: 5928.158\n"
     ]
    },
    {
     "name": "stdout",
     "output_type": "stream",
     "text": [
      "/Users/bensmidt/Documents/cai/backend/test_files/media/audio/mp4/concatenated.mp4\n"
     ]
    }
   ],
   "source": [
    "video = media_editor.concatenate(\n",
    "    audios,\n",
    "    os.path.join(audio_dir.path, \"concatenated.mp4\"),\n",
    ")\n",
    "print(video.path)"
   ]
  },
  {
   "cell_type": "markdown",
   "metadata": {},
   "source": [
    "## resize_video()"
   ]
  },
  {
   "cell_type": "code",
   "execution_count": 59,
   "metadata": {},
   "outputs": [
    {
     "name": "stdout",
     "output_type": "stream",
     "text": [
      "/Users/bensmidt/Documents/cai/backend/test_files/media/audiovideo/mp4/aod_test.mp4\n"
     ]
    }
   ],
   "source": [
    "audiovideo_file = test_files.get_mp4_audiovideo_files()[0]\n",
    "segments = [\n",
    "    {\n",
    "        \"x\": 500,\n",
    "        \"y\": 0,\n",
    "        \"start_sec\": 0,\n",
    "        \"end_sec\": 10,\n",
    "    },\n",
    "    {\n",
    "        \"x\": 200,\n",
    "        \"y\": 0,\n",
    "        \"start_sec\": 10,\n",
    "        \"end_sec\": 20,\n",
    "    },\n",
    "    {\n",
    "        \"x\": 300,\n",
    "        \"y\": 0,\n",
    "        \"start_sec\": 20,\n",
    "        \"end_sec\": 30,\n",
    "    },\n",
    "    {\n",
    "        \"x\": 100,\n",
    "        \"y\": 0,\n",
    "        \"start_sec\": 30,\n",
    "        \"end_sec\": 40,\n",
    "    }\n",
    "]\n",
    "print(audiovideo_file.path)"
   ]
  },
  {
   "cell_type": "code",
   "execution_count": 60,
   "metadata": {},
   "outputs": [
    {
     "name": "stderr",
     "output_type": "stream",
     "text": [
      "ffmpeg version 6.0 Copyright (c) 2000-2023 the FFmpeg developers\n",
      "  built with Apple clang version 14.0.3 (clang-1403.0.22.14.1)\n",
      "  configuration: --prefix=/opt/homebrew/Cellar/ffmpeg/6.0_1 --enable-shared --enable-pthreads --enable-version3 --cc=clang --host-cflags= --host-ldflags= --enable-ffplay --enable-gnutls --enable-gpl --enable-libaom --enable-libaribb24 --enable-libbluray --enable-libdav1d --enable-libjxl --enable-libmp3lame --enable-libopus --enable-librav1e --enable-librist --enable-librubberband --enable-libsnappy --enable-libsrt --enable-libsvtav1 --enable-libtesseract --enable-libtheora --enable-libvidstab --enable-libvmaf --enable-libvorbis --enable-libvpx --enable-libwebp --enable-libx264 --enable-libx265 --enable-libxml2 --enable-libxvid --enable-lzma --enable-libfontconfig --enable-libfreetype --enable-frei0r --enable-libass --enable-libopencore-amrnb --enable-libopencore-amrwb --enable-libopenjpeg --enable-libspeex --enable-libsoxr --enable-libzmq --enable-libzimg --disable-libjack --disable-indev=jack --enable-videotoolbox --enable-audiotoolbox --enable-neon\n",
      "  libavutil      58.  2.100 / 58.  2.100\n",
      "  libavcodec     60.  3.100 / 60.  3.100\n",
      "  libavformat    60.  3.100 / 60.  3.100\n",
      "  libavdevice    60.  1.100 / 60.  1.100\n",
      "  libavfilter     9.  3.100 /  9.  3.100\n",
      "  libswscale      7.  1.100 /  7.  1.100\n",
      "  libswresample   4. 10.100 /  4. 10.100\n",
      "  libpostproc    57.  1.100 / 57.  1.100\n",
      "[mov,mp4,m4a,3gp,3g2,mj2 @ 0x134304dd0] Auto-inserting h264_mp4toannexb bitstream filter\n",
      "Input #0, concat, from '/Users/bensmidt/Documents/cai/backend/data/f4aebaeb8a8e40b5b7b525f1f3d2544d_media_file_paths.txt':\n",
      "  Duration: N/A, start: -0.023220, bitrate: 623 kb/s\n",
      "  Stream #0:0(und): Video: h264 (High) (avc1 / 0x31637661), yuv420p(tv, bt709, progressive), 404x720 [SAR 1:1 DAR 101:180], 505 kb/s, 30 fps, 30 tbr, 15360 tbn\n",
      "    Metadata:\n",
      "      handler_name    : ISO Media file produced by Google Inc. Created on: 06/06/2022.\n",
      "      vendor_id       : [0][0][0][0]\n",
      "      encoder         : Lavc60.3.100 libx264\n",
      "  Stream #0:1(und): Audio: aac (LC) (mp4a / 0x6134706D), 44100 Hz, stereo, fltp, 117 kb/s\n",
      "    Metadata:\n",
      "      handler_name    : ISO Media file produced by Google Inc. Created on: 06/06/2022.\n",
      "      vendor_id       : [0][0][0][0]\n",
      "Stream mapping:\n",
      "  Stream #0:0 -> #0:0 (h264 (native) -> h264 (libx264))\n",
      "  Stream #0:1 -> #0:1 (aac (native) -> aac (native))\n",
      "Press [q] to stop, [?] for help\n",
      "[libx264 @ 0x134212ea0] using SAR=1/1\n",
      "[libx264 @ 0x134212ea0] using cpu capabilities: ARMv8 NEON\n",
      "[libx264 @ 0x134212ea0] profile High, level 3.0, 4:2:0, 8-bit\n",
      "[libx264 @ 0x134212ea0] 264 - core 164 r3095 baee400 - H.264/MPEG-4 AVC codec - Copyleft 2003-2022 - http://www.videolan.org/x264.html - options: cabac=1 ref=3 deblock=1:0:0 analyse=0x3:0x113 me=hex subme=7 psy=1 psy_rd=1.00:0.00 mixed_ref=1 me_range=16 chroma_me=1 trellis=1 8x8dct=1 cqm=0 deadzone=21,11 fast_pskip=1 chroma_qp_offset=-2 threads=18 lookahead_threads=3 sliced_threads=0 nr=0 decimate=1 interlaced=0 bluray_compat=0 constrained_intra=0 bframes=3 b_pyramid=2 b_adapt=1 b_bias=0 direct=1 weightb=1 open_gop=0 weightp=2 keyint=250 keyint_min=25 scenecut=40 intra_refresh=0 rc_lookahead=40 rc=crf mbtree=1 crf=23.0 qcomp=0.60 qpmin=0 qpmax=69 qpstep=4 ip_ratio=1.40 aq=1:1.00\n",
      "Output #0, mp4, to '/Users/bensmidt/Documents/cai/backend/test_files/media/audiovideo/mp4/deleteme.mp4':\n",
      "  Metadata:\n",
      "    encoder         : Lavf60.3.100\n",
      "  Stream #0:0(und): Video: h264 (avc1 / 0x31637661), yuv420p(tv, bt709, progressive), 404x720 [SAR 1:1 DAR 101:180], q=2-31, 30 fps, 15360 tbn\n",
      "    Metadata:\n",
      "      handler_name    : ISO Media file produced by Google Inc. Created on: 06/06/2022.\n",
      "      vendor_id       : [0][0][0][0]\n",
      "      encoder         : Lavc60.3.100 libx264\n",
      "    Side data:\n",
      "      cpb: bitrate max/min/avg: 0/0/0 buffer size: 0 vbv_delay: N/A\n",
      "  Stream #0:1(und): Audio: aac (LC) (mp4a / 0x6134706D), 44100 Hz, stereo, fltp, 128 kb/s\n",
      "    Metadata:\n",
      "      handler_name    : ISO Media file produced by Google Inc. Created on: 06/06/2022.\n",
      "      vendor_id       : [0][0][0][0]\n",
      "      encoder         : Lavc60.3.100 aac\n",
      "[mov,mp4,m4a,3gp,3g2,mj2 @ 0x112e0c250] Auto-inserting h264_mp4toannexb bitstream filter3.3x    \n",
      "[mov,mp4,m4a,3gp,3g2,mj2 @ 0x13410a200] Auto-inserting h264_mp4toannexb bitstream filter26.8x    \n",
      "[mov,mp4,m4a,3gp,3g2,mj2 @ 0x110904b00] Auto-inserting h264_mp4toannexb bitstream filter29.2x    \n",
      "frame= 1200 fps=844 q=-1.0 Lsize=    1969kB time=00:00:40.00 bitrate= 403.1kbits/s speed=28.1x    \n",
      "video:1337kB audio:588kB subtitle:0kB other streams:0kB global headers:0kB muxing overhead: 2.280303%\n",
      "[libx264 @ 0x134212ea0] frame I:7     Avg QP:17.69  size: 35175\n",
      "[libx264 @ 0x134212ea0] frame P:487   Avg QP:20.07  size:  1862\n",
      "[libx264 @ 0x134212ea0] frame B:706   Avg QP:26.26  size:   305\n",
      "[libx264 @ 0x134212ea0] consecutive B-frames:  1.2% 60.2%  3.0% 35.7%\n",
      "[libx264 @ 0x134212ea0] mb I  I16..4: 11.9% 29.8% 58.4%\n",
      "[libx264 @ 0x134212ea0] mb P  I16..4:  1.0%  1.7%  0.4%  P16..4: 19.8%  5.6%  3.5%  0.0%  0.0%    skip:68.0%\n",
      "[libx264 @ 0x134212ea0] mb B  I16..4:  0.1%  0.1%  0.0%  B16..8: 11.1%  0.9%  0.1%  direct: 0.2%  skip:87.4%  L0:32.7% L1:63.9% BI: 3.4%\n",
      "[libx264 @ 0x134212ea0] 8x8 transform intra:48.3% inter:68.5%\n",
      "[libx264 @ 0x134212ea0] coded y,uvDC,uvAC intra: 56.3% 68.0% 32.0% inter: 3.6% 4.4% 0.1%\n",
      "[libx264 @ 0x134212ea0] i16 v,h,dc,p: 28% 30% 19% 23%\n",
      "[libx264 @ 0x134212ea0] i8 v,h,dc,ddl,ddr,vr,hd,vl,hu: 22% 20% 27%  5%  4%  5%  4%  6%  6%\n",
      "[libx264 @ 0x134212ea0] i4 v,h,dc,ddl,ddr,vr,hd,vl,hu: 26% 27% 16%  5%  6%  6%  5%  6%  5%\n",
      "[libx264 @ 0x134212ea0] i8c dc,h,v,p: 47% 26% 21%  6%\n",
      "[libx264 @ 0x134212ea0] Weighted P-Frames: Y:0.0% UV:0.0%\n",
      "[libx264 @ 0x134212ea0] ref P L0: 74.7%  8.6% 13.2%  3.5%\n",
      "[libx264 @ 0x134212ea0] ref B L0: 88.7%  9.5%  1.7%\n",
      "[libx264 @ 0x134212ea0] ref B L1: 98.5%  1.5%\n",
      "[libx264 @ 0x134212ea0] kb/s:273.62\n",
      "[aac @ 0x1342141b0] Qavg: 6298.941\n"
     ]
    }
   ],
   "source": [
    "resized_video = media_editor.resize_video(\n",
    "    original_video_file=audiovideo_file,\n",
    "    resized_video_file_path=DEST_MP4_AUDIOVIDEO_PATH,\n",
    "    width=405,\n",
    "    height=720,\n",
    "    segments=segments,\n",
    "    audio_codec=\"aac\",\n",
    "    video_codec=\"libx264\",\n",
    "    crf=\"18\",\n",
    "    preset=\"veryfast\",\n",
    "    num_threads=\"0\",\n",
    "    overwrite=True,\n",
    ")"
   ]
  }
 ],
 "metadata": {
  "kernelspec": {
   "display_name": "venv",
   "language": "python",
   "name": "python3"
  },
  "language_info": {
   "codemirror_mode": {
    "name": "ipython",
    "version": 3
   },
   "file_extension": ".py",
   "mimetype": "text/x-python",
   "name": "python",
   "nbconvert_exporter": "python",
   "pygments_lexer": "ipython3",
   "version": "3.11.5"
  },
  "orig_nbformat": 4
 },
 "nbformat": 4,
 "nbformat_minor": 2
}
