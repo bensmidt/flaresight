{
 "cells": [
  {
   "cell_type": "markdown",
   "metadata": {},
   "source": [
    "## Setup"
   ]
  },
  {
   "cell_type": "code",
   "execution_count": 7,
   "metadata": {},
   "outputs": [
    {
     "name": "stdout",
     "output_type": "stream",
     "text": [
      "The autoreload extension is already loaded. To reload it, use:\n",
      "  %reload_ext autoreload\n"
     ]
    }
   ],
   "source": [
    "%load_ext autoreload\n",
    "%autoreload 2"
   ]
  },
  {
   "cell_type": "code",
   "execution_count": 8,
   "metadata": {},
   "outputs": [
    {
     "name": "stdout",
     "output_type": "stream",
     "text": [
      "['/Users/bensmidt/Documents/cai/backend/src', '/Users/bensmidt/Documents/cai/backend/test', '/Users/bensmidt/Documents/cai/backend/src', '/Users/bensmidt/Documents/cai/backend/test', '/Users/bensmidt/Documents/cai/backend/sample_usage/media', '/opt/homebrew/Cellar/python@3.11/3.11.5/Frameworks/Python.framework/Versions/3.11/lib/python311.zip', '/opt/homebrew/Cellar/python@3.11/3.11.5/Frameworks/Python.framework/Versions/3.11/lib/python3.11', '/opt/homebrew/Cellar/python@3.11/3.11.5/Frameworks/Python.framework/Versions/3.11/lib/python3.11/lib-dynload', '', '/Users/bensmidt/Documents/cai/backend/env/lib/python3.11/site-packages', '/Users/bensmidt/Documents/cai/backend/src']\n"
     ]
    }
   ],
   "source": [
    "import sys, os\n",
    "\n",
    "ROOT_PATH = os.path.abspath(os.path.join(\"..\", \"..\"))\n",
    "SRC_PATH = os.path.join(ROOT_PATH, \"src\")\n",
    "TEST_PATH = os.path.join(ROOT_PATH, \"test\")\n",
    "sys.path.insert(0, TEST_PATH)\n",
    "sys.path.insert(0, SRC_PATH)\n",
    "print(sys.path)"
   ]
  },
  {
   "cell_type": "code",
   "execution_count": 9,
   "metadata": {},
   "outputs": [],
   "source": [
    "import logging, socket\n",
    "\n",
    "logger = logging.getLogger()\n",
    "fhandler = logging.FileHandler(filename=\"image_file.log\", mode=\"w\")\n",
    "format_str = f\"[%(asctime)s {socket.gethostname()}] %(filename)s:%(funcName)s:%(lineno)s - %(levelname)s: %(message)s\"\n",
    "formatter = logging.Formatter(format_str)\n",
    "fhandler.setFormatter(formatter)\n",
    "logger.addHandler(fhandler)\n",
    "logger.setLevel(logging.DEBUG)"
   ]
  },
  {
   "cell_type": "code",
   "execution_count": 10,
   "metadata": {},
   "outputs": [],
   "source": [
    "from media.image_file import ImageFile\n",
    "from test_files import TestFiles"
   ]
  },
  {
   "cell_type": "code",
   "execution_count": 11,
   "metadata": {},
   "outputs": [],
   "source": [
    "test_files = TestFiles()"
   ]
  },
  {
   "cell_type": "markdown",
   "metadata": {},
   "source": [
    "## Paths"
   ]
  },
  {
   "cell_type": "code",
   "execution_count": 12,
   "metadata": {},
   "outputs": [],
   "source": [
    "MP4_VIDEO_PATH = test_files.get_mp4_video_file_paths()[0]\n",
    "JPEG_IMAGE_PATH = test_files.get_jpeg_image_file_paths()[0]\n",
    "MP3_AUDIO_PATH = test_files.get_mp3_audio_file_paths()[0]\n",
    "JSON_PATH = test_files.get_json_file_paths()[0]\n",
    "\n",
    "INVALID_PATH = test_files.get_invalid_paths()[0]"
   ]
  },
  {
   "cell_type": "markdown",
   "metadata": {},
   "source": [
    "## Sandbox"
   ]
  },
  {
   "cell_type": "markdown",
   "metadata": {},
   "source": [
    "## get_stream_info()"
   ]
  },
  {
   "cell_type": "code",
   "execution_count": 13,
   "metadata": {},
   "outputs": [
    {
     "name": "stdout",
     "output_type": "stream",
     "text": [
      "Pixel Format: yuvj420p\n"
     ]
    }
   ],
   "source": [
    "image_file = ImageFile(JPEG_IMAGE_PATH)\n",
    "print(\"Pixel Format:\", image_file.get_stream_info(\"pix_fmt\"))"
   ]
  }
 ],
 "metadata": {
  "kernelspec": {
   "display_name": "env",
   "language": "python",
   "name": "python3"
  },
  "language_info": {
   "codemirror_mode": {
    "name": "ipython",
    "version": 3
   },
   "file_extension": ".py",
   "mimetype": "text/x-python",
   "name": "python",
   "nbconvert_exporter": "python",
   "pygments_lexer": "ipython3",
   "version": "3.11.5"
  },
  "orig_nbformat": 4
 },
 "nbformat": 4,
 "nbformat_minor": 2
}
