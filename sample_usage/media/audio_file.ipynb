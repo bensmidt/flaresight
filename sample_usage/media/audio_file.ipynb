{
 "cells": [
  {
   "cell_type": "markdown",
   "metadata": {},
   "source": [
    "## Setup"
   ]
  },
  {
   "cell_type": "code",
   "execution_count": 1,
   "metadata": {},
   "outputs": [],
   "source": [
    "%load_ext autoreload\n",
    "%autoreload 2"
   ]
  },
  {
   "cell_type": "code",
   "execution_count": 2,
   "metadata": {},
   "outputs": [
    {
     "name": "stdout",
     "output_type": "stream",
     "text": [
      "['/Users/bensmidt/Documents/cai/backend/src', '/Users/bensmidt/Documents/cai/backend/test', '/Users/bensmidt/Documents/cai/backend/sample_usage/media', '/opt/homebrew/Cellar/python@3.11/3.11.5/Frameworks/Python.framework/Versions/3.11/lib/python311.zip', '/opt/homebrew/Cellar/python@3.11/3.11.5/Frameworks/Python.framework/Versions/3.11/lib/python3.11', '/opt/homebrew/Cellar/python@3.11/3.11.5/Frameworks/Python.framework/Versions/3.11/lib/python3.11/lib-dynload', '', '/Users/bensmidt/Documents/cai/backend/env/lib/python3.11/site-packages', '/Users/bensmidt/Documents/cai/backend/src']\n"
     ]
    }
   ],
   "source": [
    "import sys, os\n",
    "\n",
    "ROOT_PATH = os.path.abspath(os.path.join(\"..\", \"..\"))\n",
    "SRC_PATH = os.path.join(ROOT_PATH, \"src\")\n",
    "TEST_PATH = os.path.join(ROOT_PATH, \"test\")\n",
    "sys.path.insert(0, TEST_PATH)\n",
    "sys.path.insert(0, SRC_PATH)\n",
    "print(sys.path)"
   ]
  },
  {
   "cell_type": "code",
   "execution_count": 3,
   "metadata": {},
   "outputs": [],
   "source": [
    "from media.audio_file import AudioFile\n",
    "from test_files import TestFiles"
   ]
  },
  {
   "cell_type": "code",
   "execution_count": 4,
   "metadata": {},
   "outputs": [],
   "source": [
    "test_files = TestFiles()"
   ]
  },
  {
   "cell_type": "markdown",
   "metadata": {},
   "source": [
    "## Paths"
   ]
  },
  {
   "cell_type": "code",
   "execution_count": 5,
   "metadata": {},
   "outputs": [],
   "source": [
    "MP4_VIDEO_PATH = test_files.get_mp4_video_file_paths()[0]\n",
    "JPEG_IMAGE_PATH = test_files.get_jpeg_image_file_paths()[0]\n",
    "MP3_AUDIO_PATH = test_files.get_mp3_audio_file_paths()[0]\n",
    "JSON_PATH = test_files.get_json_file_paths()[0]\n",
    "\n",
    "INVALID_PATH = test_files.get_invalid_paths()[0]\n",
    "TEMP_MP3_PATH = os.path.join(test_files.get_mp3_audio_dir().path, \"deleteme.mp3\")\n",
    "TEMP_WAV_PATH = os.path.join(test_files.get_wav_audio_dir().path, \"deleteme.wav\")"
   ]
  },
  {
   "cell_type": "markdown",
   "metadata": {},
   "source": [
    "## Sandbox"
   ]
  },
  {
   "cell_type": "code",
   "execution_count": null,
   "metadata": {},
   "outputs": [],
   "source": []
  },
  {
   "cell_type": "markdown",
   "metadata": {},
   "source": [
    "## get_stream_info()"
   ]
  },
  {
   "cell_type": "code",
   "execution_count": 9,
   "metadata": {},
   "outputs": [
    {
     "name": "stdout",
     "output_type": "stream",
     "text": [
      "Duration: 56.528980\n"
     ]
    }
   ],
   "source": [
    "audio_file = AudioFile(MP3_AUDIO_PATH)\n",
    "print(\"Duration:\", audio_file.get_stream_info(\"a:0\", \"duration\"))"
   ]
  },
  {
   "cell_type": "code",
   "execution_count": 11,
   "metadata": {},
   "outputs": [
    {
     "name": "stdout",
     "output_type": "stream",
     "text": [
      "Bit Rate: 161272\n"
     ]
    }
   ],
   "source": [
    "audio_file = AudioFile(MP3_AUDIO_PATH)\n",
    "print(\"Bit Rate:\", audio_file.get_stream_info(\"a:0\", \"bit_rate\"))"
   ]
  },
  {
   "cell_type": "markdown",
   "metadata": {},
   "source": [
    "## get_bitrate()"
   ]
  },
  {
   "cell_type": "code",
   "execution_count": 12,
   "metadata": {},
   "outputs": [
    {
     "name": "stdout",
     "output_type": "stream",
     "text": [
      "Bit Rate: 161272\n"
     ]
    }
   ],
   "source": [
    "audio_file = AudioFile(MP3_AUDIO_PATH)\n",
    "print(\"Bit Rate:\", audio_file.get_bitrate())"
   ]
  },
  {
   "cell_type": "markdown",
   "metadata": {},
   "source": [
    "## extract_audio()"
   ]
  },
  {
   "cell_type": "code",
   "execution_count": 6,
   "metadata": {},
   "outputs": [
    {
     "name": "stdout",
     "output_type": "stream",
     "text": [
      "/Users/bensmidt/Documents/cai/backend/test_files/media/audio/wav/deleteme.wav\n"
     ]
    }
   ],
   "source": [
    "audio_file = test_files.get_mp4_audio_files()[0]\n",
    "extract_audio_file_path = os.path.join(TEMP_WAV_PATH)\n",
    "\n",
    "audio_file = audio_file.extract_audio(\n",
    "    extract_audio_file_path,\n",
    "    audio_codec=\"pcm_s16le\",\n",
    ")\n",
    "print(audio_file.path)"
   ]
  }
 ],
 "metadata": {
  "kernelspec": {
   "display_name": "env",
   "language": "python",
   "name": "python3"
  },
  "language_info": {
   "codemirror_mode": {
    "name": "ipython",
    "version": 3
   },
   "file_extension": ".py",
   "mimetype": "text/x-python",
   "name": "python",
   "nbconvert_exporter": "python",
   "pygments_lexer": "ipython3",
   "version": "3.11.5"
  },
  "orig_nbformat": 4
 },
 "nbformat": 4,
 "nbformat_minor": 2
}
