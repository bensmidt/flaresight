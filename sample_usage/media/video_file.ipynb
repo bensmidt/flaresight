{
 "cells": [
  {
   "cell_type": "markdown",
   "metadata": {},
   "source": [
    "## Setup"
   ]
  },
  {
   "cell_type": "code",
   "execution_count": 2,
   "metadata": {},
   "outputs": [],
   "source": [
    "%load_ext autoreload\n",
    "%autoreload 2"
   ]
  },
  {
   "cell_type": "code",
   "execution_count": 3,
   "metadata": {},
   "outputs": [
    {
     "name": "stdout",
     "output_type": "stream",
     "text": [
      "['/Users/bensmidt/Documents/cai/backend/src', '/Users/bensmidt/Documents/cai/backend/test', '/Users/bensmidt/Documents/cai/backend/sample_usage/media', '/opt/homebrew/Cellar/python@3.11/3.11.5/Frameworks/Python.framework/Versions/3.11/lib/python311.zip', '/opt/homebrew/Cellar/python@3.11/3.11.5/Frameworks/Python.framework/Versions/3.11/lib/python3.11', '/opt/homebrew/Cellar/python@3.11/3.11.5/Frameworks/Python.framework/Versions/3.11/lib/python3.11/lib-dynload', '', '/Users/bensmidt/Documents/cai/backend/env/lib/python3.11/site-packages', '/Users/bensmidt/Documents/cai/backend/src']\n"
     ]
    }
   ],
   "source": [
    "import sys, os\n",
    "\n",
    "ROOT_PATH = os.path.abspath(os.path.join(\"..\", \"..\"))\n",
    "SRC_PATH = os.path.join(ROOT_PATH, \"src\")\n",
    "TEST_PATH = os.path.join(ROOT_PATH, \"test\")\n",
    "sys.path.insert(0, TEST_PATH)\n",
    "sys.path.insert(0, SRC_PATH)\n",
    "print(sys.path)"
   ]
  },
  {
   "cell_type": "code",
   "execution_count": 4,
   "metadata": {},
   "outputs": [],
   "source": [
    "from media.video_file import VideoFile\n",
    "from test_files import TestFiles"
   ]
  },
  {
   "cell_type": "code",
   "execution_count": 5,
   "metadata": {},
   "outputs": [],
   "source": [
    "test_files = TestFiles()"
   ]
  },
  {
   "cell_type": "markdown",
   "metadata": {},
   "source": [
    "## Paths"
   ]
  },
  {
   "cell_type": "code",
   "execution_count": 6,
   "metadata": {},
   "outputs": [],
   "source": [
    "MP4_VIDEO_PATH = test_files.get_mp4_video_file_paths()[-1]\n",
    "JPEG_IMAGE_PATH = test_files.get_jpeg_image_file_paths()[0]\n",
    "MP3_AUDIO_PATH = test_files.get_mp3_audio_file_paths()[0]\n",
    "JSON_PATH = test_files.get_json_file_paths()[0]\n",
    "\n",
    "INVALID_PATH = test_files.get_invalid_paths()[0]\n",
    "TEMP_JPEG_IMAGE_PATH = os.path.join(\n",
    "    test_files.get_jpeg_image_dir().path, \"deleteme.jpg\"\n",
    ")"
   ]
  },
  {
   "cell_type": "code",
   "execution_count": 7,
   "metadata": {},
   "outputs": [
    {
     "name": "stdout",
     "output_type": "stream",
     "text": [
      "['/Users/bensmidt/Documents/cai/backend/test_files/media/video/mp4/camera.mp4', '/Users/bensmidt/Documents/cai/backend/test_files/media/video/mp4/aod.mp4', '/Users/bensmidt/Documents/cai/backend/test_files/media/video/mp4/deleteme copy.mp4']\n"
     ]
    }
   ],
   "source": [
    "print(test_files.get_mp4_video_file_paths())"
   ]
  },
  {
   "cell_type": "markdown",
   "metadata": {},
   "source": [
    "## Sandbox"
   ]
  },
  {
   "cell_type": "code",
   "execution_count": null,
   "metadata": {},
   "outputs": [],
   "source": []
  },
  {
   "cell_type": "markdown",
   "metadata": {},
   "source": [
    "## get_bitrate()"
   ]
  },
  {
   "cell_type": "code",
   "execution_count": 8,
   "metadata": {},
   "outputs": [
    {
     "name": "stdout",
     "output_type": "stream",
     "text": [
      "/Users/bensmidt/Documents/cai/backend/test_files/media/video/mp4/camera.mp4\n",
      "Bit Rate: 475641\n"
     ]
    }
   ],
   "source": [
    "video_file = test_files.get_mp4_video_files()[0]\n",
    "print(video_file.path)\n",
    "print(\"Bit Rate:\", video_file.get_bitrate())"
   ]
  },
  {
   "cell_type": "markdown",
   "metadata": {},
   "source": [
    "## extract_frame()"
   ]
  },
  {
   "cell_type": "code",
   "execution_count": 9,
   "metadata": {},
   "outputs": [
    {
     "name": "stdout",
     "output_type": "stream",
     "text": [
      "/Users/bensmidt/Documents/cai/backend/test_files/media/video/mp4/camera.mp4\n",
      "/Users/bensmidt/Documents/cai/backend/test_files/media/image/jpeg/deleteme.jpg\n"
     ]
    }
   ],
   "source": [
    "video_file = test_files.get_mp4_video_files()[0]\n",
    "print(video_file.path)\n",
    "frame = video_file.extract_frame(1, TEMP_JPEG_IMAGE_PATH)\n",
    "print(frame.path)"
   ]
  },
  {
   "cell_type": "markdown",
   "metadata": {},
   "source": [
    "## extract_thumbnail()"
   ]
  },
  {
   "cell_type": "code",
   "execution_count": 10,
   "metadata": {},
   "outputs": [
    {
     "name": "stdout",
     "output_type": "stream",
     "text": [
      "/Users/bensmidt/Documents/cai/backend/test_files/media/video/mp4/camera.mp4\n",
      "/Users/bensmidt/Documents/cai/backend/test_files/media/image/jpeg/deleteme.jpg\n"
     ]
    }
   ],
   "source": [
    "video_file = test_files.get_mp4_video_files()[0]\n",
    "print(video_file.path)\n",
    "frame = video_file.extract_thumbnail(TEMP_JPEG_IMAGE_PATH)\n",
    "print(frame.path)"
   ]
  }
 ],
 "metadata": {
  "kernelspec": {
   "display_name": "env",
   "language": "python",
   "name": "python3"
  },
  "language_info": {
   "codemirror_mode": {
    "name": "ipython",
    "version": 3
   },
   "file_extension": ".py",
   "mimetype": "text/x-python",
   "name": "python",
   "nbconvert_exporter": "python",
   "pygments_lexer": "ipython3",
   "version": "3.11.5"
  },
  "orig_nbformat": 4
 },
 "nbformat": 4,
 "nbformat_minor": 2
}
