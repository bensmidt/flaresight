{
 "cells": [
  {
   "cell_type": "markdown",
   "metadata": {},
   "source": [
    "## Setup"
   ]
  },
  {
   "cell_type": "code",
   "execution_count": 1,
   "metadata": {},
   "outputs": [],
   "source": [
    "%load_ext autoreload\n",
    "%autoreload 2"
   ]
  },
  {
   "cell_type": "code",
   "execution_count": 2,
   "metadata": {},
   "outputs": [
    {
     "name": "stdout",
     "output_type": "stream",
     "text": [
      "['c:\\\\Users\\\\benja\\\\Documents\\\\miru\\\\flaresight\\\\flaresight', 'c:\\\\Users\\\\benja\\\\Documents\\\\miru\\\\flaresight\\\\sample_usage\\\\storage', 'C:\\\\Users\\\\benja\\\\AppData\\\\Local\\\\Programs\\\\Python\\\\Python311\\\\python311.zip', 'C:\\\\Users\\\\benja\\\\AppData\\\\Local\\\\Programs\\\\Python\\\\Python311\\\\DLLs', 'C:\\\\Users\\\\benja\\\\AppData\\\\Local\\\\Programs\\\\Python\\\\Python311\\\\Lib', 'C:\\\\Users\\\\benja\\\\AppData\\\\Local\\\\Programs\\\\Python\\\\Python311', 'c:\\\\Users\\\\benja\\\\Documents\\\\miru\\\\flaresight\\\\env', '', 'c:\\\\Users\\\\benja\\\\Documents\\\\miru\\\\flaresight\\\\env\\\\Lib\\\\site-packages', 'c:\\\\Users\\\\benja\\\\Documents\\\\miru\\\\flaresight\\\\env\\\\Lib\\\\site-packages\\\\win32', 'c:\\\\Users\\\\benja\\\\Documents\\\\miru\\\\flaresight\\\\env\\\\Lib\\\\site-packages\\\\win32\\\\lib', 'c:\\\\Users\\\\benja\\\\Documents\\\\miru\\\\flaresight\\\\env\\\\Lib\\\\site-packages\\\\Pythonwin']\n"
     ]
    }
   ],
   "source": [
    "import sys, os\n",
    "\n",
    "ROOT_PATH = os.path.abspath(os.path.join(\"..\", \"..\"))\n",
    "SRC_PATH = os.path.join(ROOT_PATH, \"flaresight\")\n",
    "DOWNLOADS_PATH = os.path.join(os.path.expanduser(\"~\"), \"downloads\")\n",
    "sys.path.insert(0, SRC_PATH)\n",
    "print(sys.path)"
   ]
  },
  {
   "cell_type": "code",
   "execution_count": 3,
   "metadata": {},
   "outputs": [],
   "source": [
    "from filesys.dir import Dir\n",
    "from filesys.file import File\n",
    "from storage.gcloud_blob import GCloudBlob"
   ]
  },
  {
   "cell_type": "markdown",
   "metadata": {},
   "source": [
    "## constructor"
   ]
  },
  {
   "cell_type": "code",
   "execution_count": 4,
   "metadata": {},
   "outputs": [],
   "source": [
    "# valid blob\n",
    "bucket_name = \"flaresight_data\"\n",
    "blob_path = [\"dfire\", \"test\", \"images\", \"AoF06723.jpg\"]\n",
    "valid_blob = GCloudBlob(bucket_name, blob_path)"
   ]
  },
  {
   "cell_type": "code",
   "execution_count": 5,
   "metadata": {},
   "outputs": [],
   "source": [
    "# invalid bob\n",
    "bucket_name = \"flaresight_data\"\n",
    "blob_path = [\"invalid\", \"path\"]\n",
    "invalid_blob = GCloudBlob(bucket_name, blob_path)"
   ]
  },
  {
   "cell_type": "markdown",
   "metadata": {},
   "source": [
    "## check_exists()"
   ]
  },
  {
   "cell_type": "code",
   "execution_count": 6,
   "metadata": {},
   "outputs": [
    {
     "name": "stdout",
     "output_type": "stream",
     "text": [
      "Blob exists: None\n",
      "Blob doesn't exists: Blob '['invalid', 'path']' does not exist in bucket 'flaresight_data'.\n"
     ]
    }
   ],
   "source": [
    "print(\"Blob exists:\", valid_blob.check_exists())\n",
    "print(\"Blob doesn't exists:\", invalid_blob.check_exists())"
   ]
  },
  {
   "cell_type": "markdown",
   "metadata": {},
   "source": [
    "## exists()"
   ]
  },
  {
   "cell_type": "code",
   "execution_count": 8,
   "metadata": {},
   "outputs": [
    {
     "name": "stdout",
     "output_type": "stream",
     "text": [
      "Blob exists: True\n",
      "Blob doesn't exists: False\n"
     ]
    }
   ],
   "source": [
    "print(\"Blob exists:\", valid_blob.exists())\n",
    "print(\"Blob doesn't exists:\", invalid_blob.exists())"
   ]
  },
  {
   "cell_type": "markdown",
   "metadata": {},
   "source": [
    "## assert_exists()"
   ]
  },
  {
   "cell_type": "code",
   "execution_count": 9,
   "metadata": {},
   "outputs": [
    {
     "name": "stdout",
     "output_type": "stream",
     "text": [
      "Blob exists: None\n"
     ]
    }
   ],
   "source": [
    "print(\"Blob exists:\", valid_blob.assert_exists())"
   ]
  },
  {
   "cell_type": "code",
   "execution_count": 10,
   "metadata": {},
   "outputs": [
    {
     "ename": "BlobNotFoundError",
     "evalue": "Blob '['invalid', 'path']' does not exist in bucket 'cai-dev.appspot.com.",
     "output_type": "error",
     "traceback": [
      "\u001b[0;31m---------------------------------------------------------------------------\u001b[0m",
      "\u001b[0;31mBlobNotFoundError\u001b[0m                         Traceback (most recent call last)",
      "Cell \u001b[0;32mIn[10], line 1\u001b[0m\n\u001b[0;32m----> 1\u001b[0m \u001b[38;5;28mprint\u001b[39m(\u001b[38;5;124m\"\u001b[39m\u001b[38;5;124mBlob doesn\u001b[39m\u001b[38;5;124m'\u001b[39m\u001b[38;5;124mt exists:\u001b[39m\u001b[38;5;124m\"\u001b[39m, \u001b[43minvalid_blob\u001b[49m\u001b[38;5;241;43m.\u001b[39;49m\u001b[43massert_exists\u001b[49m\u001b[43m(\u001b[49m\u001b[43m)\u001b[49m)\n",
      "File \u001b[0;32m~/Documents/miru/flaresight/flaresight/storage/gcloud_blob.py:173\u001b[0m, in \u001b[0;36mGCloudBlob.assert_exists\u001b[0;34m(self)\u001b[0m\n\u001b[1;32m    171\u001b[0m error \u001b[38;5;241m=\u001b[39m \u001b[38;5;28mself\u001b[39m\u001b[38;5;241m.\u001b[39mcheck_exists()\n\u001b[1;32m    172\u001b[0m \u001b[38;5;28;01mif\u001b[39;00m error \u001b[38;5;129;01mis\u001b[39;00m \u001b[38;5;129;01mnot\u001b[39;00m \u001b[38;5;28;01mNone\u001b[39;00m:\n\u001b[0;32m--> 173\u001b[0m     \u001b[38;5;28;01mraise\u001b[39;00m BlobNotFoundError(error)\n",
      "\u001b[0;31mBlobNotFoundError\u001b[0m: Blob '['invalid', 'path']' does not exist in bucket 'cai-dev.appspot.com."
     ]
    }
   ],
   "source": [
    "print(\"Blob doesn't exists:\", invalid_blob.assert_exists())"
   ]
  },
  {
   "cell_type": "markdown",
   "metadata": {},
   "source": [
    "## check_does_not_exist()"
   ]
  },
  {
   "cell_type": "code",
   "execution_count": 13,
   "metadata": {},
   "outputs": [
    {
     "name": "stdout",
     "output_type": "stream",
     "text": [
      "Blob exists: Blob '['H9.pdf']' already exists in bucket 'flaresight_data'\n",
      "Blob doesn't exists: None\n"
     ]
    }
   ],
   "source": [
    "print(\"Blob exists:\", valid_blob.check_does_not_exist())\n",
    "print(\"Blob doesn't exists:\", invalid_blob.check_does_not_exist())"
   ]
  },
  {
   "cell_type": "markdown",
   "metadata": {},
   "source": [
    "## assert_does_not_exist()"
   ]
  },
  {
   "cell_type": "code",
   "execution_count": 14,
   "metadata": {},
   "outputs": [
    {
     "ename": "BlobAlreadyExistsError",
     "evalue": "Blob '['H9.pdf']' already exists in bucket 'flaresight_data'",
     "output_type": "error",
     "traceback": [
      "\u001b[0;31m---------------------------------------------------------------------------\u001b[0m",
      "\u001b[0;31mBlobAlreadyExistsError\u001b[0m                    Traceback (most recent call last)",
      "Cell \u001b[0;32mIn[14], line 1\u001b[0m\n\u001b[0;32m----> 1\u001b[0m \u001b[38;5;28mprint\u001b[39m(\u001b[38;5;124m\"\u001b[39m\u001b[38;5;124mBlob exists:\u001b[39m\u001b[38;5;124m\"\u001b[39m, \u001b[43mvalid_blob\u001b[49m\u001b[38;5;241;43m.\u001b[39;49m\u001b[43massert_does_not_exist\u001b[49m\u001b[43m(\u001b[49m\u001b[43m)\u001b[49m)\n",
      "File \u001b[0;32m~/Documents/miru/flaresight/flaresight/storage/gcloud_blob.py:216\u001b[0m, in \u001b[0;36mGCloudBlob.assert_does_not_exist\u001b[0;34m(self)\u001b[0m\n\u001b[1;32m    214\u001b[0m error \u001b[38;5;241m=\u001b[39m \u001b[38;5;28mself\u001b[39m\u001b[38;5;241m.\u001b[39mcheck_does_not_exist()\n\u001b[1;32m    215\u001b[0m \u001b[38;5;28;01mif\u001b[39;00m error \u001b[38;5;129;01mis\u001b[39;00m \u001b[38;5;129;01mnot\u001b[39;00m \u001b[38;5;28;01mNone\u001b[39;00m:\n\u001b[0;32m--> 216\u001b[0m     \u001b[38;5;28;01mraise\u001b[39;00m BlobAlreadyExistsError(error)\n",
      "\u001b[0;31mBlobAlreadyExistsError\u001b[0m: Blob '['H9.pdf']' already exists in bucket 'flaresight_data'"
     ]
    }
   ],
   "source": [
    "print(\"Blob exists:\", valid_blob.assert_does_not_exist())"
   ]
  },
  {
   "cell_type": "code",
   "execution_count": 15,
   "metadata": {},
   "outputs": [
    {
     "name": "stdout",
     "output_type": "stream",
     "text": [
      "Blob doesn't exists: None\n"
     ]
    }
   ],
   "source": [
    "print(\"Blob doesn't exists:\", invalid_blob.assert_does_not_exist())"
   ]
  },
  {
   "cell_type": "markdown",
   "metadata": {},
   "source": [
    "## download()"
   ]
  },
  {
   "cell_type": "code",
   "execution_count": 31,
   "metadata": {},
   "outputs": [],
   "source": [
    "# valid blob\n",
    "bucket_name = \"flaresight_data\"\n",
    "file_name = \"AoF06919\"\n",
    "blob_path = [\"dfire\", \"test\", \"images\", \"{}.jpg\".format(file_name)]\n",
    "blob = GCloudBlob(bucket_name, blob_path)\n",
    "file_path = os.path.join(DOWNLOADS_PATH, \"img.jpg\")\n",
    "file = blob.download(file_path)"
   ]
  },
  {
   "cell_type": "code",
   "execution_count": 32,
   "metadata": {},
   "outputs": [],
   "source": [
    "blob_path = [\"dfire\", \"test\", \"labels\", \"{}.txt\".format(file_name)]\n",
    "blob = GCloudBlob(bucket_name, blob_path)\n",
    "file_path = os.path.join(DOWNLOADS_PATH, \"label.txt\")\n",
    "file = blob.download(file_path)"
   ]
  },
  {
   "cell_type": "markdown",
   "metadata": {},
   "source": [
    "## upload()"
   ]
  },
  {
   "cell_type": "code",
   "execution_count": 22,
   "metadata": {},
   "outputs": [],
   "source": [
    "# valid blob\n",
    "bucket_name = \"flaresight_data\"\n",
    "blob_path = [\"jaja.pdf\"]\n",
    "blob = GCloudBlob(bucket_name, blob_path)\n",
    "file = File(os.path.join(os.path.expanduser(\"~\"), \"Downloads\", \"H9.pdf\"))\n",
    "file = blob.upload(file)"
   ]
  },
  {
   "cell_type": "markdown",
   "metadata": {},
   "source": [
    "## upload_dir()"
   ]
  },
  {
   "cell_type": "code",
   "execution_count": 33,
   "metadata": {},
   "outputs": [],
   "source": [
    "bucket_name = \"flaresight_data\"\n",
    "blob_path = [\"yolov5-fire-detection\"]\n",
    "blob = GCloudBlob(bucket_name, blob_path)\n",
    "dir = Dir(os.path.join(os.path.expanduser(\"~\"), \"Downloads\", \"yolov5-fire-detection\"))\n",
    "blob.upload_dir(dir, overwrite=False)"
   ]
  },
  {
   "cell_type": "markdown",
   "metadata": {},
   "source": [
    "## get_viewable_signed_url()"
   ]
  },
  {
   "cell_type": "code",
   "execution_count": 29,
   "metadata": {},
   "outputs": [
    {
     "name": "stdout",
     "output_type": "stream",
     "text": [
      "https://storage.googleapis.com/cai-dev.appspot.com/watermarks/white.png?Expires=1694796258&GoogleAccessId=cai-dev%40appspot.gserviceaccount.com&Signature=dcPWsZpwz6bQXwEtVLZSpl3WSIwC3WxIJ9DtZtlXrJDI588f30ub2FHEWdTwDiuuS28rXEl1wj3aHVovFql7SLBOrD8SeiHkqmXLyBLdjfXniFa2n56zFV1f0IO%2FJOAWMSNvl5SR5eDqH2D6UaIo7Vuiji%2BQedyZsGd1gS%2FK9%2BeC%2B0XFfgpadh4C7utt05RODq4S782u6rc%2B%2Bbw%2BYT0q%2F7gLgVwrSI3r9gZtyBTm%2BBYyN%2B9KPwpH%2BPY%2Bc8ySw3nC%2BfzVqBqgGNuyjOzokAxiPVQGLqUGXwwMZiXz1Vw0y%2FzT%2BIC90cOT3faBvaABlgY3OeH8ik6xJC52lnq5kMVzEQ%3D%3D\n"
     ]
    }
   ],
   "source": [
    "# valid blob\n",
    "bucket_name = \"cai-dev.appspot.com\"\n",
    "blob_path = [\"watermarks\", \"white.png\"]\n",
    "blob = GCloudBlob(bucket_name, blob_path)\n",
    "duration = 600\n",
    "print(blob.get_viewable_signed_url(duration))"
   ]
  },
  {
   "cell_type": "markdown",
   "metadata": {},
   "source": [
    "## get_downloadable_signed_url()"
   ]
  },
  {
   "cell_type": "code",
   "execution_count": 30,
   "metadata": {},
   "outputs": [
    {
     "name": "stdout",
     "output_type": "stream",
     "text": [
      "https://storage.googleapis.com/cai-dev.appspot.com/watermarks/white.png?Expires=1694796272&GoogleAccessId=cai-dev%40appspot.gserviceaccount.com&Signature=Fg%2BbepwfvHYWIleO69ocx5CWfwv4cOPScNbletnMeeICsPc56VV0GJhcdUTJsY2bPFgqu1dd%2BGCmJMTADrqr1OvhhCV7Y5X8iyrTS50KaUotHGZh2fXQFdbEkDLJbKwXcKrCM4nhPlyWLzVmq5fKPH79j5YV%2Fv7HgYOfZjQjAiwwtwhDKBJ1EFAcffGZWekjmEOyoc%2BNQS6QfzzEBQ4fU9gxUYUYU5sqfsuoMfOqqx6bTMqLSmcyvTanbpEBsAJ3YWUk3QHrEAM0T%2FjovMF9ZqAsBXzNZWy1t46bQixZuZOGmIoYoK3v%2F4t1nACzEVuM%2Bgo4lKWJy%2BZPdgukaNZizw%3D%3D&response-content-disposition=attachment%3B+filename%3Dwhite.png\n"
     ]
    }
   ],
   "source": [
    "# valid blob\n",
    "bucket_name = \"cai-dev.appspot.com\"\n",
    "blob_path = [\"watermarks\", \"white.png\"]\n",
    "blob = GCloudBlob(bucket_name, blob_path)\n",
    "duration = 600\n",
    "title = \"white\"\n",
    "file_extension = \"png\"\n",
    "print(blob.get_downloadable_signed_url(duration, title, file_extension))"
   ]
  },
  {
   "cell_type": "markdown",
   "metadata": {},
   "source": [
    "## delete"
   ]
  },
  {
   "cell_type": "code",
   "execution_count": 32,
   "metadata": {},
   "outputs": [],
   "source": [
    "bucket_name = \"cai-dev.appspot.com\"\n",
    "blob_path = [\"downloaded_transcript\", \"ad9187b2-ec22-4770-b523-0f396b99d4c2\"]\n",
    "blob = GCloudBlob(bucket_name, blob_path)\n",
    "blob.delete()"
   ]
  },
  {
   "cell_type": "code",
   "execution_count": null,
   "metadata": {},
   "outputs": [],
   "source": [
    "bucket_name = \"cai-dev.appspot.com\"\n",
    "blob_path = [\"invalid\", \"path\"]\n",
    "blob = GCloudBlob(bucket_name, blob_path)\n",
    "blob.delete()"
   ]
  },
  {
   "cell_type": "markdown",
   "metadata": {},
   "source": [
    "## get_mime_type()"
   ]
  },
  {
   "cell_type": "code",
   "execution_count": 13,
   "metadata": {},
   "outputs": [
    {
     "name": "stdout",
     "output_type": "stream",
     "text": [
      "image/png\n"
     ]
    }
   ],
   "source": [
    "bucket_name = \"cai-dev.appspot.com\"\n",
    "blob_path = [\"watermarks\", \"white.png\"]\n",
    "blob = GCloudBlob(bucket_name, blob_path)\n",
    "blob.assert_exists()\n",
    "print(blob.get_mime_type())"
   ]
  },
  {
   "cell_type": "markdown",
   "metadata": {},
   "source": [
    "## get_file_type()"
   ]
  },
  {
   "cell_type": "code",
   "execution_count": 15,
   "metadata": {},
   "outputs": [
    {
     "name": "stdout",
     "output_type": "stream",
     "text": [
      "image\n"
     ]
    }
   ],
   "source": [
    "bucket_name = \"cai-dev.appspot.com\"\n",
    "blob_path = [\"watermarks\", \"white.png\"]\n",
    "blob = GCloudBlob(bucket_name, blob_path)\n",
    "blob.assert_exists()\n",
    "print(blob.get_file_type())"
   ]
  },
  {
   "cell_type": "markdown",
   "metadata": {},
   "source": [
    "## get_file_sybtype()"
   ]
  },
  {
   "cell_type": "code",
   "execution_count": 17,
   "metadata": {},
   "outputs": [
    {
     "name": "stdout",
     "output_type": "stream",
     "text": [
      "image\n"
     ]
    }
   ],
   "source": [
    "bucket_name = \"cai-dev.appspot.com\"\n",
    "blob_path = [\"watermarks\", \"white.png\"]\n",
    "blob = GCloudBlob(bucket_name, blob_path)\n",
    "blob.assert_exists()\n",
    "print(blob.get_file_type())"
   ]
  },
  {
   "cell_type": "markdown",
   "metadata": {},
   "source": [
    "## get_file_size()"
   ]
  },
  {
   "cell_type": "code",
   "execution_count": 18,
   "metadata": {},
   "outputs": [
    {
     "name": "stdout",
     "output_type": "stream",
     "text": [
      "483200\n"
     ]
    }
   ],
   "source": [
    "# valid blob\n",
    "bucket_name = \"cai-dev.appspot.com\"\n",
    "blob_path = [\"watermarks\", \"white.png\"]\n",
    "blob = GCloudBlob(bucket_name, blob_path)\n",
    "blob.assert_exists()\n",
    "print(blob.get_file_size())"
   ]
  },
  {
   "cell_type": "markdown",
   "metadata": {},
   "source": [
    "## get_public_url()"
   ]
  },
  {
   "cell_type": "code",
   "execution_count": 9,
   "metadata": {},
   "outputs": [
    {
     "name": "stdout",
     "output_type": "stream",
     "text": [
      "https://storage.googleapis.com/cai-dev.appspot.com/watermarks/white.png\n"
     ]
    }
   ],
   "source": [
    "bucket_name = \"cai-dev.appspot.com\"\n",
    "blob_path = [\"watermarks\", \"white.png\"]\n",
    "blob = GCloudBlob(bucket_name, blob_path)\n",
    "blob.assert_exists()\n",
    "print(blob.public_url)"
   ]
  },
  {
   "cell_type": "markdown",
   "metadata": {},
   "source": [
    "## get_uri()"
   ]
  },
  {
   "cell_type": "code",
   "execution_count": 8,
   "metadata": {},
   "outputs": [
    {
     "name": "stdout",
     "output_type": "stream",
     "text": [
      "gs://cai-dev.appspot.com/watermarks/white.png\n"
     ]
    }
   ],
   "source": [
    "bucket_name = \"cai-dev.appspot.com\"\n",
    "blob_path = [\"watermarks\", \"white.png\"]\n",
    "blob = GCloudBlob(bucket_name, blob_path)\n",
    "blob.assert_exists()\n",
    "print(blob.uri)"
   ]
  }
 ],
 "metadata": {
  "kernelspec": {
   "display_name": "env",
   "language": "python",
   "name": "python3"
  },
  "language_info": {
   "codemirror_mode": {
    "name": "ipython",
    "version": 3
   },
   "file_extension": ".py",
   "mimetype": "text/x-python",
   "name": "python",
   "nbconvert_exporter": "python",
   "pygments_lexer": "ipython3",
   "version": "3.11.4"
  },
  "orig_nbformat": 4
 },
 "nbformat": 4,
 "nbformat_minor": 2
}
