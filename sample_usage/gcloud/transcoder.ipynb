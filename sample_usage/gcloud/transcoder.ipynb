{
 "cells": [
  {
   "attachments": {},
   "cell_type": "markdown",
   "metadata": {},
   "source": [
    "## Setup"
   ]
  },
  {
   "cell_type": "code",
   "execution_count": 1,
   "metadata": {},
   "outputs": [],
   "source": [
    "%load_ext autoreload\n",
    "%autoreload 2"
   ]
  },
  {
   "cell_type": "code",
   "execution_count": 2,
   "metadata": {},
   "outputs": [
    {
     "name": "stdout",
     "output_type": "stream",
     "text": [
      "['/Users/bensmidt/Documents/cai/backend/src', '/Users/bensmidt/Documents/cai/backend/test', '/Users/bensmidt/Documents/cai/backend/sample_usage/gcloud', '/opt/homebrew/Cellar/python@3.11/3.11.5/Frameworks/Python.framework/Versions/3.11/lib/python311.zip', '/opt/homebrew/Cellar/python@3.11/3.11.5/Frameworks/Python.framework/Versions/3.11/lib/python3.11', '/opt/homebrew/Cellar/python@3.11/3.11.5/Frameworks/Python.framework/Versions/3.11/lib/python3.11/lib-dynload', '', '/Users/bensmidt/Documents/cai/backend/env/lib/python3.11/site-packages', '/Users/bensmidt/Documents/cai/backend/src']\n"
     ]
    }
   ],
   "source": [
    "import sys, os\n",
    "\n",
    "ROOT_PATH = os.path.abspath(os.path.join(\"..\", \"..\"))\n",
    "SRC_PATH = os.path.join(ROOT_PATH, \"src\")\n",
    "TEST_PATH = os.path.join(ROOT_PATH, \"test\")\n",
    "sys.path.insert(0, TEST_PATH)\n",
    "sys.path.insert(0, SRC_PATH)\n",
    "print(sys.path)"
   ]
  },
  {
   "cell_type": "code",
   "execution_count": 3,
   "metadata": {},
   "outputs": [],
   "source": [
    "import logging, socket\n",
    "\n",
    "logger = logging.getLogger()\n",
    "fhandler = logging.FileHandler(filename=\"transcoder.log\", mode=\"w\")\n",
    "format_str = f\"[%(asctime)s {socket.gethostname()}] %(filename)s:%(funcName)s:%(lineno)s - %(levelname)s: %(message)s\"\n",
    "formatter = logging.Formatter(format_str)\n",
    "fhandler.setFormatter(formatter)\n",
    "logger.addHandler(fhandler)\n",
    "logger.setLevel(logging.INFO)"
   ]
  },
  {
   "cell_type": "code",
   "execution_count": 5,
   "metadata": {},
   "outputs": [],
   "source": [
    "from gcloud.transcoder import GCloudTranscoder\n",
    "from storage.gcloud_blob import GCloudBlob"
   ]
  },
  {
   "cell_type": "code",
   "execution_count": 7,
   "metadata": {},
   "outputs": [],
   "source": [
    "transcoder = GCloudTranscoder()"
   ]
  },
  {
   "attachments": {},
   "cell_type": "markdown",
   "metadata": {},
   "source": [
    "## create_mp4_video_trimming_job()"
   ]
  },
  {
   "cell_type": "code",
   "execution_count": 11,
   "metadata": {},
   "outputs": [
    {
     "name": "stdout",
     "output_type": "stream",
     "text": [
      "projects/461983484560/locations/us-central1/jobs/8856438d-25ba-4db2-882e-05723d2bc621\n"
     ]
    }
   ],
   "source": [
    "input_blob = GCloudBlob(\n",
    "    \"cai-dev.appspot.com\",\n",
    "    [\n",
    "        \"B9wClqo0ZYYk7P4kpRmgCJAxiCE3\",\n",
    "        \"260ca21f-67ce-4884-be34-21ddaf70038f\",\n",
    "        \"260ca21f-67ce-4884-be34-21ddaf70038f\",\n",
    "    ],\n",
    ")\n",
    "output_blob = GCloudBlob(\n",
    "    \"cai-dev.appspot.com\",\n",
    "    [\"B9wClqo0ZYYk7P4kpRmgCJAxiCE3\", \"testTranscode\", \"transcode.mp4\"],\n",
    ")\n",
    "start_second = 12\n",
    "end_second = 25\n",
    "audio_stream_settings = {\n",
    "    \"bitrate_bps\": 1411000,\n",
    "    \"codec\": \"aac\",\n",
    "}\n",
    "video_stream_settings = {\n",
    "    \"height_pixels\": 2160,\n",
    "    \"width_pixels\": 3840,\n",
    "    \"bitrate_bps\": 8899047,\n",
    "    \"frame_rate\": 30000 / 1001,\n",
    "}\n",
    "container = \"mp4\"\n",
    "location = \"us-central1\"\n",
    "\n",
    "job_status = transcoder.create_video_trim_job(\n",
    "    input_blob,\n",
    "    output_blob,\n",
    "    start_second,\n",
    "    end_second,\n",
    "    video_stream_settings,\n",
    "    audio_stream_settings,\n",
    "    container,\n",
    "    location,\n",
    ")\n",
    "print(job_status.name)"
   ]
  },
  {
   "cell_type": "markdown",
   "metadata": {},
   "source": [
    "## create_mp4_audio_trimming_job"
   ]
  },
  {
   "cell_type": "code",
   "execution_count": 18,
   "metadata": {},
   "outputs": [
    {
     "name": "stdout",
     "output_type": "stream",
     "text": [
      "projects/461983484560/locations/us-central1/jobs/913c3118-0a9b-49c9-acad-a5e45b1662af\n"
     ]
    }
   ],
   "source": [
    "input_blob = GCloudBlob(\n",
    "    \"cai-dev.appspot.com\",\n",
    "    [\n",
    "        \"B9wClqo0ZYYk7P4kpRmgCJAxiCE3\",\n",
    "        \"260ca21f-67ce-4884-be34-21ddaf70038f\",\n",
    "        \"260ca21f-67ce-4884-be34-21ddaf70038f\",\n",
    "    ],\n",
    ")\n",
    "output_blob = GCloudBlob(\n",
    "    \"cai-dev.appspot.com\",\n",
    "    [\"testTranscode\", \"transcode\"],\n",
    ")\n",
    "start_second = 12\n",
    "end_second = 25\n",
    "audio_stream_settings = {\n",
    "    \"bitrate_bps\": 1411000,\n",
    "    \"codec\": \"aac\",\n",
    "}\n",
    "video_stream_settings = {\n",
    "    \"height_pixels\": 2160,\n",
    "    \"width_pixels\": 3840,\n",
    "    \"bitrate_bps\": 8899047,\n",
    "    \"frame_rate\": 30000 / 1001,\n",
    "}\n",
    "container = \"mp4\"\n",
    "location = \"us-central1\"\n",
    "\n",
    "job_status = transcoder.create_video_trim_job(\n",
    "    input_blob,\n",
    "    output_blob,\n",
    "    start_second,\n",
    "    end_second,\n",
    "    video_stream_settings,\n",
    "    audio_stream_settings,\n",
    "    container,\n",
    "    location,\n",
    ")\n",
    "print(job_status.name)"
   ]
  },
  {
   "attachments": {},
   "cell_type": "markdown",
   "metadata": {},
   "source": [
    "## job_state()"
   ]
  },
  {
   "cell_type": "code",
   "execution_count": 32,
   "metadata": {},
   "outputs": [
    {
     "data": {
      "text/plain": [
       "'RUNNING'"
      ]
     },
     "execution_count": 32,
     "metadata": {},
     "output_type": "execute_result"
    }
   ],
   "source": [
    "job_id = os.path.split(job_status.name)[-1]\n",
    "transcoder.job_state(job_id, location)"
   ]
  },
  {
   "cell_type": "markdown",
   "metadata": {},
   "source": [
    "## Info"
   ]
  },
  {
   "cell_type": "code",
   "execution_count": 13,
   "metadata": {},
   "outputs": [
    {
     "name": "stdout",
     "output_type": "stream",
     "text": [
      "1\n",
      "Error message: No such object: cai-dev.appspot.com/B9wClqo0ZYYk7P4kpRmgCJAxiCE3/260ca21f-67ce-4884-be34-21ddaf70038f\n",
      "Error details: [type_url: \"type.googleapis.com/google.rpc.ErrorInfo\"\n",
      "value: \"\\n\\rInputNotFound\\022\\031transcoder.googleapis.com\\032p\\n\\007details\\022eNo such object: cai-dev.appspot.com/B9wClqo0ZYYk7P4kpRmgCJAxiCE3/260ca21f-67ce-4884-be34-21ddaf70038f\"\n",
      "]\n"
     ]
    },
    {
     "ename": "KeyboardInterrupt",
     "evalue": "",
     "output_type": "error",
     "traceback": [
      "\u001b[0;31m---------------------------------------------------------------------------\u001b[0m",
      "\u001b[0;31mKeyboardInterrupt\u001b[0m                         Traceback (most recent call last)",
      "\u001b[1;32m/Users/bensmidt/Documents/cai/backend/sample_usage/gcloud/gc_transcoder.ipynb Cell 8\u001b[0m line \u001b[0;36m1\n\u001b[1;32m     <a href='vscode-notebook-cell:/Users/bensmidt/Documents/cai/backend/sample_usage/gcloud/gc_transcoder.ipynb#X10sZmlsZQ%3D%3D?line=10'>11</a>\u001b[0m \u001b[39mprint\u001b[39m(\u001b[39mf\u001b[39m\u001b[39m\"\u001b[39m\u001b[39mError message: \u001b[39m\u001b[39m{\u001b[39;00merror_message\u001b[39m}\u001b[39;00m\u001b[39m\"\u001b[39m)\n\u001b[1;32m     <a href='vscode-notebook-cell:/Users/bensmidt/Documents/cai/backend/sample_usage/gcloud/gc_transcoder.ipynb#X10sZmlsZQ%3D%3D?line=11'>12</a>\u001b[0m \u001b[39mprint\u001b[39m(\u001b[39mf\u001b[39m\u001b[39m\"\u001b[39m\u001b[39mError details: \u001b[39m\u001b[39m{\u001b[39;00merror_details\u001b[39m}\u001b[39;00m\u001b[39m\"\u001b[39m)\n\u001b[0;32m---> <a href='vscode-notebook-cell:/Users/bensmidt/Documents/cai/backend/sample_usage/gcloud/gc_transcoder.ipynb#X10sZmlsZQ%3D%3D?line=12'>13</a>\u001b[0m sleep(\u001b[39m3\u001b[39;49m)\n",
      "\u001b[0;31mKeyboardInterrupt\u001b[0m: "
     ]
    }
   ],
   "source": [
    "from google.cloud.video import transcoder_v1\n",
    "from time import sleep\n",
    "\n",
    "job_id = os.path.basename(job_status.name)\n",
    "\n",
    "while job_status.state != transcoder_v1.types.Job.ProcessingState.SUCCEEDED:\n",
    "    print(str(job_status.state))\n",
    "    job_status = GoogleCloudTranscoderManager.get_job(project_id, location, job_id)\n",
    "    error_message = job_status.error.message\n",
    "    error_details = job_status.error.details\n",
    "    print(f\"Error message: {error_message}\")\n",
    "    print(f\"Error details: {error_details}\")\n",
    "    sleep(3)"
   ]
  }
 ],
 "metadata": {
  "kernelspec": {
   "display_name": "env",
   "language": "python",
   "name": "python3"
  },
  "language_info": {
   "codemirror_mode": {
    "name": "ipython",
    "version": 3
   },
   "file_extension": ".py",
   "mimetype": "text/x-python",
   "name": "python",
   "nbconvert_exporter": "python",
   "pygments_lexer": "ipython3",
   "version": "3.11.5"
  },
  "orig_nbformat": 4
 },
 "nbformat": 4,
 "nbformat_minor": 2
}
