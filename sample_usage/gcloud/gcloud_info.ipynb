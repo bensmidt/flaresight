{
 "cells": [
  {
   "attachments": {},
   "cell_type": "markdown",
   "metadata": {},
   "source": [
    "### Setup"
   ]
  },
  {
   "cell_type": "code",
   "execution_count": 1,
   "metadata": {},
   "outputs": [],
   "source": [
    "%load_ext autoreload\n",
    "%autoreload 2"
   ]
  },
  {
   "cell_type": "code",
   "execution_count": 2,
   "metadata": {},
   "outputs": [],
   "source": [
    "import sys, os"
   ]
  },
  {
   "cell_type": "code",
   "execution_count": 3,
   "metadata": {},
   "outputs": [
    {
     "name": "stdout",
     "output_type": "stream",
     "text": [
      "['/Users/bensmidt/Documents/cai/cai/servers/src', '/Users/bensmidt/Documents/cai/cai/servers/sample_usage', '/opt/homebrew/Cellar/python@3.11/3.11.2_1/Frameworks/Python.framework/Versions/3.11/lib/python311.zip', '/opt/homebrew/Cellar/python@3.11/3.11.2_1/Frameworks/Python.framework/Versions/3.11/lib/python3.11', '/opt/homebrew/Cellar/python@3.11/3.11.2_1/Frameworks/Python.framework/Versions/3.11/lib/python3.11/lib-dynload', '', '/Users/bensmidt/Documents/cai/cai/servers/env/lib/python3.11/site-packages']\n"
     ]
    }
   ],
   "source": [
    "SERVERS_PATH = os.path.abspath(\"..\")\n",
    "SRC_PATH = os.path.join(SERVERS_PATH, \"src\")\n",
    "sys.path.insert(0, SRC_PATH)\n",
    "print(sys.path)"
   ]
  },
  {
   "cell_type": "code",
   "execution_count": 4,
   "metadata": {},
   "outputs": [
    {
     "name": "stdout",
     "output_type": "stream",
     "text": [
      "None\n"
     ]
    }
   ],
   "source": [
    "from gcloud_info import GCloudInfo"
   ]
  },
  {
   "attachments": {},
   "cell_type": "markdown",
   "metadata": {},
   "source": [
    "## define_gcloud_env()"
   ]
  },
  {
   "cell_type": "code",
   "execution_count": 8,
   "metadata": {},
   "outputs": [
    {
     "data": {
      "text/plain": [
       "{'firestore_manager': <storage.firestore_database.FirestoreDatabaseManager at 0x115ccb910>,\n",
       " 'cloud_storage_manager': <storage.gcloud_blob_storage.GCloudBlobStorageManager at 0x115ccb150>,\n",
       " 'storage_bucket_projects': 'clips-ai-development.appspot.com',\n",
       " 'storage_bucket_thumbnails': 'cai-dev-thumbnails',\n",
       " 'storage_service_account_email': 'clips-ai-development@appspot.gserviceaccount.com'}"
      ]
     },
     "execution_count": 8,
     "metadata": {},
     "output_type": "execute_result"
    }
   ],
   "source": [
    "GCloudInfo.define_gcloud_project_env()"
   ]
  }
 ],
 "metadata": {
  "kernelspec": {
   "display_name": "cai",
   "language": "python",
   "name": "cai"
  },
  "language_info": {
   "codemirror_mode": {
    "name": "ipython",
    "version": 3
   },
   "file_extension": ".py",
   "mimetype": "text/x-python",
   "name": "python",
   "nbconvert_exporter": "python",
   "pygments_lexer": "ipython3",
   "version": "3.11.2"
  },
  "orig_nbformat": 4,
  "vscode": {
   "interpreter": {
    "hash": "c70580e5dc422b1d7e146cd94a565a0aeebf1916a86f8cbfc982950544ebb36e"
   }
  }
 },
 "nbformat": 4,
 "nbformat_minor": 2
}
