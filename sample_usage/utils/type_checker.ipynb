{
 "cells": [
  {
   "cell_type": "code",
   "execution_count": 1,
   "metadata": {},
   "outputs": [],
   "source": [
    "%load_ext autoreload\n",
    "%autoreload 2"
   ]
  },
  {
   "cell_type": "code",
   "execution_count": 2,
   "metadata": {},
   "outputs": [],
   "source": [
    "import sys, os"
   ]
  },
  {
   "cell_type": "code",
   "execution_count": 3,
   "metadata": {},
   "outputs": [
    {
     "name": "stdout",
     "output_type": "stream",
     "text": [
      "['/Users/bensmidt/Documents/cai/backend/src', '/Users/bensmidt/Documents/cai/backend/sample_usage/utils', '/opt/homebrew/Cellar/python@3.11/3.11.3/Frameworks/Python.framework/Versions/3.11/lib/python311.zip', '/opt/homebrew/Cellar/python@3.11/3.11.3/Frameworks/Python.framework/Versions/3.11/lib/python3.11', '/opt/homebrew/Cellar/python@3.11/3.11.3/Frameworks/Python.framework/Versions/3.11/lib/python3.11/lib-dynload', '', '/Users/bensmidt/Documents/cai/backend/env/lib/python3.11/site-packages']\n"
     ]
    }
   ],
   "source": [
    "SERVERS_PATH = os.path.abspath(\"../..\")\n",
    "SRC_PATH = os.path.join(SERVERS_PATH, \"src\")\n",
    "sys.path.insert(0, SRC_PATH)\n",
    "print(sys.path)"
   ]
  },
  {
   "cell_type": "code",
   "execution_count": 4,
   "metadata": {},
   "outputs": [],
   "source": [
    "from utils.type_checker import TypeChecker\n",
    "\n",
    "type_checker = TypeChecker()"
   ]
  },
  {
   "attachments": {},
   "cell_type": "markdown",
   "metadata": {},
   "source": [
    "## type_check()"
   ]
  },
  {
   "cell_type": "code",
   "execution_count": 5,
   "metadata": {},
   "outputs": [
    {
     "data": {
      "text/plain": [
       "\"Variable 'test' with value '1' must be of type '<class 'float'>', not type '<class 'int'>'\""
      ]
     },
     "execution_count": 5,
     "metadata": {},
     "output_type": "execute_result"
    }
   ],
   "source": [
    "type_checker.type_check(1, \"test\", float)"
   ]
  },
  {
   "attachments": {},
   "cell_type": "markdown",
   "metadata": {},
   "source": [
    "## type_check_data_with_multiple_possible_types()"
   ]
  },
  {
   "cell_type": "code",
   "execution_count": 7,
   "metadata": {},
   "outputs": [],
   "source": [
    "type_checker.type_check_data_with_multiple_possible_types(\n",
    "    4,\n",
    "    \"test\",\n",
    "    (int, float),\n",
    ")"
   ]
  },
  {
   "attachments": {},
   "cell_type": "markdown",
   "metadata": {},
   "source": [
    "## type_check_list()"
   ]
  },
  {
   "cell_type": "code",
   "execution_count": 8,
   "metadata": {},
   "outputs": [
    {
     "name": "stderr",
     "output_type": "stream",
     "text": [
      "ERROR:root:Variable 'data_labels' with value '('test', 'test', 'test')' must be of type '<class 'list'>', not type '<class 'tuple'>'\n"
     ]
    },
    {
     "ename": "TypeError",
     "evalue": "Variable 'data_labels' with value '('test', 'test', 'test')' must be of type '<class 'list'>', not type '<class 'tuple'>'",
     "output_type": "error",
     "traceback": [
      "\u001b[0;31m---------------------------------------------------------------------------\u001b[0m",
      "\u001b[0;31mTypeError\u001b[0m                                 Traceback (most recent call last)",
      "Cell \u001b[0;32mIn[8], line 1\u001b[0m\n\u001b[0;32m----> 1\u001b[0m type_checker\u001b[39m.\u001b[39;49mtype_check_list([\u001b[39m1\u001b[39;49m, \u001b[39m2\u001b[39;49m, \u001b[39m3\u001b[39;49m], (\u001b[39m'\u001b[39;49m\u001b[39mtest\u001b[39;49m\u001b[39m'\u001b[39;49m, \u001b[39m'\u001b[39;49m\u001b[39mtest\u001b[39;49m\u001b[39m'\u001b[39;49m, \u001b[39m'\u001b[39;49m\u001b[39mtest\u001b[39;49m\u001b[39m'\u001b[39;49m), \u001b[39mint\u001b[39;49m)\n",
      "File \u001b[0;32m~/Documents/cai/backend/src/utils/type_checker.py:145\u001b[0m, in \u001b[0;36mTypeChecker.type_check_list\u001b[0;34m(self, data, data_labels, possible_data_types, raise_error)\u001b[0m\n\u001b[1;32m    143\u001b[0m \u001b[39m# ensure data and data_labels are lists\u001b[39;00m\n\u001b[1;32m    144\u001b[0m \u001b[39mself\u001b[39m\u001b[39m.\u001b[39mtype_check(data, \u001b[39m\"\u001b[39m\u001b[39mdata\u001b[39m\u001b[39m\"\u001b[39m, \u001b[39mlist\u001b[39m, raise_error\u001b[39m=\u001b[39m\u001b[39mTrue\u001b[39;00m)\n\u001b[0;32m--> 145\u001b[0m \u001b[39mself\u001b[39;49m\u001b[39m.\u001b[39;49mtype_check(data_labels, \u001b[39m\"\u001b[39;49m\u001b[39mdata_labels\u001b[39;49m\u001b[39m\"\u001b[39;49m, \u001b[39mlist\u001b[39;49m, raise_error\u001b[39m=\u001b[39;49m\u001b[39mTrue\u001b[39;49;00m)\n\u001b[1;32m    147\u001b[0m \u001b[39m# ensure data and data_labels are the same length\u001b[39;00m\n\u001b[1;32m    148\u001b[0m data_len \u001b[39m=\u001b[39m \u001b[39mlen\u001b[39m(data) \n",
      "File \u001b[0;32m~/Documents/cai/backend/src/utils/type_checker.py:64\u001b[0m, in \u001b[0;36mTypeChecker.type_check\u001b[0;34m(self, data, data_label, desired_data_type, raise_error)\u001b[0m\n\u001b[1;32m     62\u001b[0m \u001b[39mif\u001b[39;00m raise_error \u001b[39m==\u001b[39m \u001b[39mTrue\u001b[39;00m: \n\u001b[1;32m     63\u001b[0m     logging\u001b[39m.\u001b[39merror(err_msg)\n\u001b[0;32m---> 64\u001b[0m     \u001b[39mraise\u001b[39;00m \u001b[39mTypeError\u001b[39;00m(err_msg)\n\u001b[1;32m     65\u001b[0m \u001b[39melse\u001b[39;00m: \u001b[39m# raise_error == False: \u001b[39;00m\n\u001b[1;32m     66\u001b[0m     \u001b[39mreturn\u001b[39;00m err_msg\n",
      "\u001b[0;31mTypeError\u001b[0m: Variable 'data_labels' with value '('test', 'test', 'test')' must be of type '<class 'list'>', not type '<class 'tuple'>'"
     ]
    }
   ],
   "source": [
    "type_checker.type_check_list([1, 2, 3], (\"test\", \"test\", \"test\"), int)"
   ]
  },
  {
   "attachments": {},
   "cell_type": "markdown",
   "metadata": {},
   "source": [
    "## type_check_dict()"
   ]
  },
  {
   "cell_type": "code",
   "execution_count": 1,
   "metadata": {},
   "outputs": [
    {
     "ename": "ModuleNotFoundError",
     "evalue": "No module named 'utils'",
     "output_type": "error",
     "traceback": [
      "\u001b[0;31m---------------------------------------------------------------------------\u001b[0m",
      "\u001b[0;31mModuleNotFoundError\u001b[0m                       Traceback (most recent call last)",
      "Cell \u001b[0;32mIn[1], line 1\u001b[0m\n\u001b[0;32m----> 1\u001b[0m \u001b[39mfrom\u001b[39;00m \u001b[39mutils\u001b[39;00m\u001b[39m.\u001b[39;00m\u001b[39mutils\u001b[39;00m \u001b[39mimport\u001b[39;00m gigabytes_to_bytes, hours_to_seconds\n\u001b[1;32m      2\u001b[0m data \u001b[39m=\u001b[39m {\n\u001b[1;32m      3\u001b[0m     \u001b[39m'\u001b[39m\u001b[39mid\u001b[39m\u001b[39m'\u001b[39m: \u001b[39m4\u001b[39m, \n\u001b[1;32m      4\u001b[0m }\n\u001b[1;32m      5\u001b[0m possible_data_types \u001b[39m=\u001b[39m { \n\u001b[1;32m      6\u001b[0m     \u001b[39m'\u001b[39m\u001b[39mid\u001b[39m\u001b[39m'\u001b[39m: (\u001b[39mstr\u001b[39m), \n\u001b[1;32m      7\u001b[0m }\n",
      "\u001b[0;31mModuleNotFoundError\u001b[0m: No module named 'utils'"
     ]
    }
   ],
   "source": [
    "data = {\n",
    "    \"id\": 4,\n",
    "}\n",
    "possible_data_types = {\n",
    "    \"id\": (str),\n",
    "}\n",
    "type_checker.type_check_dict(data, possible_data_types)"
   ]
  }
 ],
 "metadata": {
  "kernelspec": {
   "display_name": "cai",
   "language": "python",
   "name": "cai"
  },
  "language_info": {
   "codemirror_mode": {
    "name": "ipython",
    "version": 3
   },
   "file_extension": ".py",
   "mimetype": "text/x-python",
   "name": "python",
   "nbconvert_exporter": "python",
   "pygments_lexer": "ipython3",
   "version": "3.11.3"
  },
  "orig_nbformat": 4
 },
 "nbformat": 4,
 "nbformat_minor": 2
}
